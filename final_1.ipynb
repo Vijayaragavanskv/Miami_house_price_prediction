{
 "cells": [
  {
   "cell_type": "code",
   "execution_count": 1,
   "id": "35a53759",
   "metadata": {},
   "outputs": [],
   "source": [
    "import numpy as np\n",
    "import pandas as pd\n",
    "import matplotlib.pyplot as plt\n",
    "import seaborn as sns\n",
    "from numpy import arange\n",
    "\n",
    "from scipy import stats"
   ]
  },
  {
   "cell_type": "code",
   "execution_count": 2,
   "id": "23ffca3b",
   "metadata": {},
   "outputs": [],
   "source": [
    "RS = 42"
   ]
  },
  {
   "cell_type": "code",
   "execution_count": 3,
   "id": "dd0def8d",
   "metadata": {},
   "outputs": [],
   "source": [
    "#/kaggle/input/miami-housing-dataset/miami-housing.csv\n",
    "df=pd.read_csv('miami-housing.csv')\n",
    "df.rename(columns = {'age': 'AGE', 'avno60plus': 'AVNO_60_PLUS', 'month_sold': 'MONTH_SOLD', 'structure_quality': 'STRUCTURE_QUALITY'}, inplace = True)"
   ]
  },
  {
   "cell_type": "code",
   "execution_count": 4,
   "id": "85f9de7a",
   "metadata": {
    "scrolled": true
   },
   "outputs": [
    {
     "data": {
      "text/html": [
       "<div>\n",
       "<style scoped>\n",
       "    .dataframe tbody tr th:only-of-type {\n",
       "        vertical-align: middle;\n",
       "    }\n",
       "\n",
       "    .dataframe tbody tr th {\n",
       "        vertical-align: top;\n",
       "    }\n",
       "\n",
       "    .dataframe thead th {\n",
       "        text-align: right;\n",
       "    }\n",
       "</style>\n",
       "<table border=\"1\" class=\"dataframe\">\n",
       "  <thead>\n",
       "    <tr style=\"text-align: right;\">\n",
       "      <th></th>\n",
       "      <th>LATITUDE</th>\n",
       "      <th>LONGITUDE</th>\n",
       "      <th>PARCELNO</th>\n",
       "      <th>SALE_PRC</th>\n",
       "      <th>LND_SQFOOT</th>\n",
       "      <th>TOT_LVG_AREA</th>\n",
       "      <th>SPEC_FEAT_VAL</th>\n",
       "      <th>RAIL_DIST</th>\n",
       "      <th>OCEAN_DIST</th>\n",
       "      <th>WATER_DIST</th>\n",
       "      <th>CNTR_DIST</th>\n",
       "      <th>SUBCNTR_DI</th>\n",
       "      <th>HWY_DIST</th>\n",
       "      <th>AGE</th>\n",
       "      <th>AVNO_60_PLUS</th>\n",
       "      <th>MONTH_SOLD</th>\n",
       "      <th>STRUCTURE_QUALITY</th>\n",
       "    </tr>\n",
       "  </thead>\n",
       "  <tbody>\n",
       "    <tr>\n",
       "      <th>0</th>\n",
       "      <td>25.891031</td>\n",
       "      <td>-80.160561</td>\n",
       "      <td>622280070620</td>\n",
       "      <td>440000.0</td>\n",
       "      <td>9375</td>\n",
       "      <td>1753</td>\n",
       "      <td>0</td>\n",
       "      <td>2815.9</td>\n",
       "      <td>12811.4</td>\n",
       "      <td>347.6</td>\n",
       "      <td>42815.3</td>\n",
       "      <td>37742.2</td>\n",
       "      <td>15954.9</td>\n",
       "      <td>67</td>\n",
       "      <td>0</td>\n",
       "      <td>8</td>\n",
       "      <td>4</td>\n",
       "    </tr>\n",
       "    <tr>\n",
       "      <th>1</th>\n",
       "      <td>25.891324</td>\n",
       "      <td>-80.153968</td>\n",
       "      <td>622280100460</td>\n",
       "      <td>349000.0</td>\n",
       "      <td>9375</td>\n",
       "      <td>1715</td>\n",
       "      <td>0</td>\n",
       "      <td>4359.1</td>\n",
       "      <td>10648.4</td>\n",
       "      <td>337.8</td>\n",
       "      <td>43504.9</td>\n",
       "      <td>37340.5</td>\n",
       "      <td>18125.0</td>\n",
       "      <td>63</td>\n",
       "      <td>0</td>\n",
       "      <td>9</td>\n",
       "      <td>4</td>\n",
       "    </tr>\n",
       "    <tr>\n",
       "      <th>2</th>\n",
       "      <td>25.891334</td>\n",
       "      <td>-80.153740</td>\n",
       "      <td>622280100470</td>\n",
       "      <td>800000.0</td>\n",
       "      <td>9375</td>\n",
       "      <td>2276</td>\n",
       "      <td>49206</td>\n",
       "      <td>4412.9</td>\n",
       "      <td>10574.1</td>\n",
       "      <td>297.1</td>\n",
       "      <td>43530.4</td>\n",
       "      <td>37328.7</td>\n",
       "      <td>18200.5</td>\n",
       "      <td>61</td>\n",
       "      <td>0</td>\n",
       "      <td>2</td>\n",
       "      <td>4</td>\n",
       "    </tr>\n",
       "    <tr>\n",
       "      <th>3</th>\n",
       "      <td>25.891765</td>\n",
       "      <td>-80.152657</td>\n",
       "      <td>622280100530</td>\n",
       "      <td>988000.0</td>\n",
       "      <td>12450</td>\n",
       "      <td>2058</td>\n",
       "      <td>10033</td>\n",
       "      <td>4585.0</td>\n",
       "      <td>10156.5</td>\n",
       "      <td>0.0</td>\n",
       "      <td>43797.5</td>\n",
       "      <td>37423.2</td>\n",
       "      <td>18514.4</td>\n",
       "      <td>63</td>\n",
       "      <td>0</td>\n",
       "      <td>9</td>\n",
       "      <td>4</td>\n",
       "    </tr>\n",
       "    <tr>\n",
       "      <th>4</th>\n",
       "      <td>25.891825</td>\n",
       "      <td>-80.154639</td>\n",
       "      <td>622280100200</td>\n",
       "      <td>755000.0</td>\n",
       "      <td>12800</td>\n",
       "      <td>1684</td>\n",
       "      <td>16681</td>\n",
       "      <td>4063.4</td>\n",
       "      <td>10836.8</td>\n",
       "      <td>326.6</td>\n",
       "      <td>43599.7</td>\n",
       "      <td>37550.8</td>\n",
       "      <td>17903.4</td>\n",
       "      <td>42</td>\n",
       "      <td>0</td>\n",
       "      <td>7</td>\n",
       "      <td>4</td>\n",
       "    </tr>\n",
       "  </tbody>\n",
       "</table>\n",
       "</div>"
      ],
      "text/plain": [
       "    LATITUDE  LONGITUDE      PARCELNO  SALE_PRC  LND_SQFOOT  TOT_LVG_AREA  \\\n",
       "0  25.891031 -80.160561  622280070620  440000.0        9375          1753   \n",
       "1  25.891324 -80.153968  622280100460  349000.0        9375          1715   \n",
       "2  25.891334 -80.153740  622280100470  800000.0        9375          2276   \n",
       "3  25.891765 -80.152657  622280100530  988000.0       12450          2058   \n",
       "4  25.891825 -80.154639  622280100200  755000.0       12800          1684   \n",
       "\n",
       "   SPEC_FEAT_VAL  RAIL_DIST  OCEAN_DIST  WATER_DIST  CNTR_DIST  SUBCNTR_DI  \\\n",
       "0              0     2815.9     12811.4       347.6    42815.3     37742.2   \n",
       "1              0     4359.1     10648.4       337.8    43504.9     37340.5   \n",
       "2          49206     4412.9     10574.1       297.1    43530.4     37328.7   \n",
       "3          10033     4585.0     10156.5         0.0    43797.5     37423.2   \n",
       "4          16681     4063.4     10836.8       326.6    43599.7     37550.8   \n",
       "\n",
       "   HWY_DIST  AGE  AVNO_60_PLUS  MONTH_SOLD  STRUCTURE_QUALITY  \n",
       "0   15954.9   67             0           8                  4  \n",
       "1   18125.0   63             0           9                  4  \n",
       "2   18200.5   61             0           2                  4  \n",
       "3   18514.4   63             0           9                  4  \n",
       "4   17903.4   42             0           7                  4  "
      ]
     },
     "execution_count": 4,
     "metadata": {},
     "output_type": "execute_result"
    }
   ],
   "source": [
    "df.head()"
   ]
  },
  {
   "cell_type": "code",
   "execution_count": 5,
   "id": "875deeb3",
   "metadata": {
    "scrolled": true
   },
   "outputs": [
    {
     "data": {
      "text/plain": [
       "(13932, 17)"
      ]
     },
     "execution_count": 5,
     "metadata": {},
     "output_type": "execute_result"
    }
   ],
   "source": [
    "df.shape"
   ]
  },
  {
   "cell_type": "markdown",
   "id": "570b6213",
   "metadata": {},
   "source": [
    "- Since 'LATITUDE','LONGITUDE','PARCELNO' are unique for each records we can drop them."
   ]
  },
  {
   "cell_type": "code",
   "execution_count": 6,
   "id": "10f7ab44",
   "metadata": {},
   "outputs": [],
   "source": [
    "df.drop(['LATITUDE', 'LONGITUDE','PARCELNO'], axis = 1, inplace = True)"
   ]
  },
  {
   "cell_type": "markdown",
   "id": "b747143c",
   "metadata": {},
   "source": [
    "#### Train test split"
   ]
  },
  {
   "cell_type": "code",
   "execution_count": 7,
   "id": "61ad1418",
   "metadata": {},
   "outputs": [],
   "source": [
    "from sklearn.model_selection import train_test_split\n",
    "\n",
    "X = df.drop('SALE_PRC', axis = 1)\n",
    "Y = df['SALE_PRC']\n",
    "\n",
    "X_train, X_test, y_train, y_test = train_test_split(X, Y, random_state = RS, test_size = 0.20)"
   ]
  },
  {
   "cell_type": "code",
   "execution_count": 8,
   "id": "2ed2d0f0",
   "metadata": {},
   "outputs": [
    {
     "data": {
      "text/plain": [
       "(13932,)"
      ]
     },
     "execution_count": 8,
     "metadata": {},
     "output_type": "execute_result"
    }
   ],
   "source": [
    "Y.shape"
   ]
  },
  {
   "cell_type": "code",
   "execution_count": 9,
   "id": "dd0c288e",
   "metadata": {
    "scrolled": true
   },
   "outputs": [
    {
     "data": {
      "text/plain": [
       "((11145, 13), (2787, 13), (11145,), (2787,))"
      ]
     },
     "execution_count": 9,
     "metadata": {},
     "output_type": "execute_result"
    }
   ],
   "source": [
    "X_train.shape, X_test.shape, y_train.shape, y_test.shape"
   ]
  },
  {
   "cell_type": "code",
   "execution_count": 10,
   "id": "02ff0574",
   "metadata": {},
   "outputs": [],
   "source": [
    "df = X_train.join(y_train, how = 'inner')\n",
    "df.sort_index(axis = 0, inplace = True)"
   ]
  },
  {
   "cell_type": "markdown",
   "id": "d5433ef8",
   "metadata": {},
   "source": [
    "#### Information about the dataset"
   ]
  },
  {
   "cell_type": "code",
   "execution_count": 11,
   "id": "17f0f9db",
   "metadata": {
    "scrolled": true
   },
   "outputs": [
    {
     "name": "stdout",
     "output_type": "stream",
     "text": [
      "<class 'pandas.core.frame.DataFrame'>\n",
      "Int64Index: 11145 entries, 0 to 13931\n",
      "Data columns (total 14 columns):\n",
      " #   Column             Non-Null Count  Dtype  \n",
      "---  ------             --------------  -----  \n",
      " 0   LND_SQFOOT         11145 non-null  int64  \n",
      " 1   TOT_LVG_AREA       11145 non-null  int64  \n",
      " 2   SPEC_FEAT_VAL      11145 non-null  int64  \n",
      " 3   RAIL_DIST          11145 non-null  float64\n",
      " 4   OCEAN_DIST         11145 non-null  float64\n",
      " 5   WATER_DIST         11145 non-null  float64\n",
      " 6   CNTR_DIST          11145 non-null  float64\n",
      " 7   SUBCNTR_DI         11145 non-null  float64\n",
      " 8   HWY_DIST           11145 non-null  float64\n",
      " 9   AGE                11145 non-null  int64  \n",
      " 10  AVNO_60_PLUS       11145 non-null  int64  \n",
      " 11  MONTH_SOLD         11145 non-null  int64  \n",
      " 12  STRUCTURE_QUALITY  11145 non-null  int64  \n",
      " 13  SALE_PRC           11145 non-null  float64\n",
      "dtypes: float64(7), int64(7)\n",
      "memory usage: 1.3 MB\n"
     ]
    }
   ],
   "source": [
    "df.info()"
   ]
  },
  {
   "cell_type": "markdown",
   "id": "bf85e245",
   "metadata": {},
   "source": [
    "- There are no missing values in the dataset.\n",
    "\n",
    "- All the features in the dataset are numerical."
   ]
  },
  {
   "cell_type": "markdown",
   "id": "1e0825e1",
   "metadata": {},
   "source": [
    "#### Checking for duplicate entries"
   ]
  },
  {
   "cell_type": "code",
   "execution_count": 12,
   "id": "c789aee5",
   "metadata": {
    "scrolled": false
   },
   "outputs": [
    {
     "name": "stdout",
     "output_type": "stream",
     "text": [
      "Duplicate Entries : (0, 14)\n"
     ]
    }
   ],
   "source": [
    "Duplicate = df[df.duplicated(keep='first')]\n",
    "print(\"Duplicate Entries :\", Duplicate.shape)"
   ]
  },
  {
   "cell_type": "markdown",
   "id": "91d994bd",
   "metadata": {},
   "source": [
    "- There are no duplicate entries in the dataset."
   ]
  },
  {
   "cell_type": "markdown",
   "id": "5c12eeca",
   "metadata": {},
   "source": [
    "## EXPLORATORY DATA ANALYSIS"
   ]
  },
  {
   "cell_type": "markdown",
   "id": "20b2bbf2",
   "metadata": {},
   "source": [
    "#### Discrete features"
   ]
  },
  {
   "cell_type": "code",
   "execution_count": 13,
   "id": "ea2ea26c",
   "metadata": {},
   "outputs": [
    {
     "name": "stdout",
     "output_type": "stream",
     "text": [
      "Discrete variables count: 3\n"
     ]
    }
   ],
   "source": [
    "discrete_feature = [feature for feature in df.columns if len(df[feature].unique())<25]\n",
    "print('Discrete variables count: {}'.format(len(discrete_feature)))"
   ]
  },
  {
   "cell_type": "code",
   "execution_count": 14,
   "id": "3fdb8fb2",
   "metadata": {},
   "outputs": [
    {
     "data": {
      "text/plain": [
       "['AVNO_60_PLUS', 'MONTH_SOLD', 'STRUCTURE_QUALITY']"
      ]
     },
     "execution_count": 14,
     "metadata": {},
     "output_type": "execute_result"
    }
   ],
   "source": [
    "discrete_feature"
   ]
  },
  {
   "cell_type": "markdown",
   "id": "b6f0bc1e",
   "metadata": {},
   "source": [
    "#### Discrete feature analysis"
   ]
  },
  {
   "cell_type": "code",
   "execution_count": 15,
   "id": "35c9cb8d",
   "metadata": {
    "scrolled": true
   },
   "outputs": [
    {
     "name": "stderr",
     "output_type": "stream",
     "text": [
      "D:\\Cobraaa\\lib\\site-packages\\seaborn\\_decorators.py:36: FutureWarning: Pass the following variable as a keyword arg: x. From version 0.12, the only valid positional argument will be `data`, and passing other arguments without an explicit keyword will result in an error or misinterpretation.\n",
      "  warnings.warn(\n"
     ]
    },
    {
     "data": {
      "image/png": "[encoded data removed]",
      "text/plain": [
       "<Figure size 720x576 with 1 Axes>"
      ]
     },
     "metadata": {
      "needs_background": "light"
     },
     "output_type": "display_data"
    },
    {
     "name": "stderr",
     "output_type": "stream",
     "text": [
      "D:\\Cobraaa\\lib\\site-packages\\seaborn\\_decorators.py:36: FutureWarning: Pass the following variable as a keyword arg: x. From version 0.12, the only valid positional argument will be `data`, and passing other arguments without an explicit keyword will result in an error or misinterpretation.\n",
      "  warnings.warn(\n"
     ]
    },
    {
     "data": {
      "image/png": "[encoded data removed]",
      "text/plain": [
       "<Figure size 720x576 with 1 Axes>"
      ]
     },
     "metadata": {
      "needs_background": "light"
     },
     "output_type": "display_data"
    },
    {
     "name": "stderr",
     "output_type": "stream",
     "text": [
      "D:\\Cobraaa\\lib\\site-packages\\seaborn\\_decorators.py:36: FutureWarning: Pass the following variable as a keyword arg: x. From version 0.12, the only valid positional argument will be `data`, and passing other arguments without an explicit keyword will result in an error or misinterpretation.\n",
      "  warnings.warn(\n"
     ]
    },
    {
     "data": {
      "image/png": "[encoded data removed]",
      "text/plain": [
       "<Figure size 720x576 with 1 Axes>"
      ]
     },
     "metadata": {
      "needs_background": "light"
     },
     "output_type": "display_data"
    }
   ],
   "source": [
    "for feature in discrete_feature:\n",
    "    plt.figure(figsize=(10,8))\n",
    "    plot=sns.countplot(df[feature])\n",
    "    \n",
    "    total = len(df[feature])\n",
    "    for p in plot.patches:\n",
    "        percentage = '{:.1f}%'.format(100 * p.get_height()/total)\n",
    "        x = p.get_x() + p.get_width() / 2 - 0.05\n",
    "        y = p.get_y() + p.get_height()\n",
    "        plot.annotate(percentage, (x, y), size = 10)\n",
    "    \n",
    "    plt.show() "
   ]
  },
  {
   "cell_type": "markdown",
   "id": "dbe855f8",
   "metadata": {},
   "source": [
    "- AVNO_60_PLUS is dominated by class 0\n",
    "- Month 6 has the maximum number of sales, Almost all months have equal percentage of sales.\n",
    "- 54.8% of houses have Structure quality rating of 5"
   ]
  },
  {
   "cell_type": "code",
   "execution_count": 16,
   "id": "4efab502",
   "metadata": {
    "scrolled": true
   },
   "outputs": [
    {
     "data": {
      "image/png": "[encoded data removed]",
      "text/plain": [
       "<Figure size 576x432 with 1 Axes>"
      ]
     },
     "metadata": {
      "needs_background": "light"
     },
     "output_type": "display_data"
    },
    {
     "data": {
      "image/png": "[encoded data removed]",
      "text/plain": [
       "<Figure size 576x432 with 1 Axes>"
      ]
     },
     "metadata": {
      "needs_background": "light"
     },
     "output_type": "display_data"
    },
    {
     "data": {
      "image/png": "[encoded data removed]",
      "text/plain": [
       "<Figure size 576x432 with 1 Axes>"
      ]
     },
     "metadata": {
      "needs_background": "light"
     },
     "output_type": "display_data"
    }
   ],
   "source": [
    "for feature in discrete_feature:\n",
    "    plt.figure(figsize=(8,6))\n",
    "    data = df.copy()\n",
    "    data.groupby(feature)['SALE_PRC'].median().plot.bar()\n",
    "    plt.xlabel(feature)\n",
    "    plt.ylabel('SALE_PRC')\n",
    "    plt.title(feature)\n",
    "    plt.show()"
   ]
  },
  {
   "cell_type": "markdown",
   "id": "15bc91e4",
   "metadata": {},
   "source": [
    "- AVNO_60_PLUS and MONTH_SOLD seems like they do not add any value in predicting the SALE_PRC, because all of its classes median values are almost equal, Let's keep an eye on these two features and test for its significance on SALE_PRC by using some statistical tests(FEATURE SELECTION).\n",
    "\n",
    "- class 3 of STRUCTURE_QUALITY has the highest SALE_PRC."
   ]
  },
  {
   "cell_type": "markdown",
   "id": "9c7ef6b8",
   "metadata": {},
   "source": [
    "#### Continuous feature analysis"
   ]
  },
  {
   "cell_type": "code",
   "execution_count": 17,
   "id": "7418d361",
   "metadata": {},
   "outputs": [
    {
     "name": "stdout",
     "output_type": "stream",
     "text": [
      "Continuous feature Count 11\n"
     ]
    }
   ],
   "source": [
    "continuous_feature = [feature for feature in df.columns if feature not in discrete_feature]\n",
    "print(\"Continuous feature Count {}\".format(len(continuous_feature)))"
   ]
  },
  {
   "cell_type": "code",
   "execution_count": 18,
   "id": "f0a6e1a7",
   "metadata": {},
   "outputs": [
    {
     "data": {
      "text/plain": [
       "['LND_SQFOOT',\n",
       " 'TOT_LVG_AREA',\n",
       " 'SPEC_FEAT_VAL',\n",
       " 'RAIL_DIST',\n",
       " 'OCEAN_DIST',\n",
       " 'WATER_DIST',\n",
       " 'CNTR_DIST',\n",
       " 'SUBCNTR_DI',\n",
       " 'HWY_DIST',\n",
       " 'AGE',\n",
       " 'SALE_PRC']"
      ]
     },
     "execution_count": 18,
     "metadata": {},
     "output_type": "execute_result"
    }
   ],
   "source": [
    "continuous_feature"
   ]
  },
  {
   "cell_type": "code",
   "execution_count": 19,
   "id": "cf64d077",
   "metadata": {},
   "outputs": [
    {
     "data": {
      "image/png": "[encoded data removed]",
      "text/plain": [
       "<Figure size 432x288 with 1 Axes>"
      ]
     },
     "metadata": {
      "needs_background": "light"
     },
     "output_type": "display_data"
    },
    {
     "data": {
      "image/png": "[encoded data removed]",
      "text/plain": [
       "<Figure size 432x288 with 1 Axes>"
      ]
     },
     "metadata": {
      "needs_background": "light"
     },
     "output_type": "display_data"
    },
    {
     "data": {
      "image/png": "[encoded data removed]",
      "text/plain": [
       "<Figure size 432x288 with 1 Axes>"
      ]
     },
     "metadata": {
      "needs_background": "light"
     },
     "output_type": "display_data"
    },
    {
     "data": {
      "image/png": "[encoded data removed]",
      "text/plain": [
       "<Figure size 432x288 with 1 Axes>"
      ]
     },
     "metadata": {
      "needs_background": "light"
     },
     "output_type": "display_data"
    },
    {
     "data": {
      "image/png": "[encoded data removed]",
      "text/plain": [
       "<Figure size 432x288 with 1 Axes>"
      ]
     },
     "metadata": {
      "needs_background": "light"
     },
     "output_type": "display_data"
    },
    {
     "data": {
      "image/png": "[encoded data removed]",
      "text/plain": [
       "<Figure size 432x288 with 1 Axes>"
      ]
     },
     "metadata": {
      "needs_background": "light"
     },
     "output_type": "display_data"
    },
    {
     "data": {
      "image/png": "[encoded data removed]",
      "text/plain": [
       "<Figure size 432x288 with 1 Axes>"
      ]
     },
     "metadata": {
      "needs_background": "light"
     },
     "output_type": "display_data"
    },
    {
     "data": {
      "image/png": "[encoded data removed]",
      "text/plain": [
       "<Figure size 432x288 with 1 Axes>"
      ]
     },
     "metadata": {
      "needs_background": "light"
     },
     "output_type": "display_data"
    },
    {
     "data": {
      "image/png": "[encoded data removed]",
      "text/plain": [
       "<Figure size 432x288 with 1 Axes>"
      ]
     },
     "metadata": {
      "needs_background": "light"
     },
     "output_type": "display_data"
    },
    {
     "data": {
      "image/png": "[encoded data removed]",
      "text/plain": [
       "<Figure size 432x288 with 1 Axes>"
      ]
     },
     "metadata": {
      "needs_background": "light"
     },
     "output_type": "display_data"
    },
    {
     "data": {
      "image/png": "[encoded data removed]",
      "text/plain": [
       "<Figure size 432x288 with 1 Axes>"
      ]
     },
     "metadata": {
      "needs_background": "light"
     },
     "output_type": "display_data"
    }
   ],
   "source": [
    "for feature in continuous_feature:\n",
    "    data=df.copy()\n",
    "    data[feature].hist(bins=25)\n",
    "    plt.xlabel(feature)\n",
    "    plt.ylabel(\"Count\")\n",
    "    plt.title(feature)\n",
    "    plt.show()"
   ]
  },
  {
   "cell_type": "markdown",
   "id": "6ba4595b",
   "metadata": {},
   "source": [
    "- This dataset has skewed independent/ input features. We can prove this by some statistical tests."
   ]
  },
  {
   "cell_type": "code",
   "execution_count": 20,
   "id": "37015132",
   "metadata": {},
   "outputs": [
    {
     "name": "stdout",
     "output_type": "stream",
     "text": [
      "LND_SQFOOT\n",
      "stat = 0.62, p = 0.000000000000000000000000000000\n",
      "Not a normal distribution\n",
      "\n",
      "TOT_LVG_AREA\n",
      "stat = 0.91, p = 0.000000000000000000000000000000\n",
      "Not a normal distribution\n",
      "\n",
      "SPEC_FEAT_VAL\n",
      "stat = 0.70, p = 0.000000000000000000000000000000\n",
      "Not a normal distribution\n",
      "\n",
      "RAIL_DIST\n",
      "stat = 0.93, p = 0.000000000000000000000000000000\n",
      "Not a normal distribution\n",
      "\n",
      "OCEAN_DIST\n",
      "stat = 0.97, p = 0.000000000000000000000000000000\n",
      "Not a normal distribution\n",
      "\n",
      "WATER_DIST\n",
      "stat = 0.85, p = 0.000000000000000000000000000000\n",
      "Not a normal distribution\n",
      "\n",
      "CNTR_DIST\n",
      "stat = 0.98, p = 0.000000000000000000000000000000\n",
      "Not a normal distribution\n",
      "\n",
      "SUBCNTR_DI\n",
      "stat = 0.97, p = 0.000000000000000000000000000000\n",
      "Not a normal distribution\n",
      "\n",
      "HWY_DIST\n",
      "stat = 0.91, p = 0.000000000000000000000000000000\n",
      "Not a normal distribution\n",
      "\n",
      "AGE\n",
      "stat = 0.95, p = 0.000000000000000000000000000000\n",
      "Not a normal distribution\n",
      "\n",
      "SALE_PRC\n",
      "stat = 0.66, p = 0.000000000000000000000000000000\n",
      "Not a normal distribution\n",
      "\n"
     ]
    },
    {
     "name": "stderr",
     "output_type": "stream",
     "text": [
      "D:\\Cobraaa\\lib\\site-packages\\scipy\\stats\\morestats.py:1681: UserWarning: p-value may not be accurate for N > 5000.\n",
      "  warnings.warn(\"p-value may not be accurate for N > 5000.\")\n"
     ]
    }
   ],
   "source": [
    "from scipy.stats import shapiro\n",
    "\n",
    "for feature in continuous_feature:\n",
    "    data = df.copy()\n",
    "    DataToTest = data[feature]\n",
    "    stat, p = shapiro(DataToTest)\n",
    "    print(feature)\n",
    "    print('stat = %.2f, p = %.30f' % (stat, p))\n",
    "    \n",
    "    if p > 0.05:\n",
    "        print('Normal distribution')\n",
    "        print()\n",
    "    else:\n",
    "        print('Not a normal distribution')\n",
    "        print()"
   ]
  },
  {
   "cell_type": "markdown",
   "id": "e52e7698",
   "metadata": {},
   "source": [
    "- None of the features are normally distributed. We need to make these features normally distributed before building the model by applying some Tranformations(FEATURE ENGINEERING)"
   ]
  },
  {
   "cell_type": "code",
   "execution_count": 21,
   "id": "eec52d60",
   "metadata": {},
   "outputs": [
    {
     "data": {
      "image/png": "[encoded data removed]",
      "text/plain": [
       "<Figure size 432x288 with 1 Axes>"
      ]
     },
     "metadata": {
      "needs_background": "light"
     },
     "output_type": "display_data"
    },
    {
     "data": {
      "image/png": "[encoded data removed]",
      "text/plain": [
       "<Figure size 432x288 with 1 Axes>"
      ]
     },
     "metadata": {
      "needs_background": "light"
     },
     "output_type": "display_data"
    },
    {
     "data": {
      "image/png": "[encoded data removed]",
      "text/plain": [
       "<Figure size 432x288 with 1 Axes>"
      ]
     },
     "metadata": {
      "needs_background": "light"
     },
     "output_type": "display_data"
    },
    {
     "data": {
      "image/png": "[encoded data removed]",
      "text/plain": [
       "<Figure size 432x288 with 1 Axes>"
      ]
     },
     "metadata": {
      "needs_background": "light"
     },
     "output_type": "display_data"
    },
    {
     "data": {
      "image/png": "[encoded data removed]",
      "text/plain": [
       "<Figure size 432x288 with 1 Axes>"
      ]
     },
     "metadata": {
      "needs_background": "light"
     },
     "output_type": "display_data"
    },
    {
     "data": {
      "image/png": "[encoded data removed]",
      "text/plain": [
       "<Figure size 432x288 with 1 Axes>"
      ]
     },
     "metadata": {
      "needs_background": "light"
     },
     "output_type": "display_data"
    },
    {
     "data": {
      "image/png": "[encoded data removed]",
      "text/plain": [
       "<Figure size 432x288 with 1 Axes>"
      ]
     },
     "metadata": {
      "needs_background": "light"
     },
     "output_type": "display_data"
    },
    {
     "data": {
      "image/png": "[encoded data removed]",
      "text/plain": [
       "<Figure size 432x288 with 1 Axes>"
      ]
     },
     "metadata": {
      "needs_background": "light"
     },
     "output_type": "display_data"
    },
    {
     "data": {
      "image/png": "[encoded data removed]",
      "text/plain": [
       "<Figure size 432x288 with 1 Axes>"
      ]
     },
     "metadata": {
      "needs_background": "light"
     },
     "output_type": "display_data"
    },
    {
     "data": {
      "image/png": "[encoded data removed]",
      "text/plain": [
       "<Figure size 432x288 with 1 Axes>"
      ]
     },
     "metadata": {
      "needs_background": "light"
     },
     "output_type": "display_data"
    }
   ],
   "source": [
    "for feature in continuous_feature:\n",
    "    \n",
    "    data = df.copy()\n",
    "    \n",
    "    if feature != 'SALE_PRC':\n",
    "        data[feature]=data[feature]    \n",
    "        plt.scatter(data[feature],data['SALE_PRC'])\n",
    "        plt.xlabel(feature)\n",
    "        plt.ylabel('SalesPrice')\n",
    "        plt.title(feature)\n",
    "        plt.show()"
   ]
  },
  {
   "cell_type": "markdown",
   "id": "66b55597",
   "metadata": {},
   "source": [
    "We cannot see any monotonic relationship between the independent and dependent features, this maybe beacause of skewness or outliers.\n",
    "\n",
    "So now let us check for outliers in independent features."
   ]
  },
  {
   "cell_type": "code",
   "execution_count": 22,
   "id": "5fb1a5b8",
   "metadata": {},
   "outputs": [
    {
     "data": {
      "image/png": "[encoded data removed]",
      "text/plain": [
       "<Figure size 432x288 with 1 Axes>"
      ]
     },
     "metadata": {
      "needs_background": "light"
     },
     "output_type": "display_data"
    },
    {
     "data": {
      "image/png": "[encoded data removed]",
      "text/plain": [
       "<Figure size 432x288 with 1 Axes>"
      ]
     },
     "metadata": {
      "needs_background": "light"
     },
     "output_type": "display_data"
    },
    {
     "data": {
      "image/png": "[encoded data removed]",
      "text/plain": [
       "<Figure size 432x288 with 1 Axes>"
      ]
     },
     "metadata": {
      "needs_background": "light"
     },
     "output_type": "display_data"
    },
    {
     "data": {
      "image/png": "[encoded data removed]",
      "text/plain": [
       "<Figure size 432x288 with 1 Axes>"
      ]
     },
     "metadata": {
      "needs_background": "light"
     },
     "output_type": "display_data"
    },
    {
     "data": {
      "image/png": "[encoded data removed]",
      "text/plain": [
       "<Figure size 432x288 with 1 Axes>"
      ]
     },
     "metadata": {
      "needs_background": "light"
     },
     "output_type": "display_data"
    },
    {
     "data": {
      "image/png": "[encoded data removed]",
      "text/plain": [
       "<Figure size 432x288 with 1 Axes>"
      ]
     },
     "metadata": {
      "needs_background": "light"
     },
     "output_type": "display_data"
    },
    {
     "data": {
      "image/png": "[encoded data removed]",
      "text/plain": [
       "<Figure size 432x288 with 1 Axes>"
      ]
     },
     "metadata": {
      "needs_background": "light"
     },
     "output_type": "display_data"
    },
    {
     "data": {
      "image/png": "[encoded data removed]",
      "text/plain": [
       "<Figure size 432x288 with 1 Axes>"
      ]
     },
     "metadata": {
      "needs_background": "light"
     },
     "output_type": "display_data"
    },
    {
     "data": {
      "image/png": "[encoded data removed]",
      "text/plain": [
       "<Figure size 432x288 with 1 Axes>"
      ]
     },
     "metadata": {
      "needs_background": "light"
     },
     "output_type": "display_data"
    },
    {
     "data": {
      "image/png": "[encoded data removed]",
      "text/plain": [
       "<Figure size 432x288 with 1 Axes>"
      ]
     },
     "metadata": {
      "needs_background": "light"
     },
     "output_type": "display_data"
    },
    {
     "data": {
      "image/png": "[encoded data removed]",
      "text/plain": [
       "<Figure size 432x288 with 1 Axes>"
      ]
     },
     "metadata": {
      "needs_background": "light"
     },
     "output_type": "display_data"
    }
   ],
   "source": [
    "for feature in continuous_feature:\n",
    "    \n",
    "    data = df.copy()\n",
    "    data.boxplot(column=feature)\n",
    "    plt.ylabel(feature)\n",
    "    plt.title(feature)\n",
    "    plt.show()"
   ]
  },
  {
   "cell_type": "markdown",
   "id": "9a59c3ca",
   "metadata": {},
   "source": [
    "As we can see the dataset has large number of outliers in them.\n",
    "\n",
    "Outliers can be handled using some outlier handling techniques orelse we can use Machine learning models that are robust to outliers."
   ]
  },
  {
   "cell_type": "code",
   "execution_count": 23,
   "id": "a655be55",
   "metadata": {},
   "outputs": [],
   "source": [
    "def IQR_outliers(data,limit=1.5):\n",
    "    numColumns = data.select_dtypes(include=np.number).columns.tolist(); # extract list of numeric columns\n",
    "    Q1 = data.quantile(0.25)\n",
    "    Q3 = data.quantile(0.75)\n",
    "    IQR = Q3-Q1;\n",
    "    outliers=((data[numColumns] < (Q1 - limit*IQR)) | (data[numColumns] > (Q3 + limit*IQR))).sum()*100/data.shape[0]\n",
    "    return outliers "
   ]
  },
  {
   "cell_type": "code",
   "execution_count": 24,
   "id": "baa0cf95",
   "metadata": {
    "scrolled": true
   },
   "outputs": [
    {
     "data": {
      "text/plain": [
       "LND_SQFOOT            9.869897\n",
       "TOT_LVG_AREA          3.176312\n",
       "SPEC_FEAT_VAL        12.319426\n",
       "RAIL_DIST             0.915209\n",
       "OCEAN_DIST            0.000000\n",
       "WATER_DIST            1.633019\n",
       "CNTR_DIST             0.035891\n",
       "SUBCNTR_DI            0.915209\n",
       "HWY_DIST              2.189323\n",
       "AGE                   0.017945\n",
       "AVNO_60_PLUS          1.525348\n",
       "MONTH_SOLD            0.000000\n",
       "STRUCTURE_QUALITY     0.000000\n",
       "SALE_PRC              9.762225\n",
       "dtype: float64"
      ]
     },
     "execution_count": 24,
     "metadata": {},
     "output_type": "execute_result"
    }
   ],
   "source": [
    "outliers = IQR_outliers(df)\n",
    "outliers"
   ]
  },
  {
   "cell_type": "markdown",
   "id": "19e802bb",
   "metadata": {},
   "source": [
    "'LND_SQFOOT', 'TOT_LVG_AREA', 'SPEC_FEAT_VAL', 'RAIL_DIST', 'WATER_DIST', 'SUBCNTR_DI', 'HWY_DIST', 'AVNO_60_PLUS' - These features have high percentage of outliers."
   ]
  },
  {
   "cell_type": "code",
   "execution_count": 25,
   "id": "2e006821",
   "metadata": {},
   "outputs": [
    {
     "data": {
      "image/png": "[encoded data removed]",
      "text/plain": [
       "<Figure size 864x720 with 2 Axes>"
      ]
     },
     "metadata": {
      "needs_background": "light"
     },
     "output_type": "display_data"
    }
   ],
   "source": [
    "corr = df[continuous_feature].corr()\n",
    "f, ax = plt.subplots(figsize=(12, 10))\n",
    "mask = np.triu(np.ones_like(corr, dtype=bool))[1:, :-1]\n",
    "corr = corr.iloc[1:,:-1].copy()\n",
    "cmap = sns.diverging_palette(230, 20, as_cmap=True)\n",
    "sns.heatmap(corr, annot=True, mask = mask, cmap=cmap)\n",
    "plt.yticks(rotation=0)\n",
    "plt.show()"
   ]
  },
  {
   "cell_type": "markdown",
   "id": "f25a222a",
   "metadata": {},
   "source": [
    "***OBSERVATIONS***\n",
    "\n",
    "- Dataset has no missing values.\n",
    "- AVNO_60_PLUS and MONTH_SOLD seems like they do not add any value in predicting the SALE_PRC(let us conform this through feature selection techniques)\n",
    "- None of the input/independent features are normally distributed and some features have outliers in them.\n",
    "- No multicollinearity"
   ]
  },
  {
   "cell_type": "markdown",
   "id": "21ea992d",
   "metadata": {},
   "source": [
    "## FEATURE ENGINEERING"
   ]
  },
  {
   "cell_type": "markdown",
   "id": "956ef0e0",
   "metadata": {},
   "source": [
    "***Feature scaling***"
   ]
  },
  {
   "cell_type": "code",
   "execution_count": 26,
   "id": "e04b99b0",
   "metadata": {},
   "outputs": [],
   "source": [
    "from sklearn.preprocessing import StandardScaler\n",
    "\n",
    "scaler = StandardScaler()\n",
    "X_train_scaled = pd.DataFrame(scaler.fit_transform(X_train), columns = X_train.columns)"
   ]
  },
  {
   "cell_type": "markdown",
   "id": "b8118ee3",
   "metadata": {},
   "source": [
    "## FEATURE SELECTION"
   ]
  },
  {
   "cell_type": "markdown",
   "id": "89a5bc8f",
   "metadata": {},
   "source": [
    "***Checking for constant, quasi constant features***"
   ]
  },
  {
   "cell_type": "code",
   "execution_count": 27,
   "id": "fde52a78",
   "metadata": {},
   "outputs": [
    {
     "data": {
      "text/plain": [
       "VarianceThreshold(threshold=0.01)"
      ]
     },
     "execution_count": 27,
     "metadata": {},
     "output_type": "execute_result"
    }
   ],
   "source": [
    "from sklearn.feature_selection import VarianceThreshold\n",
    "\n",
    "constant_filter = VarianceThreshold(threshold = 0.01)\n",
    "constant_filter.fit(X_train_scaled)"
   ]
  },
  {
   "cell_type": "code",
   "execution_count": 28,
   "id": "1518d543",
   "metadata": {
    "scrolled": true
   },
   "outputs": [
    {
     "data": {
      "text/plain": [
       "13"
      ]
     },
     "execution_count": 28,
     "metadata": {},
     "output_type": "execute_result"
    }
   ],
   "source": [
    "constant_filter.get_support().sum()"
   ]
  },
  {
   "cell_type": "markdown",
   "id": "97b04071",
   "metadata": {},
   "source": [
    "There are no constant and quasi constant features in the dataset."
   ]
  },
  {
   "cell_type": "markdown",
   "id": "83c36d32",
   "metadata": {},
   "source": [
    "***Checking for duplicate features***"
   ]
  },
  {
   "cell_type": "code",
   "execution_count": 29,
   "id": "b0006955",
   "metadata": {},
   "outputs": [
    {
     "data": {
      "text/plain": [
       "0"
      ]
     },
     "execution_count": 29,
     "metadata": {},
     "output_type": "execute_result"
    }
   ],
   "source": [
    "X_train_T = X_train_scaled.T\n",
    "X_train_T.duplicated().sum()"
   ]
  },
  {
   "cell_type": "markdown",
   "id": "7c0bacd9",
   "metadata": {},
   "source": [
    "There are no duplicate features in the dataset"
   ]
  },
  {
   "cell_type": "markdown",
   "id": "d4e4899e",
   "metadata": {},
   "source": [
    "***Checking for multicollinearity***"
   ]
  },
  {
   "cell_type": "code",
   "execution_count": 30,
   "id": "0ab3ea9b",
   "metadata": {},
   "outputs": [
    {
     "data": {
      "text/plain": [
       "<BarContainer object of 7 artists>"
      ]
     },
     "execution_count": 30,
     "metadata": {},
     "output_type": "execute_result"
    },
    {
     "data": {
      "image/png": "[encoded data removed]",
      "text/plain": [
       "<Figure size 1440x720 with 1 Axes>"
      ]
     },
     "metadata": {
      "needs_background": "light"
     },
     "output_type": "display_data"
    }
   ],
   "source": [
    "df = X_train_scaled.copy()\n",
    "vif = pd.Series(np.linalg.inv(df.corr().values).diagonal(),index=df.columns,\n",
    "          name='VIF').abs().sort_values(ascending=False).round(2)\n",
    "df = pd.cut(vif.round(1),[0,1,5,10,20,30,40,float('inf')]).value_counts().sort_index()\n",
    "df.index = df.index.map(str)\n",
    "\n",
    "plt.subplots(figsize=(20, 10))\n",
    "plt.bar(x=df.index, height=df)"
   ]
  },
  {
   "cell_type": "markdown",
   "id": "4455a04b",
   "metadata": {},
   "source": [
    "There are few multicollinear features. Generally VIF>10 is considered as high, None of the features have VIF value greater than 10"
   ]
  },
  {
   "cell_type": "markdown",
   "id": "d88a7aad",
   "metadata": {},
   "source": [
    "***Feature selection by Recursive Feature Elimination***"
   ]
  },
  {
   "cell_type": "code",
   "execution_count": 31,
   "id": "e772dd09",
   "metadata": {},
   "outputs": [
    {
     "data": {
      "text/plain": [
       "array([False,  True, False, False,  True,  True,  True,  True, False,\n",
       "       False, False, False,  True])"
      ]
     },
     "execution_count": 31,
     "metadata": {},
     "output_type": "execute_result"
    }
   ],
   "source": [
    "from sklearn.ensemble import RandomForestRegressor\n",
    "from sklearn.feature_selection import RFE\n",
    "\n",
    "sel = RFE(RandomForestRegressor(n_estimators = 100, random_state = 0, n_jobs = -1))\n",
    "sel.fit(X_train_scaled, y_train)\n",
    "sel.get_support()"
   ]
  },
  {
   "cell_type": "code",
   "execution_count": 32,
   "id": "8443472c",
   "metadata": {
    "scrolled": true
   },
   "outputs": [
    {
     "data": {
      "text/plain": [
       "Index(['TOT_LVG_AREA', 'OCEAN_DIST', 'WATER_DIST', 'CNTR_DIST', 'SUBCNTR_DI',\n",
       "       'STRUCTURE_QUALITY'],\n",
       "      dtype='object')"
      ]
     },
     "execution_count": 32,
     "metadata": {},
     "output_type": "execute_result"
    }
   ],
   "source": [
    "features = X_train_scaled.columns[sel.get_support()]\n",
    "features"
   ]
  },
  {
   "cell_type": "code",
   "execution_count": 33,
   "id": "5a5113e1",
   "metadata": {},
   "outputs": [],
   "source": [
    "X_train_sel = pd.DataFrame(sel.transform(X_train_scaled), columns = features)"
   ]
  },
  {
   "cell_type": "code",
   "execution_count": 34,
   "id": "2ea689e7",
   "metadata": {
    "scrolled": true
   },
   "outputs": [
    {
     "data": {
      "text/plain": [
       "((11145, 6), (11145,))"
      ]
     },
     "execution_count": 34,
     "metadata": {},
     "output_type": "execute_result"
    }
   ],
   "source": [
    "X_train_sel.shape, y_train.shape"
   ]
  },
  {
   "cell_type": "code",
   "execution_count": 35,
   "id": "7120a3da",
   "metadata": {},
   "outputs": [],
   "source": [
    "X_train_final, X_validation, y_train_final, y_validation = train_test_split(X_train_sel, y_train,  random_state = RS, test_size = 0.10)"
   ]
  },
  {
   "cell_type": "code",
   "execution_count": 36,
   "id": "dd8920da",
   "metadata": {},
   "outputs": [
    {
     "data": {
      "text/plain": [
       "((10030, 6), (10030,), (1115, 6), (1115,))"
      ]
     },
     "execution_count": 36,
     "metadata": {},
     "output_type": "execute_result"
    }
   ],
   "source": [
    "X_train_final.shape, y_train_final.shape, X_validation.shape, y_validation.shape"
   ]
  },
  {
   "cell_type": "code",
   "execution_count": 37,
   "id": "219ba0d6",
   "metadata": {},
   "outputs": [],
   "source": [
    "def fit_n_print(model, X_train, X_test, y_train, y_test):  # take the model, train data and test data as input\n",
    "    \n",
    "    start = time.time()  # note the start time \n",
    "\n",
    "    model.fit(X_train, y_train)   # fit the model using the train data\n",
    "\n",
    "    pred = model.predict(X_test)     # model predictions on the test data\n",
    "\n",
    "    r2 = metrics.r2_score(y_test, pred)  # calculate the r squared value on the test data\n",
    "    \n",
    "    rmse = sqrt(metrics.mean_squared_error(y_test, pred))   # Root mean squared error\n",
    "    \n",
    "#     rmsle = sqrt(metrics.mean_squared_log_error(y_test, pred))  # Root mean squared log error (since the numbers are huge)\n",
    "    \n",
    "    scorer = {'r2' : metrics.make_scorer(metrics.r2_score),\n",
    "              'mse' : metrics.make_scorer(metrics.mean_squared_error),\n",
    "#               'msle' : metrics.make_scorer(metrics.mean_squared_log_error),\n",
    "               }    # make scorers to be used in cross validation\n",
    "    \n",
    "    cv = cross_validate(model, X_train, y_train, cv=10, scoring = scorer)   # perform cross validation accross 3 metrics\n",
    "    \n",
    "    r2_cv = cv['test_r2'].mean()                                     # mean r squared value\n",
    "    rmse_cv = np.mean([sqrt(mse) for mse in cv['test_mse']]) # mean RMSE value(take root of individual mse value and then mean)\n",
    "#     rmsle_cv = np.mean([sqrt(msle) for msle in cv['test_msle']]) # mean RMSLE\n",
    "    \n",
    "    end = time.time()  #note the end time\n",
    "    \n",
    "    \n",
    "    duration = end - start  # calculate the total duration\n",
    "    \n",
    "    \n",
    "    return r2, rmse, r2_cv, rmse_cv, duration, pred  # return all the metrics along with predictions"
   ]
  },
  {
   "cell_type": "code",
   "execution_count": 38,
   "id": "1bc9c047",
   "metadata": {},
   "outputs": [
    {
     "name": "stdout",
     "output_type": "stream",
     "text": [
      "Learning rate set to 0.383164\n",
      "0:\tlearn: 235353.3505600\ttotal: 154ms\tremaining: 15.2s\n",
      "1:\tlearn: 189846.4848521\ttotal: 162ms\tremaining: 7.93s\n",
      "2:\tlearn: 162167.8002168\ttotal: 170ms\tremaining: 5.5s\n",
      "3:\tlearn: 144647.2326716\ttotal: 178ms\tremaining: 4.27s\n",
      "4:\tlearn: 134149.0871581\ttotal: 187ms\tremaining: 3.56s\n",
      "5:\tlearn: 126975.8562749\ttotal: 196ms\tremaining: 3.06s\n",
      "6:\tlearn: 122719.5778547\ttotal: 204ms\tremaining: 2.71s\n",
      "7:\tlearn: 119827.3749333\ttotal: 214ms\tremaining: 2.46s\n",
      "8:\tlearn: 117956.3075842\ttotal: 222ms\tremaining: 2.25s\n",
      "9:\tlearn: 115760.2210660\ttotal: 230ms\tremaining: 2.07s\n",
      "10:\tlearn: 114416.0197550\ttotal: 238ms\tremaining: 1.93s\n",
      "11:\tlearn: 112584.9198436\ttotal: 246ms\tremaining: 1.8s\n",
      "12:\tlearn: 110995.0335662\ttotal: 253ms\tremaining: 1.7s\n",
      "13:\tlearn: 110201.6700367\ttotal: 261ms\tremaining: 1.6s\n",
      "14:\tlearn: 109372.1086249\ttotal: 269ms\tremaining: 1.52s\n",
      "15:\tlearn: 107715.1395893\ttotal: 277ms\tremaining: 1.45s\n",
      "16:\tlearn: 107128.4957097\ttotal: 285ms\tremaining: 1.39s\n",
      "17:\tlearn: 106192.7369936\ttotal: 293ms\tremaining: 1.33s\n",
      "18:\tlearn: 105250.7655627\ttotal: 301ms\tremaining: 1.28s\n",
      "19:\tlearn: 103964.3961617\ttotal: 309ms\tremaining: 1.23s\n",
      "20:\tlearn: 103497.6306360\ttotal: 316ms\tremaining: 1.19s\n",
      "21:\tlearn: 102882.3840389\ttotal: 324ms\tremaining: 1.15s\n",
      "22:\tlearn: 102370.1116259\ttotal: 332ms\tremaining: 1.11s\n",
      "23:\tlearn: 101625.2122478\ttotal: 340ms\tremaining: 1.08s\n",
      "24:\tlearn: 100304.8155872\ttotal: 348ms\tremaining: 1.04s\n",
      "25:\tlearn: 99624.2746002\ttotal: 355ms\tremaining: 1.01s\n",
      "26:\tlearn: 99208.0506482\ttotal: 364ms\tremaining: 984ms\n",
      "27:\tlearn: 98406.0579681\ttotal: 373ms\tremaining: 958ms\n",
      "28:\tlearn: 97633.5338517\ttotal: 381ms\tremaining: 932ms\n",
      "29:\tlearn: 96720.9821612\ttotal: 389ms\tremaining: 908ms\n",
      "30:\tlearn: 96255.8665251\ttotal: 398ms\tremaining: 885ms\n",
      "31:\tlearn: 95292.8300729\ttotal: 406ms\tremaining: 863ms\n",
      "32:\tlearn: 94800.2064307\ttotal: 414ms\tremaining: 841ms\n",
      "33:\tlearn: 94306.6088818\ttotal: 422ms\tremaining: 819ms\n",
      "34:\tlearn: 93625.4349844\ttotal: 430ms\tremaining: 798ms\n",
      "35:\tlearn: 92829.5015158\ttotal: 438ms\tremaining: 778ms\n",
      "36:\tlearn: 92136.2289904\ttotal: 445ms\tremaining: 757ms\n",
      "37:\tlearn: 91809.3501018\ttotal: 452ms\tremaining: 738ms\n",
      "38:\tlearn: 91500.9718116\ttotal: 459ms\tremaining: 718ms\n",
      "39:\tlearn: 90892.8000950\ttotal: 466ms\tremaining: 699ms\n",
      "40:\tlearn: 90247.0928842\ttotal: 473ms\tremaining: 681ms\n",
      "41:\tlearn: 89613.9437858\ttotal: 480ms\tremaining: 663ms\n",
      "42:\tlearn: 89029.8438048\ttotal: 487ms\tremaining: 646ms\n",
      "43:\tlearn: 88720.6140520\ttotal: 494ms\tremaining: 629ms\n",
      "44:\tlearn: 88072.5635815\ttotal: 501ms\tremaining: 613ms\n",
      "45:\tlearn: 87324.6094700\ttotal: 509ms\tremaining: 597ms\n",
      "46:\tlearn: 86828.2822644\ttotal: 516ms\tremaining: 582ms\n",
      "47:\tlearn: 86307.5128332\ttotal: 523ms\tremaining: 567ms\n",
      "48:\tlearn: 85970.0014093\ttotal: 530ms\tremaining: 552ms\n",
      "49:\tlearn: 85651.9677913\ttotal: 538ms\tremaining: 538ms\n",
      "50:\tlearn: 85187.5629330\ttotal: 544ms\tremaining: 523ms\n",
      "51:\tlearn: 84939.6051891\ttotal: 552ms\tremaining: 509ms\n",
      "52:\tlearn: 84618.7020334\ttotal: 560ms\tremaining: 497ms\n",
      "53:\tlearn: 84451.2430376\ttotal: 568ms\tremaining: 484ms\n",
      "54:\tlearn: 83999.6571183\ttotal: 575ms\tremaining: 471ms\n",
      "55:\tlearn: 83656.8604109\ttotal: 583ms\tremaining: 458ms\n",
      "56:\tlearn: 83081.1185920\ttotal: 590ms\tremaining: 445ms\n",
      "57:\tlearn: 82800.8844298\ttotal: 598ms\tremaining: 433ms\n",
      "58:\tlearn: 82593.6223375\ttotal: 605ms\tremaining: 420ms\n",
      "59:\tlearn: 82386.3565824\ttotal: 612ms\tremaining: 408ms\n",
      "60:\tlearn: 81913.4286640\ttotal: 619ms\tremaining: 396ms\n",
      "61:\tlearn: 81384.7166494\ttotal: 627ms\tremaining: 384ms\n",
      "62:\tlearn: 81182.8128949\ttotal: 634ms\tremaining: 372ms\n",
      "63:\tlearn: 80535.5351726\ttotal: 641ms\tremaining: 361ms\n",
      "64:\tlearn: 79969.6397387\ttotal: 648ms\tremaining: 349ms\n",
      "65:\tlearn: 79599.3483333\ttotal: 655ms\tremaining: 337ms\n",
      "66:\tlearn: 79250.6021933\ttotal: 662ms\tremaining: 326ms\n",
      "67:\tlearn: 78893.9664274\ttotal: 669ms\tremaining: 315ms\n",
      "68:\tlearn: 78305.4653494\ttotal: 676ms\tremaining: 304ms\n",
      "69:\tlearn: 78101.3910392\ttotal: 683ms\tremaining: 293ms\n",
      "70:\tlearn: 77917.5179927\ttotal: 691ms\tremaining: 282ms\n",
      "71:\tlearn: 77471.9916079\ttotal: 698ms\tremaining: 271ms\n",
      "72:\tlearn: 77157.3006715\ttotal: 705ms\tremaining: 261ms\n",
      "73:\tlearn: 76934.5968253\ttotal: 712ms\tremaining: 250ms\n",
      "74:\tlearn: 76774.1625110\ttotal: 720ms\tremaining: 240ms\n",
      "75:\tlearn: 76581.7439948\ttotal: 727ms\tremaining: 230ms\n",
      "76:\tlearn: 76395.1386248\ttotal: 734ms\tremaining: 219ms\n",
      "77:\tlearn: 76247.4848758\ttotal: 741ms\tremaining: 209ms\n",
      "78:\tlearn: 76001.8839478\ttotal: 748ms\tremaining: 199ms\n",
      "79:\tlearn: 75674.9093402\ttotal: 756ms\tremaining: 189ms\n",
      "80:\tlearn: 75437.1036016\ttotal: 764ms\tremaining: 179ms\n",
      "81:\tlearn: 75172.0078055\ttotal: 771ms\tremaining: 169ms\n",
      "82:\tlearn: 74895.4171164\ttotal: 779ms\tremaining: 160ms\n",
      "83:\tlearn: 74719.2628815\ttotal: 787ms\tremaining: 150ms\n",
      "84:\tlearn: 74495.0312681\ttotal: 794ms\tremaining: 140ms\n",
      "85:\tlearn: 74202.5466936\ttotal: 802ms\tremaining: 130ms\n",
      "86:\tlearn: 74007.2729331\ttotal: 809ms\tremaining: 121ms\n",
      "87:\tlearn: 73880.8925435\ttotal: 816ms\tremaining: 111ms\n",
      "88:\tlearn: 73662.0023115\ttotal: 823ms\tremaining: 102ms\n",
      "89:\tlearn: 73415.8973192\ttotal: 830ms\tremaining: 92.3ms\n",
      "90:\tlearn: 73136.6709587\ttotal: 838ms\tremaining: 82.9ms\n",
      "91:\tlearn: 72842.9860504\ttotal: 845ms\tremaining: 73.5ms\n",
      "92:\tlearn: 72698.7294985\ttotal: 852ms\tremaining: 64.1ms\n",
      "93:\tlearn: 72400.9351888\ttotal: 859ms\tremaining: 54.8ms\n",
      "94:\tlearn: 72140.9263889\ttotal: 866ms\tremaining: 45.6ms\n",
      "95:\tlearn: 71881.3179222\ttotal: 873ms\tremaining: 36.4ms\n",
      "96:\tlearn: 71739.6754083\ttotal: 881ms\tremaining: 27.2ms\n",
      "97:\tlearn: 71478.9839208\ttotal: 888ms\tremaining: 18.1ms\n",
      "98:\tlearn: 71323.2278406\ttotal: 895ms\tremaining: 9.04ms\n",
      "99:\tlearn: 70976.9543659\ttotal: 902ms\tremaining: 0us\n",
      "Learning rate set to 0.376839\n",
      "0:\tlearn: 238388.1742446\ttotal: 6.71ms\tremaining: 664ms\n",
      "1:\tlearn: 188619.2227350\ttotal: 13.2ms\tremaining: 647ms\n",
      "2:\tlearn: 163369.3139432\ttotal: 19.9ms\tremaining: 642ms\n",
      "3:\tlearn: 145851.2489248\ttotal: 26.5ms\tremaining: 637ms\n",
      "4:\tlearn: 135947.5527670\ttotal: 33.2ms\tremaining: 630ms\n",
      "5:\tlearn: 128513.5647481\ttotal: 39.7ms\tremaining: 621ms\n",
      "6:\tlearn: 124443.1839969\ttotal: 46.3ms\tremaining: 615ms\n",
      "7:\tlearn: 121297.6955895\ttotal: 52.6ms\tremaining: 605ms\n",
      "8:\tlearn: 118993.2057413\ttotal: 59.1ms\tremaining: 598ms\n",
      "9:\tlearn: 116736.3307028\ttotal: 65.2ms\tremaining: 587ms\n",
      "10:\tlearn: 114561.2061911\ttotal: 71.2ms\tremaining: 576ms\n",
      "11:\tlearn: 112215.9078001\ttotal: 77.2ms\tremaining: 566ms\n",
      "12:\tlearn: 110660.3772546\ttotal: 83.3ms\tremaining: 557ms\n",
      "13:\tlearn: 109909.9352907\ttotal: 89.4ms\tremaining: 549ms\n",
      "14:\tlearn: 108491.3026040\ttotal: 95.3ms\tremaining: 540ms\n",
      "15:\tlearn: 107845.8308505\ttotal: 101ms\tremaining: 533ms\n",
      "16:\tlearn: 106674.7112915\ttotal: 108ms\tremaining: 526ms\n",
      "17:\tlearn: 105681.9362714\ttotal: 114ms\tremaining: 519ms\n",
      "18:\tlearn: 104797.6768685\ttotal: 120ms\tremaining: 513ms\n",
      "19:\tlearn: 103672.4191350\ttotal: 126ms\tremaining: 506ms\n",
      "20:\tlearn: 102820.1446379\ttotal: 132ms\tremaining: 498ms\n",
      "21:\tlearn: 101795.5610559\ttotal: 138ms\tremaining: 491ms\n",
      "22:\tlearn: 101019.8816932\ttotal: 145ms\tremaining: 485ms\n",
      "23:\tlearn: 100291.6563560\ttotal: 151ms\tremaining: 478ms\n",
      "24:\tlearn: 99136.2243900\ttotal: 157ms\tremaining: 471ms\n",
      "25:\tlearn: 98512.1305387\ttotal: 163ms\tremaining: 464ms\n",
      "26:\tlearn: 97762.3861809\ttotal: 169ms\tremaining: 458ms\n",
      "27:\tlearn: 97085.4526721\ttotal: 177ms\tremaining: 455ms\n",
      "28:\tlearn: 96239.3759684\ttotal: 183ms\tremaining: 448ms\n",
      "29:\tlearn: 95391.0005055\ttotal: 190ms\tremaining: 443ms\n",
      "30:\tlearn: 95066.0337348\ttotal: 196ms\tremaining: 436ms\n",
      "31:\tlearn: 94437.3280511\ttotal: 202ms\tremaining: 429ms\n",
      "32:\tlearn: 93851.5483518\ttotal: 208ms\tremaining: 423ms\n",
      "33:\tlearn: 92961.6615685\ttotal: 214ms\tremaining: 416ms\n",
      "34:\tlearn: 92347.2609835\ttotal: 221ms\tremaining: 410ms\n",
      "35:\tlearn: 91402.8045094\ttotal: 227ms\tremaining: 404ms\n",
      "36:\tlearn: 90773.8306659\ttotal: 233ms\tremaining: 397ms\n",
      "37:\tlearn: 90483.6518458\ttotal: 240ms\tremaining: 392ms\n",
      "38:\tlearn: 90007.5541784\ttotal: 246ms\tremaining: 385ms\n",
      "39:\tlearn: 89574.5080831\ttotal: 253ms\tremaining: 380ms\n",
      "40:\tlearn: 89218.8153322\ttotal: 259ms\tremaining: 373ms\n",
      "41:\tlearn: 88859.1707402\ttotal: 266ms\tremaining: 367ms\n",
      "42:\tlearn: 88454.2276316\ttotal: 272ms\tremaining: 360ms\n",
      "43:\tlearn: 87742.0039319\ttotal: 278ms\tremaining: 354ms\n",
      "44:\tlearn: 87222.8036224\ttotal: 284ms\tremaining: 347ms\n",
      "45:\tlearn: 86792.8480068\ttotal: 290ms\tremaining: 340ms\n",
      "46:\tlearn: 86481.0731134\ttotal: 296ms\tremaining: 334ms\n",
      "47:\tlearn: 85905.6517216\ttotal: 302ms\tremaining: 327ms\n",
      "48:\tlearn: 85463.6566939\ttotal: 308ms\tremaining: 320ms\n",
      "49:\tlearn: 84872.7699436\ttotal: 314ms\tremaining: 314ms\n",
      "50:\tlearn: 84364.5896031\ttotal: 320ms\tremaining: 307ms\n",
      "51:\tlearn: 84205.3272029\ttotal: 326ms\tremaining: 301ms\n",
      "52:\tlearn: 83936.8880057\ttotal: 332ms\tremaining: 294ms\n",
      "53:\tlearn: 83769.4605604\ttotal: 338ms\tremaining: 288ms\n",
      "54:\tlearn: 83422.5366015\ttotal: 344ms\tremaining: 281ms\n",
      "55:\tlearn: 82842.3622850\ttotal: 350ms\tremaining: 275ms\n",
      "56:\tlearn: 82449.8642752\ttotal: 356ms\tremaining: 269ms\n"
     ]
    },
    {
     "name": "stdout",
     "output_type": "stream",
     "text": [
      "57:\tlearn: 82011.3022811\ttotal: 363ms\tremaining: 263ms\n",
      "58:\tlearn: 81630.6899287\ttotal: 369ms\tremaining: 256ms\n",
      "59:\tlearn: 81360.1875618\ttotal: 375ms\tremaining: 250ms\n",
      "60:\tlearn: 81156.3265896\ttotal: 381ms\tremaining: 243ms\n",
      "61:\tlearn: 80816.5958168\ttotal: 387ms\tremaining: 237ms\n",
      "62:\tlearn: 80579.6182346\ttotal: 393ms\tremaining: 231ms\n",
      "63:\tlearn: 80143.9121675\ttotal: 398ms\tremaining: 224ms\n",
      "64:\tlearn: 79923.2357252\ttotal: 404ms\tremaining: 218ms\n",
      "65:\tlearn: 79470.1167540\ttotal: 410ms\tremaining: 211ms\n",
      "66:\tlearn: 79187.4100887\ttotal: 417ms\tremaining: 205ms\n",
      "67:\tlearn: 78795.9808381\ttotal: 423ms\tremaining: 199ms\n",
      "68:\tlearn: 78385.2898336\ttotal: 429ms\tremaining: 193ms\n",
      "69:\tlearn: 78072.2538540\ttotal: 435ms\tremaining: 186ms\n",
      "70:\tlearn: 77810.5705135\ttotal: 441ms\tremaining: 180ms\n",
      "71:\tlearn: 77623.6799251\ttotal: 447ms\tremaining: 174ms\n",
      "72:\tlearn: 77334.3490904\ttotal: 453ms\tremaining: 168ms\n",
      "73:\tlearn: 76997.7301406\ttotal: 459ms\tremaining: 161ms\n",
      "74:\tlearn: 76766.7221732\ttotal: 465ms\tremaining: 155ms\n",
      "75:\tlearn: 76314.9492409\ttotal: 471ms\tremaining: 149ms\n",
      "76:\tlearn: 75945.4125590\ttotal: 478ms\tremaining: 143ms\n",
      "77:\tlearn: 75655.0715899\ttotal: 484ms\tremaining: 136ms\n",
      "78:\tlearn: 75399.8338678\ttotal: 490ms\tremaining: 130ms\n",
      "79:\tlearn: 75139.4986365\ttotal: 496ms\tremaining: 124ms\n",
      "80:\tlearn: 74662.2506792\ttotal: 502ms\tremaining: 118ms\n",
      "81:\tlearn: 74512.8917240\ttotal: 508ms\tremaining: 112ms\n",
      "82:\tlearn: 74220.4490228\ttotal: 514ms\tremaining: 105ms\n",
      "83:\tlearn: 74024.9857590\ttotal: 520ms\tremaining: 99.1ms\n",
      "84:\tlearn: 73825.0062401\ttotal: 526ms\tremaining: 92.9ms\n",
      "85:\tlearn: 73436.0766224\ttotal: 532ms\tremaining: 86.7ms\n",
      "86:\tlearn: 73302.3833932\ttotal: 539ms\tremaining: 80.5ms\n",
      "87:\tlearn: 73010.9637745\ttotal: 545ms\tremaining: 74.3ms\n",
      "88:\tlearn: 72679.2700881\ttotal: 552ms\tremaining: 68.2ms\n",
      "89:\tlearn: 72233.7483453\ttotal: 558ms\tremaining: 62ms\n",
      "90:\tlearn: 72020.3895388\ttotal: 564ms\tremaining: 55.8ms\n",
      "91:\tlearn: 71876.0747335\ttotal: 570ms\tremaining: 49.6ms\n",
      "92:\tlearn: 71748.0545773\ttotal: 576ms\tremaining: 43.4ms\n",
      "93:\tlearn: 71536.0512843\ttotal: 582ms\tremaining: 37.1ms\n",
      "94:\tlearn: 71197.4217189\ttotal: 588ms\tremaining: 30.9ms\n",
      "95:\tlearn: 70962.3092663\ttotal: 594ms\tremaining: 24.7ms\n",
      "96:\tlearn: 70557.2685730\ttotal: 600ms\tremaining: 18.5ms\n",
      "97:\tlearn: 70409.0588766\ttotal: 606ms\tremaining: 12.4ms\n",
      "98:\tlearn: 70104.6848695\ttotal: 612ms\tremaining: 6.18ms\n",
      "99:\tlearn: 69850.4433528\ttotal: 618ms\tremaining: 0us\n",
      "Learning rate set to 0.376839\n",
      "0:\tlearn: 233370.6862731\ttotal: 7.38ms\tremaining: 731ms\n",
      "1:\tlearn: 186687.7907430\ttotal: 15ms\tremaining: 733ms\n",
      "2:\tlearn: 159862.1970675\ttotal: 21.6ms\tremaining: 697ms\n",
      "3:\tlearn: 144003.2354868\ttotal: 28.2ms\tremaining: 678ms\n",
      "4:\tlearn: 132609.3014420\ttotal: 35ms\tremaining: 664ms\n",
      "5:\tlearn: 125178.0184473\ttotal: 41.3ms\tremaining: 647ms\n",
      "6:\tlearn: 120490.6714376\ttotal: 47.7ms\tremaining: 633ms\n",
      "7:\tlearn: 117074.0046999\ttotal: 54.2ms\tremaining: 624ms\n",
      "8:\tlearn: 114637.8070299\ttotal: 60.9ms\tremaining: 616ms\n",
      "9:\tlearn: 112766.8084677\ttotal: 68.1ms\tremaining: 613ms\n",
      "10:\tlearn: 111684.5156777\ttotal: 74.7ms\tremaining: 604ms\n",
      "11:\tlearn: 110243.6847205\ttotal: 81.3ms\tremaining: 596ms\n",
      "12:\tlearn: 108721.8066060\ttotal: 87.9ms\tremaining: 588ms\n",
      "13:\tlearn: 107481.2525852\ttotal: 94.6ms\tremaining: 581ms\n",
      "14:\tlearn: 106285.3645079\ttotal: 101ms\tremaining: 573ms\n",
      "15:\tlearn: 105559.0538136\ttotal: 108ms\tremaining: 566ms\n",
      "16:\tlearn: 104181.3571743\ttotal: 115ms\tremaining: 560ms\n",
      "17:\tlearn: 103058.0694502\ttotal: 122ms\tremaining: 554ms\n",
      "18:\tlearn: 102152.1432285\ttotal: 128ms\tremaining: 546ms\n",
      "19:\tlearn: 100815.4180538\ttotal: 135ms\tremaining: 539ms\n",
      "20:\tlearn: 100188.8578320\ttotal: 142ms\tremaining: 534ms\n",
      "21:\tlearn: 99583.8422928\ttotal: 148ms\tremaining: 526ms\n",
      "22:\tlearn: 98597.0310907\ttotal: 155ms\tremaining: 518ms\n",
      "23:\tlearn: 97753.2508660\ttotal: 161ms\tremaining: 509ms\n",
      "24:\tlearn: 96734.1282380\ttotal: 167ms\tremaining: 501ms\n",
      "25:\tlearn: 96282.5401960\ttotal: 174ms\tremaining: 496ms\n",
      "26:\tlearn: 95644.0404132\ttotal: 181ms\tremaining: 488ms\n",
      "27:\tlearn: 94741.7211009\ttotal: 187ms\tremaining: 481ms\n",
      "28:\tlearn: 94509.4678189\ttotal: 193ms\tremaining: 473ms\n",
      "29:\tlearn: 93993.6453468\ttotal: 199ms\tremaining: 465ms\n",
      "30:\tlearn: 93100.7644980\ttotal: 205ms\tremaining: 457ms\n",
      "31:\tlearn: 92318.8852467\ttotal: 212ms\tremaining: 449ms\n",
      "32:\tlearn: 91627.0283673\ttotal: 218ms\tremaining: 442ms\n",
      "33:\tlearn: 91150.3759193\ttotal: 224ms\tremaining: 434ms\n",
      "34:\tlearn: 90538.5126591\ttotal: 230ms\tremaining: 427ms\n",
      "35:\tlearn: 89961.0436149\ttotal: 236ms\tremaining: 419ms\n",
      "36:\tlearn: 89581.0369747\ttotal: 242ms\tremaining: 412ms\n",
      "37:\tlearn: 88722.4073558\ttotal: 248ms\tremaining: 404ms\n",
      "38:\tlearn: 88159.7765210\ttotal: 254ms\tremaining: 397ms\n",
      "39:\tlearn: 87664.8942328\ttotal: 260ms\tremaining: 390ms\n",
      "40:\tlearn: 87175.6924830\ttotal: 266ms\tremaining: 383ms\n",
      "41:\tlearn: 86639.8605227\ttotal: 272ms\tremaining: 376ms\n",
      "42:\tlearn: 85986.0094646\ttotal: 278ms\tremaining: 368ms\n",
      "43:\tlearn: 85616.4378110\ttotal: 284ms\tremaining: 362ms\n",
      "44:\tlearn: 85089.2152530\ttotal: 290ms\tremaining: 355ms\n",
      "45:\tlearn: 84566.5864452\ttotal: 296ms\tremaining: 348ms\n",
      "46:\tlearn: 84124.5184541\ttotal: 302ms\tremaining: 341ms\n",
      "47:\tlearn: 83785.0852281\ttotal: 308ms\tremaining: 334ms\n",
      "48:\tlearn: 82981.3380279\ttotal: 315ms\tremaining: 327ms\n",
      "49:\tlearn: 82576.5250121\ttotal: 321ms\tremaining: 321ms\n",
      "50:\tlearn: 82114.1066512\ttotal: 327ms\tremaining: 314ms\n",
      "51:\tlearn: 81651.8823396\ttotal: 333ms\tremaining: 308ms\n",
      "52:\tlearn: 81215.4617224\ttotal: 339ms\tremaining: 301ms\n",
      "53:\tlearn: 80831.2047397\ttotal: 346ms\tremaining: 294ms\n",
      "54:\tlearn: 80584.1148110\ttotal: 353ms\tremaining: 289ms\n",
      "55:\tlearn: 79993.6101461\ttotal: 359ms\tremaining: 282ms\n",
      "56:\tlearn: 79613.6742564\ttotal: 366ms\tremaining: 276ms\n",
      "57:\tlearn: 79159.3320909\ttotal: 373ms\tremaining: 270ms\n",
      "58:\tlearn: 78883.5386746\ttotal: 379ms\tremaining: 264ms\n",
      "59:\tlearn: 78575.1215706\ttotal: 387ms\tremaining: 258ms\n",
      "60:\tlearn: 78420.2106707\ttotal: 393ms\tremaining: 251ms\n",
      "61:\tlearn: 78034.4935477\ttotal: 400ms\tremaining: 245ms\n",
      "62:\tlearn: 77793.8854833\ttotal: 407ms\tremaining: 239ms\n",
      "63:\tlearn: 77516.0803590\ttotal: 414ms\tremaining: 233ms\n",
      "64:\tlearn: 77243.7575893\ttotal: 420ms\tremaining: 226ms\n",
      "65:\tlearn: 76768.8664335\ttotal: 426ms\tremaining: 219ms\n",
      "66:\tlearn: 76353.0142952\ttotal: 432ms\tremaining: 213ms\n",
      "67:\tlearn: 76161.7645755\ttotal: 438ms\tremaining: 206ms\n",
      "68:\tlearn: 75768.8838838\ttotal: 444ms\tremaining: 199ms\n",
      "69:\tlearn: 75405.3229425\ttotal: 450ms\tremaining: 193ms\n",
      "70:\tlearn: 75076.5740618\ttotal: 456ms\tremaining: 186ms\n",
      "71:\tlearn: 74901.7866492\ttotal: 462ms\tremaining: 180ms\n",
      "72:\tlearn: 74587.4625441\ttotal: 468ms\tremaining: 173ms\n",
      "73:\tlearn: 73964.7725286\ttotal: 474ms\tremaining: 166ms\n",
      "74:\tlearn: 73690.9765970\ttotal: 480ms\tremaining: 160ms\n",
      "75:\tlearn: 73501.6244755\ttotal: 486ms\tremaining: 153ms\n",
      "76:\tlearn: 73250.7652384\ttotal: 492ms\tremaining: 147ms\n",
      "77:\tlearn: 72948.2045932\ttotal: 498ms\tremaining: 140ms\n",
      "78:\tlearn: 72677.5682012\ttotal: 504ms\tremaining: 134ms\n",
      "79:\tlearn: 72423.3384888\ttotal: 510ms\tremaining: 128ms\n",
      "80:\tlearn: 72232.9197425\ttotal: 516ms\tremaining: 121ms\n",
      "81:\tlearn: 71937.7169438\ttotal: 522ms\tremaining: 115ms\n",
      "82:\tlearn: 71703.7819621\ttotal: 529ms\tremaining: 108ms\n",
      "83:\tlearn: 71509.7584187\ttotal: 536ms\tremaining: 102ms\n",
      "84:\tlearn: 71264.6945020\ttotal: 542ms\tremaining: 95.7ms\n",
      "85:\tlearn: 71149.2794513\ttotal: 549ms\tremaining: 89.3ms\n",
      "86:\tlearn: 70854.1866163\ttotal: 555ms\tremaining: 82.9ms\n",
      "87:\tlearn: 70626.3262627\ttotal: 561ms\tremaining: 76.5ms\n",
      "88:\tlearn: 70344.3263096\ttotal: 567ms\tremaining: 70.1ms\n",
      "89:\tlearn: 70173.9506224\ttotal: 573ms\tremaining: 63.7ms\n",
      "90:\tlearn: 69906.4181921\ttotal: 579ms\tremaining: 57.3ms\n",
      "91:\tlearn: 69756.4541407\ttotal: 585ms\tremaining: 50.9ms\n",
      "92:\tlearn: 69603.8947545\ttotal: 592ms\tremaining: 44.5ms\n",
      "93:\tlearn: 69421.9026408\ttotal: 598ms\tremaining: 38.1ms\n",
      "94:\tlearn: 69199.2651168\ttotal: 604ms\tremaining: 31.8ms\n",
      "95:\tlearn: 68992.3919455\ttotal: 610ms\tremaining: 25.4ms\n",
      "96:\tlearn: 68783.2951765\ttotal: 616ms\tremaining: 19.1ms\n",
      "97:\tlearn: 68643.0900858\ttotal: 623ms\tremaining: 12.7ms\n",
      "98:\tlearn: 68327.6050167\ttotal: 629ms\tremaining: 6.36ms\n",
      "99:\tlearn: 68191.2886291\ttotal: 636ms\tremaining: 0us\n",
      "Learning rate set to 0.376839\n",
      "0:\tlearn: 237920.8744993\ttotal: 7.68ms\tremaining: 760ms\n",
      "1:\tlearn: 187530.0052928\ttotal: 15.1ms\tremaining: 742ms\n",
      "2:\tlearn: 161719.2512864\ttotal: 22.3ms\tremaining: 721ms\n",
      "3:\tlearn: 145581.6666224\ttotal: 29ms\tremaining: 697ms\n",
      "4:\tlearn: 135110.4535230\ttotal: 35.7ms\tremaining: 678ms\n",
      "5:\tlearn: 128308.6606955\ttotal: 42.5ms\tremaining: 666ms\n",
      "6:\tlearn: 123916.5214376\ttotal: 49.1ms\tremaining: 652ms\n",
      "7:\tlearn: 119359.6200361\ttotal: 55.9ms\tremaining: 642ms\n",
      "8:\tlearn: 116640.4893448\ttotal: 62.6ms\tremaining: 633ms\n",
      "9:\tlearn: 114159.0743529\ttotal: 69.1ms\tremaining: 622ms\n",
      "10:\tlearn: 112037.3174244\ttotal: 75.6ms\tremaining: 612ms\n",
      "11:\tlearn: 110691.1375550\ttotal: 82ms\tremaining: 602ms\n",
      "12:\tlearn: 109679.9243233\ttotal: 88.9ms\tremaining: 595ms\n",
      "13:\tlearn: 109031.9709517\ttotal: 95.7ms\tremaining: 588ms\n",
      "14:\tlearn: 108141.5887494\ttotal: 102ms\tremaining: 581ms\n",
      "15:\tlearn: 106829.3515225\ttotal: 109ms\tremaining: 573ms\n",
      "16:\tlearn: 105405.6289831\ttotal: 116ms\tremaining: 565ms\n",
      "17:\tlearn: 104284.3034373\ttotal: 122ms\tremaining: 556ms\n",
      "18:\tlearn: 102792.3009321\ttotal: 129ms\tremaining: 550ms\n",
      "19:\tlearn: 101907.6054579\ttotal: 136ms\tremaining: 543ms\n",
      "20:\tlearn: 100788.5514457\ttotal: 143ms\tremaining: 536ms\n",
      "21:\tlearn: 100145.8375594\ttotal: 149ms\tremaining: 529ms\n",
      "22:\tlearn: 98928.4004255\ttotal: 156ms\tremaining: 521ms\n",
      "23:\tlearn: 98663.9536809\ttotal: 162ms\tremaining: 514ms\n",
      "24:\tlearn: 97882.9061669\ttotal: 169ms\tremaining: 507ms\n",
      "25:\tlearn: 97207.3007785\ttotal: 176ms\tremaining: 500ms\n"
     ]
    },
    {
     "name": "stdout",
     "output_type": "stream",
     "text": [
      "26:\tlearn: 96830.8781775\ttotal: 183ms\tremaining: 495ms\n",
      "27:\tlearn: 96239.1672318\ttotal: 190ms\tremaining: 487ms\n",
      "28:\tlearn: 95722.9146094\ttotal: 196ms\tremaining: 480ms\n",
      "29:\tlearn: 94767.4608250\ttotal: 203ms\tremaining: 473ms\n",
      "30:\tlearn: 94439.5314017\ttotal: 210ms\tremaining: 467ms\n",
      "31:\tlearn: 93571.9201875\ttotal: 216ms\tremaining: 459ms\n",
      "32:\tlearn: 92862.8503257\ttotal: 223ms\tremaining: 453ms\n",
      "33:\tlearn: 92462.2087522\ttotal: 230ms\tremaining: 446ms\n",
      "34:\tlearn: 91713.4043666\ttotal: 236ms\tremaining: 438ms\n",
      "35:\tlearn: 91159.2643683\ttotal: 243ms\tremaining: 431ms\n",
      "36:\tlearn: 90887.6770276\ttotal: 249ms\tremaining: 424ms\n",
      "37:\tlearn: 90684.5986886\ttotal: 256ms\tremaining: 418ms\n",
      "38:\tlearn: 89906.9112167\ttotal: 263ms\tremaining: 411ms\n",
      "39:\tlearn: 89660.9954085\ttotal: 269ms\tremaining: 404ms\n",
      "40:\tlearn: 89116.5482458\ttotal: 276ms\tremaining: 397ms\n",
      "41:\tlearn: 88614.5464731\ttotal: 282ms\tremaining: 390ms\n",
      "42:\tlearn: 88192.4886793\ttotal: 289ms\tremaining: 383ms\n",
      "43:\tlearn: 87803.2915814\ttotal: 296ms\tremaining: 376ms\n",
      "44:\tlearn: 87142.0806588\ttotal: 302ms\tremaining: 369ms\n",
      "45:\tlearn: 86530.7867358\ttotal: 309ms\tremaining: 362ms\n",
      "46:\tlearn: 86224.8801095\ttotal: 315ms\tremaining: 355ms\n",
      "47:\tlearn: 85857.3369053\ttotal: 321ms\tremaining: 348ms\n",
      "48:\tlearn: 85269.9157162\ttotal: 328ms\tremaining: 341ms\n",
      "49:\tlearn: 84796.1523922\ttotal: 334ms\tremaining: 334ms\n",
      "50:\tlearn: 84198.9856329\ttotal: 341ms\tremaining: 328ms\n",
      "51:\tlearn: 83657.4602402\ttotal: 347ms\tremaining: 321ms\n",
      "52:\tlearn: 83217.8338830\ttotal: 354ms\tremaining: 314ms\n",
      "53:\tlearn: 82887.6688988\ttotal: 360ms\tremaining: 307ms\n",
      "54:\tlearn: 82483.6769651\ttotal: 367ms\tremaining: 300ms\n",
      "55:\tlearn: 81822.2800517\ttotal: 375ms\tremaining: 294ms\n",
      "56:\tlearn: 81591.4142864\ttotal: 381ms\tremaining: 288ms\n",
      "57:\tlearn: 81289.3841500\ttotal: 389ms\tremaining: 281ms\n",
      "58:\tlearn: 81060.0822004\ttotal: 395ms\tremaining: 275ms\n",
      "59:\tlearn: 80783.4970251\ttotal: 403ms\tremaining: 268ms\n",
      "60:\tlearn: 80364.4728039\ttotal: 409ms\tremaining: 262ms\n",
      "61:\tlearn: 80025.9557847\ttotal: 416ms\tremaining: 255ms\n",
      "62:\tlearn: 79442.4043384\ttotal: 423ms\tremaining: 248ms\n",
      "63:\tlearn: 79145.8056300\ttotal: 429ms\tremaining: 241ms\n",
      "64:\tlearn: 78772.9144064\ttotal: 436ms\tremaining: 235ms\n",
      "65:\tlearn: 78505.0316103\ttotal: 442ms\tremaining: 228ms\n",
      "66:\tlearn: 77965.2595355\ttotal: 449ms\tremaining: 221ms\n",
      "67:\tlearn: 77517.5120696\ttotal: 456ms\tremaining: 215ms\n",
      "68:\tlearn: 77162.3734933\ttotal: 463ms\tremaining: 208ms\n",
      "69:\tlearn: 76878.0229702\ttotal: 469ms\tremaining: 201ms\n",
      "70:\tlearn: 76490.3285738\ttotal: 476ms\tremaining: 194ms\n",
      "71:\tlearn: 76163.0919986\ttotal: 482ms\tremaining: 187ms\n",
      "72:\tlearn: 75626.3971159\ttotal: 488ms\tremaining: 181ms\n",
      "73:\tlearn: 75333.1008931\ttotal: 494ms\tremaining: 174ms\n",
      "74:\tlearn: 75158.0259210\ttotal: 500ms\tremaining: 167ms\n",
      "75:\tlearn: 74761.3674436\ttotal: 506ms\tremaining: 160ms\n",
      "76:\tlearn: 74466.6751203\ttotal: 512ms\tremaining: 153ms\n",
      "77:\tlearn: 74224.3225972\ttotal: 518ms\tremaining: 146ms\n",
      "78:\tlearn: 74052.3409443\ttotal: 524ms\tremaining: 139ms\n",
      "79:\tlearn: 73683.2777091\ttotal: 530ms\tremaining: 133ms\n",
      "80:\tlearn: 73391.4884273\ttotal: 536ms\tremaining: 126ms\n",
      "81:\tlearn: 73111.4260094\ttotal: 542ms\tremaining: 119ms\n",
      "82:\tlearn: 72775.2639052\ttotal: 547ms\tremaining: 112ms\n",
      "83:\tlearn: 72523.6687182\ttotal: 552ms\tremaining: 105ms\n",
      "84:\tlearn: 72287.1271069\ttotal: 557ms\tremaining: 98.3ms\n",
      "85:\tlearn: 72068.3647978\ttotal: 563ms\tremaining: 91.6ms\n",
      "86:\tlearn: 71813.5823218\ttotal: 568ms\tremaining: 84.8ms\n",
      "87:\tlearn: 71501.7696447\ttotal: 573ms\tremaining: 78.1ms\n",
      "88:\tlearn: 71384.6005414\ttotal: 578ms\tremaining: 71.4ms\n",
      "89:\tlearn: 71095.2340310\ttotal: 582ms\tremaining: 64.7ms\n",
      "90:\tlearn: 70858.0309629\ttotal: 587ms\tremaining: 58.1ms\n",
      "91:\tlearn: 70653.9159447\ttotal: 592ms\tremaining: 51.5ms\n",
      "92:\tlearn: 70434.1542147\ttotal: 597ms\tremaining: 44.9ms\n",
      "93:\tlearn: 70251.0364686\ttotal: 601ms\tremaining: 38.4ms\n",
      "94:\tlearn: 69911.5923172\ttotal: 606ms\tremaining: 31.9ms\n",
      "95:\tlearn: 69699.5960437\ttotal: 611ms\tremaining: 25.5ms\n",
      "96:\tlearn: 69474.0274012\ttotal: 616ms\tremaining: 19ms\n",
      "97:\tlearn: 69257.6230862\ttotal: 620ms\tremaining: 12.7ms\n",
      "98:\tlearn: 69068.6478226\ttotal: 625ms\tremaining: 6.32ms\n",
      "99:\tlearn: 68910.7011076\ttotal: 630ms\tremaining: 0us\n",
      "Learning rate set to 0.376839\n",
      "0:\tlearn: 239517.3212061\ttotal: 7.58ms\tremaining: 750ms\n",
      "1:\tlearn: 193338.2278940\ttotal: 14.7ms\tremaining: 720ms\n",
      "2:\tlearn: 165797.9551009\ttotal: 21.8ms\tremaining: 705ms\n",
      "3:\tlearn: 147773.0249586\ttotal: 29.2ms\tremaining: 700ms\n",
      "4:\tlearn: 136356.9609533\ttotal: 36ms\tremaining: 685ms\n",
      "5:\tlearn: 129478.5996330\ttotal: 42.8ms\tremaining: 670ms\n",
      "6:\tlearn: 125601.1619431\ttotal: 49.5ms\tremaining: 657ms\n",
      "7:\tlearn: 121914.6560787\ttotal: 56ms\tremaining: 644ms\n",
      "8:\tlearn: 118870.8378467\ttotal: 62.8ms\tremaining: 635ms\n",
      "9:\tlearn: 116304.5716565\ttotal: 69.3ms\tremaining: 624ms\n",
      "10:\tlearn: 113533.1703564\ttotal: 75.9ms\tremaining: 614ms\n",
      "11:\tlearn: 112535.6799241\ttotal: 82.1ms\tremaining: 602ms\n",
      "12:\tlearn: 111485.2974449\ttotal: 88.8ms\tremaining: 595ms\n",
      "13:\tlearn: 109399.7008200\ttotal: 95.2ms\tremaining: 585ms\n",
      "14:\tlearn: 108485.1456942\ttotal: 102ms\tremaining: 576ms\n",
      "15:\tlearn: 107899.4625939\ttotal: 107ms\tremaining: 562ms\n",
      "16:\tlearn: 107474.0672783\ttotal: 112ms\tremaining: 546ms\n",
      "17:\tlearn: 106575.8479177\ttotal: 117ms\tremaining: 531ms\n",
      "18:\tlearn: 105791.5487780\ttotal: 121ms\tremaining: 517ms\n",
      "19:\tlearn: 104848.9581475\ttotal: 126ms\tremaining: 505ms\n",
      "20:\tlearn: 104189.0899210\ttotal: 131ms\tremaining: 492ms\n",
      "21:\tlearn: 103657.2731444\ttotal: 135ms\tremaining: 480ms\n",
      "22:\tlearn: 103102.0104095\ttotal: 140ms\tremaining: 469ms\n",
      "23:\tlearn: 102107.1576131\ttotal: 145ms\tremaining: 458ms\n",
      "24:\tlearn: 100976.2609809\ttotal: 150ms\tremaining: 449ms\n",
      "25:\tlearn: 100080.2185611\ttotal: 154ms\tremaining: 439ms\n",
      "26:\tlearn: 99241.9517061\ttotal: 160ms\tremaining: 432ms\n",
      "27:\tlearn: 98452.9350041\ttotal: 164ms\tremaining: 423ms\n",
      "28:\tlearn: 97890.1730756\ttotal: 169ms\tremaining: 414ms\n",
      "29:\tlearn: 97137.7163864\ttotal: 174ms\tremaining: 406ms\n",
      "30:\tlearn: 96129.8695245\ttotal: 179ms\tremaining: 398ms\n",
      "31:\tlearn: 95519.6866575\ttotal: 183ms\tremaining: 390ms\n",
      "32:\tlearn: 94876.3521708\ttotal: 188ms\tremaining: 382ms\n",
      "33:\tlearn: 94134.1691262\ttotal: 193ms\tremaining: 374ms\n",
      "34:\tlearn: 93666.9936223\ttotal: 197ms\tremaining: 367ms\n",
      "35:\tlearn: 93112.2169731\ttotal: 202ms\tremaining: 359ms\n",
      "36:\tlearn: 92541.1952939\ttotal: 207ms\tremaining: 352ms\n",
      "37:\tlearn: 91868.9306666\ttotal: 212ms\tremaining: 345ms\n",
      "38:\tlearn: 91384.2290572\ttotal: 216ms\tremaining: 338ms\n",
      "39:\tlearn: 90619.7528779\ttotal: 221ms\tremaining: 331ms\n",
      "40:\tlearn: 90024.9835919\ttotal: 226ms\tremaining: 325ms\n",
      "41:\tlearn: 89248.4343620\ttotal: 230ms\tremaining: 318ms\n",
      "42:\tlearn: 88747.2589591\ttotal: 235ms\tremaining: 312ms\n",
      "43:\tlearn: 88157.9525382\ttotal: 240ms\tremaining: 305ms\n",
      "44:\tlearn: 87955.5895567\ttotal: 244ms\tremaining: 298ms\n",
      "45:\tlearn: 87667.3543248\ttotal: 249ms\tremaining: 292ms\n",
      "46:\tlearn: 87168.4887574\ttotal: 253ms\tremaining: 286ms\n",
      "47:\tlearn: 86994.6840396\ttotal: 258ms\tremaining: 280ms\n",
      "48:\tlearn: 86795.3416305\ttotal: 263ms\tremaining: 274ms\n",
      "49:\tlearn: 86295.3680043\ttotal: 268ms\tremaining: 268ms\n",
      "50:\tlearn: 85577.4683910\ttotal: 273ms\tremaining: 262ms\n",
      "51:\tlearn: 84981.9396807\ttotal: 277ms\tremaining: 256ms\n",
      "52:\tlearn: 84395.7867631\ttotal: 282ms\tremaining: 250ms\n",
      "53:\tlearn: 84108.6708193\ttotal: 287ms\tremaining: 244ms\n",
      "54:\tlearn: 83793.5248910\ttotal: 292ms\tremaining: 239ms\n",
      "55:\tlearn: 83365.1923939\ttotal: 296ms\tremaining: 233ms\n",
      "56:\tlearn: 82894.3892373\ttotal: 301ms\tremaining: 227ms\n",
      "57:\tlearn: 82345.9829844\ttotal: 306ms\tremaining: 221ms\n",
      "58:\tlearn: 82058.9588879\ttotal: 310ms\tremaining: 216ms\n",
      "59:\tlearn: 81797.6986152\ttotal: 315ms\tremaining: 210ms\n",
      "60:\tlearn: 81219.7691439\ttotal: 320ms\tremaining: 204ms\n",
      "61:\tlearn: 80778.6064241\ttotal: 325ms\tremaining: 199ms\n",
      "62:\tlearn: 80137.6285192\ttotal: 330ms\tremaining: 194ms\n",
      "63:\tlearn: 79944.4213287\ttotal: 334ms\tremaining: 188ms\n",
      "64:\tlearn: 79678.6594633\ttotal: 340ms\tremaining: 183ms\n",
      "65:\tlearn: 79391.8322177\ttotal: 344ms\tremaining: 177ms\n",
      "66:\tlearn: 79175.9019069\ttotal: 349ms\tremaining: 172ms\n",
      "67:\tlearn: 78994.2567205\ttotal: 354ms\tremaining: 167ms\n",
      "68:\tlearn: 78795.9511809\ttotal: 359ms\tremaining: 161ms\n",
      "69:\tlearn: 78474.4113556\ttotal: 364ms\tremaining: 156ms\n",
      "70:\tlearn: 78083.1971848\ttotal: 369ms\tremaining: 151ms\n",
      "71:\tlearn: 77902.6806155\ttotal: 374ms\tremaining: 145ms\n",
      "72:\tlearn: 77601.7538982\ttotal: 379ms\tremaining: 140ms\n",
      "73:\tlearn: 77353.1669078\ttotal: 383ms\tremaining: 135ms\n",
      "74:\tlearn: 77210.3410063\ttotal: 388ms\tremaining: 129ms\n",
      "75:\tlearn: 76814.3796526\ttotal: 392ms\tremaining: 124ms\n",
      "76:\tlearn: 76628.6417987\ttotal: 397ms\tremaining: 119ms\n",
      "77:\tlearn: 76471.3911695\ttotal: 402ms\tremaining: 113ms\n",
      "78:\tlearn: 76187.0084768\ttotal: 407ms\tremaining: 108ms\n",
      "79:\tlearn: 75893.6528051\ttotal: 412ms\tremaining: 103ms\n",
      "80:\tlearn: 75729.3231530\ttotal: 416ms\tremaining: 97.7ms\n",
      "81:\tlearn: 75327.6551618\ttotal: 421ms\tremaining: 92.5ms\n",
      "82:\tlearn: 75207.9163966\ttotal: 426ms\tremaining: 87.2ms\n",
      "83:\tlearn: 74829.7947480\ttotal: 431ms\tremaining: 82ms\n",
      "84:\tlearn: 74541.0124177\ttotal: 436ms\tremaining: 76.9ms\n",
      "85:\tlearn: 74219.8762794\ttotal: 440ms\tremaining: 71.7ms\n",
      "86:\tlearn: 73986.1025818\ttotal: 445ms\tremaining: 66.5ms\n",
      "87:\tlearn: 73665.6562283\ttotal: 450ms\tremaining: 61.4ms\n",
      "88:\tlearn: 73336.3448368\ttotal: 455ms\tremaining: 56.3ms\n",
      "89:\tlearn: 73196.1554536\ttotal: 460ms\tremaining: 51.1ms\n",
      "90:\tlearn: 72979.5650935\ttotal: 465ms\tremaining: 46ms\n",
      "91:\tlearn: 72846.2680178\ttotal: 470ms\tremaining: 40.8ms\n",
      "92:\tlearn: 72522.8280987\ttotal: 474ms\tremaining: 35.7ms\n",
      "93:\tlearn: 72371.3715439\ttotal: 479ms\tremaining: 30.6ms\n",
      "94:\tlearn: 72241.0703857\ttotal: 483ms\tremaining: 25.4ms\n",
      "95:\tlearn: 71913.0639516\ttotal: 488ms\tremaining: 20.3ms\n",
      "96:\tlearn: 71714.1134185\ttotal: 493ms\tremaining: 15.3ms\n",
      "97:\tlearn: 71443.7144074\ttotal: 498ms\tremaining: 10.2ms\n",
      "98:\tlearn: 70987.8264278\ttotal: 503ms\tremaining: 5.08ms\n",
      "99:\tlearn: 70748.1698260\ttotal: 507ms\tremaining: 0us\n"
     ]
    },
    {
     "name": "stdout",
     "output_type": "stream",
     "text": [
      "Learning rate set to 0.376839\n",
      "0:\tlearn: 236724.4818916\ttotal: 7.76ms\tremaining: 768ms\n",
      "1:\tlearn: 189933.4323784\ttotal: 15ms\tremaining: 736ms\n",
      "2:\tlearn: 163658.4922495\ttotal: 22.5ms\tremaining: 727ms\n",
      "3:\tlearn: 145688.6524502\ttotal: 29.8ms\tremaining: 716ms\n",
      "4:\tlearn: 135560.1099504\ttotal: 36.5ms\tremaining: 694ms\n",
      "5:\tlearn: 128509.0255722\ttotal: 43.1ms\tremaining: 676ms\n",
      "6:\tlearn: 123997.3852426\ttotal: 50ms\tremaining: 665ms\n",
      "7:\tlearn: 120906.5654683\ttotal: 56.9ms\tremaining: 654ms\n",
      "8:\tlearn: 118359.0517322\ttotal: 63.5ms\tremaining: 642ms\n",
      "9:\tlearn: 117009.8509450\ttotal: 70ms\tremaining: 630ms\n",
      "10:\tlearn: 115582.3611717\ttotal: 76.5ms\tremaining: 619ms\n",
      "11:\tlearn: 114667.7195310\ttotal: 83.2ms\tremaining: 610ms\n",
      "12:\tlearn: 113404.9349296\ttotal: 89.8ms\tremaining: 601ms\n",
      "13:\tlearn: 111807.1808722\ttotal: 96.4ms\tremaining: 592ms\n",
      "14:\tlearn: 110418.3072582\ttotal: 103ms\tremaining: 584ms\n",
      "15:\tlearn: 109432.5624367\ttotal: 110ms\tremaining: 576ms\n",
      "16:\tlearn: 108985.6354814\ttotal: 116ms\tremaining: 567ms\n",
      "17:\tlearn: 107153.0575221\ttotal: 121ms\tremaining: 551ms\n",
      "18:\tlearn: 106311.9670269\ttotal: 126ms\tremaining: 536ms\n",
      "19:\tlearn: 105314.1533409\ttotal: 131ms\tremaining: 523ms\n",
      "20:\tlearn: 104668.5840366\ttotal: 135ms\tremaining: 510ms\n",
      "21:\tlearn: 103862.0222021\ttotal: 140ms\tremaining: 497ms\n",
      "22:\tlearn: 103018.5624024\ttotal: 145ms\tremaining: 485ms\n",
      "23:\tlearn: 102386.3276415\ttotal: 150ms\tremaining: 474ms\n",
      "24:\tlearn: 101680.7797583\ttotal: 154ms\tremaining: 463ms\n",
      "25:\tlearn: 100936.1072530\ttotal: 159ms\tremaining: 453ms\n",
      "26:\tlearn: 100235.9609190\ttotal: 164ms\tremaining: 443ms\n",
      "27:\tlearn: 99570.6060366\ttotal: 169ms\tremaining: 434ms\n",
      "28:\tlearn: 98839.1711716\ttotal: 174ms\tremaining: 425ms\n",
      "29:\tlearn: 98222.2606018\ttotal: 179ms\tremaining: 418ms\n",
      "30:\tlearn: 97326.4667169\ttotal: 184ms\tremaining: 409ms\n",
      "31:\tlearn: 96735.7064798\ttotal: 189ms\tremaining: 401ms\n",
      "32:\tlearn: 95902.5069750\ttotal: 194ms\tremaining: 393ms\n",
      "33:\tlearn: 95084.1344886\ttotal: 198ms\tremaining: 385ms\n",
      "34:\tlearn: 94532.6960555\ttotal: 203ms\tremaining: 378ms\n",
      "35:\tlearn: 93890.2161534\ttotal: 208ms\tremaining: 370ms\n",
      "36:\tlearn: 93457.4843407\ttotal: 213ms\tremaining: 362ms\n",
      "37:\tlearn: 92784.4901430\ttotal: 217ms\tremaining: 355ms\n",
      "38:\tlearn: 92054.6361929\ttotal: 222ms\tremaining: 347ms\n",
      "39:\tlearn: 91263.4341556\ttotal: 227ms\tremaining: 341ms\n",
      "40:\tlearn: 90776.8557252\ttotal: 232ms\tremaining: 334ms\n",
      "41:\tlearn: 90399.1701138\ttotal: 237ms\tremaining: 327ms\n",
      "42:\tlearn: 90029.7297579\ttotal: 241ms\tremaining: 320ms\n",
      "43:\tlearn: 89533.2203317\ttotal: 246ms\tremaining: 313ms\n",
      "44:\tlearn: 89060.9173371\ttotal: 251ms\tremaining: 307ms\n",
      "45:\tlearn: 88588.5083829\ttotal: 256ms\tremaining: 300ms\n",
      "46:\tlearn: 88042.4009523\ttotal: 260ms\tremaining: 293ms\n",
      "47:\tlearn: 87544.2414744\ttotal: 265ms\tremaining: 287ms\n",
      "48:\tlearn: 87038.6106564\ttotal: 270ms\tremaining: 281ms\n",
      "49:\tlearn: 86694.8314533\ttotal: 274ms\tremaining: 274ms\n",
      "50:\tlearn: 86113.7143090\ttotal: 279ms\tremaining: 268ms\n",
      "51:\tlearn: 85582.1746388\ttotal: 284ms\tremaining: 262ms\n",
      "52:\tlearn: 85321.5462926\ttotal: 289ms\tremaining: 256ms\n",
      "53:\tlearn: 84972.5084508\ttotal: 293ms\tremaining: 250ms\n",
      "54:\tlearn: 84758.1851142\ttotal: 298ms\tremaining: 244ms\n",
      "55:\tlearn: 84453.7176060\ttotal: 303ms\tremaining: 238ms\n",
      "56:\tlearn: 83829.9911037\ttotal: 308ms\tremaining: 232ms\n",
      "57:\tlearn: 83576.5776678\ttotal: 312ms\tremaining: 226ms\n",
      "58:\tlearn: 83405.9097281\ttotal: 317ms\tremaining: 220ms\n",
      "59:\tlearn: 83095.9936173\ttotal: 321ms\tremaining: 214ms\n",
      "60:\tlearn: 82602.4284981\ttotal: 326ms\tremaining: 209ms\n",
      "61:\tlearn: 82194.9442211\ttotal: 331ms\tremaining: 203ms\n",
      "62:\tlearn: 81796.6495155\ttotal: 336ms\tremaining: 197ms\n",
      "63:\tlearn: 81279.9866504\ttotal: 341ms\tremaining: 192ms\n",
      "64:\tlearn: 81132.1348798\ttotal: 345ms\tremaining: 186ms\n",
      "65:\tlearn: 80755.9740334\ttotal: 350ms\tremaining: 180ms\n",
      "66:\tlearn: 80552.1519881\ttotal: 354ms\tremaining: 175ms\n",
      "67:\tlearn: 80343.0791345\ttotal: 359ms\tremaining: 169ms\n",
      "68:\tlearn: 79776.3360196\ttotal: 364ms\tremaining: 164ms\n",
      "69:\tlearn: 79610.7977834\ttotal: 367ms\tremaining: 157ms\n",
      "70:\tlearn: 79155.8087841\ttotal: 371ms\tremaining: 151ms\n",
      "71:\tlearn: 78930.5877808\ttotal: 374ms\tremaining: 145ms\n",
      "72:\tlearn: 78406.0109346\ttotal: 377ms\tremaining: 140ms\n",
      "73:\tlearn: 78048.5596786\ttotal: 381ms\tremaining: 134ms\n",
      "74:\tlearn: 77795.4950355\ttotal: 386ms\tremaining: 129ms\n",
      "75:\tlearn: 77502.1779701\ttotal: 391ms\tremaining: 123ms\n",
      "76:\tlearn: 77253.2863475\ttotal: 396ms\tremaining: 118ms\n",
      "77:\tlearn: 76986.0141349\ttotal: 401ms\tremaining: 113ms\n",
      "78:\tlearn: 76684.3884562\ttotal: 405ms\tremaining: 108ms\n",
      "79:\tlearn: 76361.2482551\ttotal: 411ms\tremaining: 103ms\n",
      "80:\tlearn: 76200.2958303\ttotal: 415ms\tremaining: 97.4ms\n",
      "81:\tlearn: 75785.9129661\ttotal: 420ms\tremaining: 92.2ms\n",
      "82:\tlearn: 75630.6558177\ttotal: 425ms\tremaining: 87ms\n",
      "83:\tlearn: 75359.7997004\ttotal: 429ms\tremaining: 81.8ms\n",
      "84:\tlearn: 75050.4765811\ttotal: 434ms\tremaining: 76.6ms\n",
      "85:\tlearn: 74865.6858988\ttotal: 439ms\tremaining: 71.4ms\n",
      "86:\tlearn: 74562.1178086\ttotal: 443ms\tremaining: 66.3ms\n",
      "87:\tlearn: 74164.3562475\ttotal: 448ms\tremaining: 61.1ms\n",
      "88:\tlearn: 73958.2522246\ttotal: 453ms\tremaining: 56ms\n",
      "89:\tlearn: 73701.8937515\ttotal: 458ms\tremaining: 50.9ms\n",
      "90:\tlearn: 73444.2507613\ttotal: 463ms\tremaining: 45.8ms\n",
      "91:\tlearn: 73085.9804038\ttotal: 468ms\tremaining: 40.7ms\n",
      "92:\tlearn: 72922.0174917\ttotal: 472ms\tremaining: 35.5ms\n",
      "93:\tlearn: 72696.0556981\ttotal: 477ms\tremaining: 30.5ms\n",
      "94:\tlearn: 72436.9507566\ttotal: 482ms\tremaining: 25.4ms\n",
      "95:\tlearn: 72281.9051330\ttotal: 487ms\tremaining: 20.3ms\n",
      "96:\tlearn: 72169.0441267\ttotal: 491ms\tremaining: 15.2ms\n",
      "97:\tlearn: 72083.6586543\ttotal: 496ms\tremaining: 10.1ms\n",
      "98:\tlearn: 71834.3370315\ttotal: 500ms\tremaining: 5.05ms\n",
      "99:\tlearn: 71632.5704016\ttotal: 505ms\tremaining: 0us\n",
      "Learning rate set to 0.376839\n",
      "0:\tlearn: 235072.7023229\ttotal: 7.92ms\tremaining: 784ms\n",
      "1:\tlearn: 189894.3980284\ttotal: 15.1ms\tremaining: 739ms\n",
      "2:\tlearn: 162216.1055117\ttotal: 22.3ms\tremaining: 721ms\n",
      "3:\tlearn: 145632.4424938\ttotal: 29.3ms\tremaining: 703ms\n",
      "4:\tlearn: 135088.1885819\ttotal: 36.4ms\tremaining: 692ms\n",
      "5:\tlearn: 128857.6873915\ttotal: 43.4ms\tremaining: 679ms\n",
      "6:\tlearn: 124790.6707079\ttotal: 50ms\tremaining: 665ms\n",
      "7:\tlearn: 120290.3927994\ttotal: 56.5ms\tremaining: 650ms\n",
      "8:\tlearn: 117135.8584024\ttotal: 63.1ms\tremaining: 638ms\n",
      "9:\tlearn: 115388.0518244\ttotal: 69.6ms\tremaining: 626ms\n",
      "10:\tlearn: 114535.0099112\ttotal: 76.1ms\tremaining: 616ms\n",
      "11:\tlearn: 112554.9618757\ttotal: 82.9ms\tremaining: 608ms\n",
      "12:\tlearn: 111550.7017341\ttotal: 89.5ms\tremaining: 599ms\n",
      "13:\tlearn: 110678.6377884\ttotal: 96.2ms\tremaining: 591ms\n",
      "14:\tlearn: 109901.8119576\ttotal: 103ms\tremaining: 582ms\n",
      "15:\tlearn: 107891.4445994\ttotal: 109ms\tremaining: 575ms\n",
      "16:\tlearn: 106666.0114493\ttotal: 116ms\tremaining: 566ms\n",
      "17:\tlearn: 106185.6536404\ttotal: 123ms\tremaining: 559ms\n",
      "18:\tlearn: 105064.9955950\ttotal: 129ms\tremaining: 551ms\n",
      "19:\tlearn: 103649.1948216\ttotal: 136ms\tremaining: 543ms\n",
      "20:\tlearn: 103155.1465723\ttotal: 142ms\tremaining: 536ms\n",
      "21:\tlearn: 102569.7074805\ttotal: 147ms\tremaining: 523ms\n",
      "22:\tlearn: 101541.9817057\ttotal: 152ms\tremaining: 510ms\n",
      "23:\tlearn: 100643.3794084\ttotal: 157ms\tremaining: 498ms\n",
      "24:\tlearn: 100069.2520729\ttotal: 162ms\tremaining: 486ms\n",
      "25:\tlearn: 99552.4646586\ttotal: 167ms\tremaining: 475ms\n",
      "26:\tlearn: 98694.9607383\ttotal: 171ms\tremaining: 464ms\n",
      "27:\tlearn: 97943.6935467\ttotal: 176ms\tremaining: 454ms\n",
      "28:\tlearn: 96663.6271624\ttotal: 181ms\tremaining: 444ms\n",
      "29:\tlearn: 96208.7190787\ttotal: 186ms\tremaining: 434ms\n",
      "30:\tlearn: 95502.8867818\ttotal: 191ms\tremaining: 424ms\n",
      "31:\tlearn: 94745.5657457\ttotal: 195ms\tremaining: 415ms\n",
      "32:\tlearn: 94333.1716965\ttotal: 200ms\tremaining: 406ms\n",
      "33:\tlearn: 94098.3963074\ttotal: 205ms\tremaining: 397ms\n",
      "34:\tlearn: 93841.1378079\ttotal: 209ms\tremaining: 389ms\n",
      "35:\tlearn: 93036.5355446\ttotal: 214ms\tremaining: 380ms\n",
      "36:\tlearn: 92287.7109864\ttotal: 219ms\tremaining: 372ms\n",
      "37:\tlearn: 91953.4212943\ttotal: 223ms\tremaining: 364ms\n",
      "38:\tlearn: 91266.4994042\ttotal: 228ms\tremaining: 357ms\n",
      "39:\tlearn: 90695.2138822\ttotal: 233ms\tremaining: 349ms\n",
      "40:\tlearn: 90107.5561830\ttotal: 238ms\tremaining: 342ms\n",
      "41:\tlearn: 89580.0731395\ttotal: 242ms\tremaining: 335ms\n",
      "42:\tlearn: 89062.9188463\ttotal: 247ms\tremaining: 328ms\n",
      "43:\tlearn: 88658.7798368\ttotal: 252ms\tremaining: 320ms\n",
      "44:\tlearn: 88165.7052004\ttotal: 256ms\tremaining: 313ms\n",
      "45:\tlearn: 87718.9521194\ttotal: 261ms\tremaining: 307ms\n",
      "46:\tlearn: 87247.8771582\ttotal: 266ms\tremaining: 300ms\n",
      "47:\tlearn: 86815.1155761\ttotal: 271ms\tremaining: 293ms\n",
      "48:\tlearn: 86094.1455473\ttotal: 275ms\tremaining: 287ms\n",
      "49:\tlearn: 85806.1713033\ttotal: 280ms\tremaining: 280ms\n",
      "50:\tlearn: 85518.7576654\ttotal: 285ms\tremaining: 274ms\n",
      "51:\tlearn: 85119.5178589\ttotal: 290ms\tremaining: 268ms\n",
      "52:\tlearn: 84681.2722647\ttotal: 295ms\tremaining: 262ms\n",
      "53:\tlearn: 84207.7165918\ttotal: 300ms\tremaining: 255ms\n",
      "54:\tlearn: 83617.5962347\ttotal: 304ms\tremaining: 249ms\n",
      "55:\tlearn: 83217.3071465\ttotal: 309ms\tremaining: 243ms\n",
      "56:\tlearn: 82567.2480613\ttotal: 314ms\tremaining: 237ms\n",
      "57:\tlearn: 81972.7226295\ttotal: 320ms\tremaining: 232ms\n",
      "58:\tlearn: 81721.0946670\ttotal: 326ms\tremaining: 226ms\n",
      "59:\tlearn: 81441.5941161\ttotal: 332ms\tremaining: 221ms\n"
     ]
    },
    {
     "name": "stdout",
     "output_type": "stream",
     "text": [
      "60:\tlearn: 81129.0858135\ttotal: 339ms\tremaining: 217ms\n",
      "61:\tlearn: 80757.4619418\ttotal: 345ms\tremaining: 212ms\n",
      "62:\tlearn: 80383.1784051\ttotal: 351ms\tremaining: 206ms\n",
      "63:\tlearn: 80063.7306521\ttotal: 357ms\tremaining: 201ms\n",
      "64:\tlearn: 79689.8668403\ttotal: 364ms\tremaining: 196ms\n",
      "65:\tlearn: 79180.6742750\ttotal: 370ms\tremaining: 191ms\n",
      "66:\tlearn: 78849.0516527\ttotal: 377ms\tremaining: 186ms\n",
      "67:\tlearn: 78628.9594534\ttotal: 383ms\tremaining: 180ms\n",
      "68:\tlearn: 78184.9285409\ttotal: 389ms\tremaining: 175ms\n",
      "69:\tlearn: 77996.2771409\ttotal: 395ms\tremaining: 169ms\n",
      "70:\tlearn: 77838.9118933\ttotal: 401ms\tremaining: 164ms\n",
      "71:\tlearn: 77499.8877230\ttotal: 407ms\tremaining: 158ms\n",
      "72:\tlearn: 77228.9712508\ttotal: 413ms\tremaining: 153ms\n",
      "73:\tlearn: 76990.2196642\ttotal: 419ms\tremaining: 147ms\n",
      "74:\tlearn: 76882.8007041\ttotal: 425ms\tremaining: 142ms\n",
      "75:\tlearn: 76549.0732699\ttotal: 431ms\tremaining: 136ms\n",
      "76:\tlearn: 76173.4965377\ttotal: 437ms\tremaining: 131ms\n",
      "77:\tlearn: 75983.5915342\ttotal: 443ms\tremaining: 125ms\n",
      "78:\tlearn: 75883.6491126\ttotal: 449ms\tremaining: 119ms\n",
      "79:\tlearn: 75705.4681473\ttotal: 455ms\tremaining: 114ms\n",
      "80:\tlearn: 75451.7126194\ttotal: 461ms\tremaining: 108ms\n",
      "81:\tlearn: 74955.8345849\ttotal: 467ms\tremaining: 103ms\n",
      "82:\tlearn: 74682.1528519\ttotal: 473ms\tremaining: 96.9ms\n",
      "83:\tlearn: 74395.6511962\ttotal: 480ms\tremaining: 91.4ms\n",
      "84:\tlearn: 74211.1343642\ttotal: 486ms\tremaining: 85.7ms\n",
      "85:\tlearn: 73849.3420479\ttotal: 492ms\tremaining: 80.1ms\n",
      "86:\tlearn: 73534.1344969\ttotal: 498ms\tremaining: 74.4ms\n",
      "87:\tlearn: 73254.3703072\ttotal: 504ms\tremaining: 68.7ms\n",
      "88:\tlearn: 73005.8547304\ttotal: 510ms\tremaining: 63ms\n",
      "89:\tlearn: 72801.4347687\ttotal: 517ms\tremaining: 57.4ms\n",
      "90:\tlearn: 72507.2826895\ttotal: 523ms\tremaining: 51.8ms\n",
      "91:\tlearn: 72345.7544620\ttotal: 530ms\tremaining: 46.1ms\n",
      "92:\tlearn: 72158.2373445\ttotal: 536ms\tremaining: 40.3ms\n",
      "93:\tlearn: 71878.9389071\ttotal: 542ms\tremaining: 34.6ms\n",
      "94:\tlearn: 71637.7034568\ttotal: 549ms\tremaining: 28.9ms\n",
      "95:\tlearn: 71378.4172863\ttotal: 555ms\tremaining: 23.1ms\n",
      "96:\tlearn: 71302.4445669\ttotal: 561ms\tremaining: 17.4ms\n",
      "97:\tlearn: 71040.9020375\ttotal: 567ms\tremaining: 11.6ms\n",
      "98:\tlearn: 70882.2812902\ttotal: 573ms\tremaining: 5.79ms\n",
      "99:\tlearn: 70778.0989339\ttotal: 579ms\tremaining: 0us\n",
      "Learning rate set to 0.376839\n",
      "0:\tlearn: 238966.3521235\ttotal: 7.3ms\tremaining: 723ms\n",
      "1:\tlearn: 190924.3887079\ttotal: 14.4ms\tremaining: 704ms\n",
      "2:\tlearn: 163265.6426720\ttotal: 21.4ms\tremaining: 693ms\n",
      "3:\tlearn: 146491.5537025\ttotal: 28.7ms\tremaining: 689ms\n",
      "4:\tlearn: 135647.6597034\ttotal: 35.9ms\tremaining: 682ms\n",
      "5:\tlearn: 128759.1956588\ttotal: 42.7ms\tremaining: 669ms\n",
      "6:\tlearn: 124671.6434710\ttotal: 49.2ms\tremaining: 654ms\n",
      "7:\tlearn: 121658.2402360\ttotal: 55.6ms\tremaining: 640ms\n",
      "8:\tlearn: 119255.7625830\ttotal: 62.3ms\tremaining: 630ms\n",
      "9:\tlearn: 116987.1807403\ttotal: 68.6ms\tremaining: 617ms\n",
      "10:\tlearn: 114464.6533897\ttotal: 75.2ms\tremaining: 609ms\n",
      "11:\tlearn: 112908.5062575\ttotal: 81.9ms\tremaining: 600ms\n",
      "12:\tlearn: 111462.7078578\ttotal: 88.5ms\tremaining: 592ms\n",
      "13:\tlearn: 110739.9492547\ttotal: 94.8ms\tremaining: 582ms\n",
      "14:\tlearn: 109679.2052861\ttotal: 101ms\tremaining: 574ms\n",
      "15:\tlearn: 108635.3181788\ttotal: 108ms\tremaining: 565ms\n",
      "16:\tlearn: 107967.6012953\ttotal: 114ms\tremaining: 559ms\n",
      "17:\tlearn: 106901.2499107\ttotal: 120ms\tremaining: 547ms\n",
      "18:\tlearn: 105951.5375530\ttotal: 125ms\tremaining: 532ms\n",
      "19:\tlearn: 104893.9476369\ttotal: 129ms\tremaining: 518ms\n",
      "20:\tlearn: 103929.1970596\ttotal: 134ms\tremaining: 506ms\n",
      "21:\tlearn: 102619.8848730\ttotal: 139ms\tremaining: 493ms\n",
      "22:\tlearn: 101889.6414591\ttotal: 144ms\tremaining: 482ms\n",
      "23:\tlearn: 101453.1621230\ttotal: 149ms\tremaining: 471ms\n",
      "24:\tlearn: 100039.2857016\ttotal: 153ms\tremaining: 460ms\n",
      "25:\tlearn: 99573.0175817\ttotal: 158ms\tremaining: 450ms\n",
      "26:\tlearn: 98416.8566105\ttotal: 163ms\tremaining: 440ms\n",
      "27:\tlearn: 97978.4043059\ttotal: 168ms\tremaining: 431ms\n",
      "28:\tlearn: 97597.6978091\ttotal: 172ms\tremaining: 422ms\n",
      "29:\tlearn: 97067.7806249\ttotal: 178ms\tremaining: 415ms\n",
      "30:\tlearn: 95954.7418866\ttotal: 183ms\tremaining: 406ms\n",
      "31:\tlearn: 95243.8958180\ttotal: 187ms\tremaining: 398ms\n",
      "32:\tlearn: 94325.7397257\ttotal: 192ms\tremaining: 390ms\n",
      "33:\tlearn: 93583.2833436\ttotal: 197ms\tremaining: 382ms\n",
      "34:\tlearn: 92767.8771526\ttotal: 202ms\tremaining: 375ms\n",
      "35:\tlearn: 91796.9216254\ttotal: 207ms\tremaining: 367ms\n",
      "36:\tlearn: 91443.4712126\ttotal: 211ms\tremaining: 359ms\n",
      "37:\tlearn: 91145.5899735\ttotal: 216ms\tremaining: 352ms\n",
      "38:\tlearn: 90623.4235681\ttotal: 220ms\tremaining: 345ms\n",
      "39:\tlearn: 90252.5077267\ttotal: 225ms\tremaining: 337ms\n",
      "40:\tlearn: 89863.6983962\ttotal: 230ms\tremaining: 331ms\n",
      "41:\tlearn: 89331.5257290\ttotal: 235ms\tremaining: 324ms\n",
      "42:\tlearn: 89000.4592111\ttotal: 240ms\tremaining: 318ms\n",
      "43:\tlearn: 88533.8293321\ttotal: 244ms\tremaining: 311ms\n",
      "44:\tlearn: 87905.2782891\ttotal: 249ms\tremaining: 305ms\n",
      "45:\tlearn: 87399.6429008\ttotal: 254ms\tremaining: 298ms\n",
      "46:\tlearn: 86746.5361044\ttotal: 258ms\tremaining: 291ms\n",
      "47:\tlearn: 86414.8795881\ttotal: 263ms\tremaining: 285ms\n",
      "48:\tlearn: 85840.0636630\ttotal: 268ms\tremaining: 279ms\n",
      "49:\tlearn: 85399.0631590\ttotal: 272ms\tremaining: 272ms\n",
      "50:\tlearn: 84978.8073520\ttotal: 277ms\tremaining: 266ms\n",
      "51:\tlearn: 84610.5882369\ttotal: 282ms\tremaining: 260ms\n",
      "52:\tlearn: 84363.8688191\ttotal: 287ms\tremaining: 254ms\n",
      "53:\tlearn: 84126.1556856\ttotal: 291ms\tremaining: 248ms\n",
      "54:\tlearn: 83562.6047735\ttotal: 296ms\tremaining: 242ms\n",
      "55:\tlearn: 83334.0836200\ttotal: 301ms\tremaining: 236ms\n",
      "56:\tlearn: 82972.0794447\ttotal: 305ms\tremaining: 230ms\n",
      "57:\tlearn: 82612.4145646\ttotal: 310ms\tremaining: 224ms\n",
      "58:\tlearn: 82207.4008933\ttotal: 314ms\tremaining: 218ms\n",
      "59:\tlearn: 81914.0192630\ttotal: 319ms\tremaining: 213ms\n",
      "60:\tlearn: 81631.6640532\ttotal: 323ms\tremaining: 207ms\n",
      "61:\tlearn: 81443.5602002\ttotal: 328ms\tremaining: 201ms\n",
      "62:\tlearn: 81084.6144748\ttotal: 333ms\tremaining: 195ms\n",
      "63:\tlearn: 80604.7047585\ttotal: 338ms\tremaining: 190ms\n",
      "64:\tlearn: 80079.2230752\ttotal: 342ms\tremaining: 184ms\n",
      "65:\tlearn: 79507.6889570\ttotal: 347ms\tremaining: 179ms\n",
      "66:\tlearn: 79182.3436115\ttotal: 352ms\tremaining: 173ms\n",
      "67:\tlearn: 78894.6925757\ttotal: 356ms\tremaining: 168ms\n",
      "68:\tlearn: 78687.9903421\ttotal: 361ms\tremaining: 162ms\n",
      "69:\tlearn: 78358.9431250\ttotal: 366ms\tremaining: 157ms\n",
      "70:\tlearn: 78098.9639997\ttotal: 372ms\tremaining: 152ms\n",
      "71:\tlearn: 77879.0743682\ttotal: 377ms\tremaining: 146ms\n",
      "72:\tlearn: 77570.9738168\ttotal: 382ms\tremaining: 141ms\n",
      "73:\tlearn: 77286.5125322\ttotal: 386ms\tremaining: 136ms\n",
      "74:\tlearn: 76992.5181654\ttotal: 391ms\tremaining: 130ms\n",
      "75:\tlearn: 76602.6156870\ttotal: 396ms\tremaining: 125ms\n",
      "76:\tlearn: 76448.5690282\ttotal: 400ms\tremaining: 120ms\n",
      "77:\tlearn: 76217.3566079\ttotal: 405ms\tremaining: 114ms\n",
      "78:\tlearn: 75963.2530991\ttotal: 410ms\tremaining: 109ms\n",
      "79:\tlearn: 75625.8456162\ttotal: 415ms\tremaining: 104ms\n",
      "80:\tlearn: 75371.3118308\ttotal: 420ms\tremaining: 98.5ms\n",
      "81:\tlearn: 75083.1235918\ttotal: 425ms\tremaining: 93.2ms\n",
      "82:\tlearn: 74671.2651567\ttotal: 429ms\tremaining: 87.9ms\n",
      "83:\tlearn: 74524.9998755\ttotal: 434ms\tremaining: 82.6ms\n",
      "84:\tlearn: 74332.7194707\ttotal: 439ms\tremaining: 77.4ms\n",
      "85:\tlearn: 74120.1951751\ttotal: 443ms\tremaining: 72.2ms\n",
      "86:\tlearn: 73667.6126712\ttotal: 448ms\tremaining: 66.9ms\n",
      "87:\tlearn: 73302.3623406\ttotal: 453ms\tremaining: 61.7ms\n",
      "88:\tlearn: 73092.6952535\ttotal: 457ms\tremaining: 56.5ms\n",
      "89:\tlearn: 72951.6656018\ttotal: 462ms\tremaining: 51.3ms\n",
      "90:\tlearn: 72624.2261255\ttotal: 467ms\tremaining: 46.1ms\n",
      "91:\tlearn: 72442.9941911\ttotal: 471ms\tremaining: 41ms\n",
      "92:\tlearn: 72268.9090820\ttotal: 476ms\tremaining: 35.8ms\n",
      "93:\tlearn: 72194.1541684\ttotal: 481ms\tremaining: 30.7ms\n",
      "94:\tlearn: 71898.9994525\ttotal: 486ms\tremaining: 25.6ms\n",
      "95:\tlearn: 71694.2531872\ttotal: 490ms\tremaining: 20.4ms\n",
      "96:\tlearn: 71474.3501226\ttotal: 495ms\tremaining: 15.3ms\n",
      "97:\tlearn: 71265.3167734\ttotal: 500ms\tremaining: 10.2ms\n",
      "98:\tlearn: 70970.0056269\ttotal: 505ms\tremaining: 5.09ms\n",
      "99:\tlearn: 70693.1088350\ttotal: 509ms\tremaining: 0us\n",
      "Learning rate set to 0.376839\n",
      "0:\tlearn: 236880.3109953\ttotal: 8.07ms\tremaining: 799ms\n",
      "1:\tlearn: 189991.4795068\ttotal: 15.5ms\tremaining: 761ms\n",
      "2:\tlearn: 162646.1039798\ttotal: 22.5ms\tremaining: 729ms\n",
      "3:\tlearn: 145733.6954305\ttotal: 30.2ms\tremaining: 724ms\n",
      "4:\tlearn: 135483.2207901\ttotal: 37.6ms\tremaining: 714ms\n",
      "5:\tlearn: 128549.9774451\ttotal: 44.8ms\tremaining: 702ms\n",
      "6:\tlearn: 123214.5961124\ttotal: 51.8ms\tremaining: 688ms\n",
      "7:\tlearn: 120027.2326451\ttotal: 58.7ms\tremaining: 675ms\n",
      "8:\tlearn: 117541.1871575\ttotal: 65.2ms\tremaining: 660ms\n",
      "9:\tlearn: 115515.7471174\ttotal: 71.8ms\tremaining: 646ms\n",
      "10:\tlearn: 113959.0038938\ttotal: 78.6ms\tremaining: 636ms\n",
      "11:\tlearn: 113005.7501419\ttotal: 84.9ms\tremaining: 623ms\n",
      "12:\tlearn: 110930.7572666\ttotal: 91.6ms\tremaining: 613ms\n",
      "13:\tlearn: 109891.8375269\ttotal: 98.4ms\tremaining: 604ms\n",
      "14:\tlearn: 107929.4232427\ttotal: 105ms\tremaining: 596ms\n",
      "15:\tlearn: 107180.1485422\ttotal: 112ms\tremaining: 586ms\n",
      "16:\tlearn: 106380.8679741\ttotal: 118ms\tremaining: 576ms\n",
      "17:\tlearn: 105366.4950660\ttotal: 125ms\tremaining: 567ms\n",
      "18:\tlearn: 104523.7217453\ttotal: 131ms\tremaining: 558ms\n",
      "19:\tlearn: 103916.1910951\ttotal: 137ms\tremaining: 549ms\n",
      "20:\tlearn: 102654.0669311\ttotal: 142ms\tremaining: 534ms\n",
      "21:\tlearn: 101945.9620373\ttotal: 147ms\tremaining: 521ms\n",
      "22:\tlearn: 101315.6955093\ttotal: 151ms\tremaining: 507ms\n",
      "23:\tlearn: 100771.0833048\ttotal: 156ms\tremaining: 494ms\n",
      "24:\tlearn: 99818.9916484\ttotal: 161ms\tremaining: 482ms\n",
      "25:\tlearn: 98712.2142289\ttotal: 165ms\tremaining: 470ms\n",
      "26:\tlearn: 97797.8980611\ttotal: 170ms\tremaining: 460ms\n"
     ]
    },
    {
     "name": "stdout",
     "output_type": "stream",
     "text": [
      "27:\tlearn: 96991.8720982\ttotal: 175ms\tremaining: 450ms\n",
      "28:\tlearn: 96220.2547464\ttotal: 180ms\tremaining: 441ms\n",
      "29:\tlearn: 95449.5762343\ttotal: 185ms\tremaining: 432ms\n",
      "30:\tlearn: 94507.8266312\ttotal: 190ms\tremaining: 422ms\n",
      "31:\tlearn: 93912.0714402\ttotal: 194ms\tremaining: 413ms\n",
      "32:\tlearn: 93507.8864256\ttotal: 199ms\tremaining: 405ms\n",
      "33:\tlearn: 92992.3668669\ttotal: 204ms\tremaining: 396ms\n",
      "34:\tlearn: 92390.0256851\ttotal: 209ms\tremaining: 387ms\n",
      "35:\tlearn: 91697.2500990\ttotal: 213ms\tremaining: 379ms\n",
      "36:\tlearn: 91199.9253302\ttotal: 218ms\tremaining: 372ms\n",
      "37:\tlearn: 90611.2863410\ttotal: 223ms\tremaining: 364ms\n",
      "38:\tlearn: 90339.0182328\ttotal: 228ms\tremaining: 356ms\n",
      "39:\tlearn: 89580.3906864\ttotal: 232ms\tremaining: 348ms\n",
      "40:\tlearn: 89032.8712865\ttotal: 237ms\tremaining: 341ms\n",
      "41:\tlearn: 88641.2232598\ttotal: 242ms\tremaining: 334ms\n",
      "42:\tlearn: 88215.5495999\ttotal: 246ms\tremaining: 326ms\n",
      "43:\tlearn: 87722.7865374\ttotal: 251ms\tremaining: 319ms\n",
      "44:\tlearn: 87189.3000009\ttotal: 256ms\tremaining: 312ms\n",
      "45:\tlearn: 86640.7358267\ttotal: 261ms\tremaining: 306ms\n",
      "46:\tlearn: 85994.1088981\ttotal: 265ms\tremaining: 299ms\n",
      "47:\tlearn: 85251.7372375\ttotal: 270ms\tremaining: 292ms\n",
      "48:\tlearn: 84892.7091428\ttotal: 275ms\tremaining: 286ms\n",
      "49:\tlearn: 84660.9828127\ttotal: 279ms\tremaining: 279ms\n",
      "50:\tlearn: 84421.4258277\ttotal: 284ms\tremaining: 273ms\n",
      "51:\tlearn: 84169.1442814\ttotal: 289ms\tremaining: 266ms\n",
      "52:\tlearn: 83666.2578774\ttotal: 293ms\tremaining: 260ms\n",
      "53:\tlearn: 83225.2126558\ttotal: 298ms\tremaining: 254ms\n",
      "54:\tlearn: 82950.8006529\ttotal: 303ms\tremaining: 248ms\n",
      "55:\tlearn: 82677.5343723\ttotal: 307ms\tremaining: 242ms\n",
      "56:\tlearn: 82349.9070707\ttotal: 312ms\tremaining: 236ms\n",
      "57:\tlearn: 82040.3371585\ttotal: 317ms\tremaining: 230ms\n",
      "58:\tlearn: 81607.7941201\ttotal: 322ms\tremaining: 224ms\n",
      "59:\tlearn: 81398.7223497\ttotal: 326ms\tremaining: 218ms\n",
      "60:\tlearn: 81039.7330187\ttotal: 331ms\tremaining: 212ms\n",
      "61:\tlearn: 80642.3218598\ttotal: 336ms\tremaining: 206ms\n",
      "62:\tlearn: 80354.1312951\ttotal: 341ms\tremaining: 200ms\n",
      "63:\tlearn: 80024.2657294\ttotal: 346ms\tremaining: 195ms\n",
      "64:\tlearn: 79611.7562043\ttotal: 350ms\tremaining: 189ms\n",
      "65:\tlearn: 79350.3101638\ttotal: 355ms\tremaining: 183ms\n",
      "66:\tlearn: 78987.5120293\ttotal: 360ms\tremaining: 177ms\n",
      "67:\tlearn: 78249.2548631\ttotal: 365ms\tremaining: 172ms\n",
      "68:\tlearn: 77932.1813616\ttotal: 370ms\tremaining: 166ms\n",
      "69:\tlearn: 77703.4037497\ttotal: 375ms\tremaining: 161ms\n",
      "70:\tlearn: 77147.2381989\ttotal: 380ms\tremaining: 155ms\n",
      "71:\tlearn: 76942.8992947\ttotal: 385ms\tremaining: 150ms\n",
      "72:\tlearn: 76736.3522612\ttotal: 390ms\tremaining: 144ms\n",
      "73:\tlearn: 76442.9220910\ttotal: 395ms\tremaining: 139ms\n",
      "74:\tlearn: 76040.8776381\ttotal: 400ms\tremaining: 133ms\n",
      "75:\tlearn: 75489.3704359\ttotal: 405ms\tremaining: 128ms\n",
      "76:\tlearn: 75264.8479833\ttotal: 410ms\tremaining: 122ms\n",
      "77:\tlearn: 75030.1016631\ttotal: 415ms\tremaining: 117ms\n",
      "78:\tlearn: 74739.5369002\ttotal: 420ms\tremaining: 112ms\n",
      "79:\tlearn: 74484.8276115\ttotal: 425ms\tremaining: 106ms\n",
      "80:\tlearn: 74315.2663568\ttotal: 431ms\tremaining: 101ms\n",
      "81:\tlearn: 74026.8841626\ttotal: 436ms\tremaining: 95.6ms\n",
      "82:\tlearn: 73749.1869895\ttotal: 440ms\tremaining: 90.2ms\n",
      "83:\tlearn: 73473.7722941\ttotal: 445ms\tremaining: 84.8ms\n",
      "84:\tlearn: 73295.8623238\ttotal: 450ms\tremaining: 79.4ms\n",
      "85:\tlearn: 72908.8757384\ttotal: 455ms\tremaining: 74.1ms\n",
      "86:\tlearn: 72653.2923332\ttotal: 460ms\tremaining: 68.7ms\n",
      "87:\tlearn: 72250.9312023\ttotal: 465ms\tremaining: 63.4ms\n",
      "88:\tlearn: 71859.8598237\ttotal: 470ms\tremaining: 58.1ms\n",
      "89:\tlearn: 71685.0366946\ttotal: 475ms\tremaining: 52.8ms\n",
      "90:\tlearn: 71464.1980536\ttotal: 480ms\tremaining: 47.4ms\n",
      "91:\tlearn: 71140.9185573\ttotal: 485ms\tremaining: 42.1ms\n",
      "92:\tlearn: 70846.4950235\ttotal: 489ms\tremaining: 36.8ms\n",
      "93:\tlearn: 70639.7251909\ttotal: 494ms\tremaining: 31.5ms\n",
      "94:\tlearn: 70421.5227432\ttotal: 499ms\tremaining: 26.3ms\n",
      "95:\tlearn: 70255.2396737\ttotal: 506ms\tremaining: 21.1ms\n",
      "96:\tlearn: 70069.7934499\ttotal: 512ms\tremaining: 15.8ms\n",
      "97:\tlearn: 69846.5201436\ttotal: 517ms\tremaining: 10.6ms\n",
      "98:\tlearn: 69422.9459734\ttotal: 522ms\tremaining: 5.28ms\n",
      "99:\tlearn: 69134.0072175\ttotal: 527ms\tremaining: 0us\n",
      "Learning rate set to 0.376839\n",
      "0:\tlearn: 237517.7348780\ttotal: 8.16ms\tremaining: 808ms\n",
      "1:\tlearn: 190200.3164721\ttotal: 16.2ms\tremaining: 793ms\n",
      "2:\tlearn: 162214.4232563\ttotal: 23.7ms\tremaining: 766ms\n",
      "3:\tlearn: 145725.5876791\ttotal: 32.3ms\tremaining: 776ms\n",
      "4:\tlearn: 135637.2523141\ttotal: 40.3ms\tremaining: 766ms\n",
      "5:\tlearn: 128985.1150433\ttotal: 47.6ms\tremaining: 746ms\n",
      "6:\tlearn: 123954.5016936\ttotal: 55.5ms\tremaining: 737ms\n",
      "7:\tlearn: 119844.1928883\ttotal: 63.3ms\tremaining: 728ms\n",
      "8:\tlearn: 118443.6129679\ttotal: 70.8ms\tremaining: 716ms\n",
      "9:\tlearn: 116865.3253430\ttotal: 79ms\tremaining: 711ms\n",
      "10:\tlearn: 115790.5652881\ttotal: 86.9ms\tremaining: 703ms\n",
      "11:\tlearn: 113420.6136288\ttotal: 93.7ms\tremaining: 687ms\n",
      "12:\tlearn: 111520.5226584\ttotal: 101ms\tremaining: 679ms\n",
      "13:\tlearn: 109658.0573276\ttotal: 108ms\tremaining: 666ms\n",
      "14:\tlearn: 108722.9839850\ttotal: 116ms\tremaining: 655ms\n",
      "15:\tlearn: 108332.6410092\ttotal: 122ms\tremaining: 642ms\n",
      "16:\tlearn: 107384.1949779\ttotal: 129ms\tremaining: 630ms\n",
      "17:\tlearn: 106187.1543871\ttotal: 136ms\tremaining: 619ms\n",
      "18:\tlearn: 105477.0477771\ttotal: 143ms\tremaining: 612ms\n",
      "19:\tlearn: 104724.7042556\ttotal: 151ms\tremaining: 602ms\n",
      "20:\tlearn: 104178.7299986\ttotal: 157ms\tremaining: 591ms\n",
      "21:\tlearn: 103781.7066808\ttotal: 164ms\tremaining: 581ms\n",
      "22:\tlearn: 103289.3857703\ttotal: 170ms\tremaining: 571ms\n",
      "23:\tlearn: 102551.3161597\ttotal: 177ms\tremaining: 561ms\n",
      "24:\tlearn: 101853.3414809\ttotal: 185ms\tremaining: 555ms\n",
      "25:\tlearn: 101452.9960621\ttotal: 192ms\tremaining: 546ms\n",
      "26:\tlearn: 99945.2103549\ttotal: 198ms\tremaining: 537ms\n",
      "27:\tlearn: 99175.1706563\ttotal: 205ms\tremaining: 528ms\n",
      "28:\tlearn: 98421.6089139\ttotal: 212ms\tremaining: 520ms\n",
      "29:\tlearn: 97002.0951722\ttotal: 219ms\tremaining: 511ms\n",
      "30:\tlearn: 96340.6875655\ttotal: 226ms\tremaining: 502ms\n",
      "31:\tlearn: 96063.2290862\ttotal: 232ms\tremaining: 493ms\n",
      "32:\tlearn: 95445.8009211\ttotal: 239ms\tremaining: 486ms\n",
      "33:\tlearn: 94951.5472641\ttotal: 246ms\tremaining: 477ms\n",
      "34:\tlearn: 94471.0890673\ttotal: 252ms\tremaining: 469ms\n",
      "35:\tlearn: 93634.3710035\ttotal: 260ms\tremaining: 461ms\n",
      "36:\tlearn: 92969.1076209\ttotal: 266ms\tremaining: 453ms\n",
      "37:\tlearn: 92431.6067876\ttotal: 272ms\tremaining: 445ms\n",
      "38:\tlearn: 92141.5367059\ttotal: 279ms\tremaining: 437ms\n",
      "39:\tlearn: 91461.1714393\ttotal: 286ms\tremaining: 429ms\n",
      "40:\tlearn: 90893.0181279\ttotal: 293ms\tremaining: 421ms\n",
      "41:\tlearn: 90488.6502547\ttotal: 300ms\tremaining: 414ms\n",
      "42:\tlearn: 89905.2804590\ttotal: 306ms\tremaining: 406ms\n",
      "43:\tlearn: 89298.0047197\ttotal: 313ms\tremaining: 398ms\n",
      "44:\tlearn: 88802.8772139\ttotal: 319ms\tremaining: 390ms\n",
      "45:\tlearn: 88253.3250730\ttotal: 326ms\tremaining: 382ms\n",
      "46:\tlearn: 87839.0899352\ttotal: 332ms\tremaining: 375ms\n",
      "47:\tlearn: 87518.3562112\ttotal: 339ms\tremaining: 367ms\n",
      "48:\tlearn: 86935.2052472\ttotal: 345ms\tremaining: 359ms\n",
      "49:\tlearn: 86387.2299722\ttotal: 352ms\tremaining: 352ms\n",
      "50:\tlearn: 85479.9660962\ttotal: 360ms\tremaining: 346ms\n",
      "51:\tlearn: 84944.4332099\ttotal: 367ms\tremaining: 338ms\n",
      "52:\tlearn: 84352.3685049\ttotal: 373ms\tremaining: 331ms\n",
      "53:\tlearn: 83902.5322895\ttotal: 380ms\tremaining: 323ms\n",
      "54:\tlearn: 83605.8942466\ttotal: 387ms\tremaining: 316ms\n",
      "55:\tlearn: 83109.2938918\ttotal: 393ms\tremaining: 309ms\n",
      "56:\tlearn: 82852.2679496\ttotal: 400ms\tremaining: 302ms\n",
      "57:\tlearn: 82311.6815319\ttotal: 407ms\tremaining: 294ms\n",
      "58:\tlearn: 81993.9126178\ttotal: 413ms\tremaining: 287ms\n",
      "59:\tlearn: 81592.3432023\ttotal: 420ms\tremaining: 280ms\n",
      "60:\tlearn: 81368.5234073\ttotal: 427ms\tremaining: 273ms\n",
      "61:\tlearn: 81142.9374914\ttotal: 433ms\tremaining: 266ms\n",
      "62:\tlearn: 80961.6107984\ttotal: 440ms\tremaining: 258ms\n",
      "63:\tlearn: 80651.9148614\ttotal: 447ms\tremaining: 251ms\n",
      "64:\tlearn: 80341.7891603\ttotal: 453ms\tremaining: 244ms\n",
      "65:\tlearn: 79949.8679673\ttotal: 460ms\tremaining: 237ms\n",
      "66:\tlearn: 79750.8457292\ttotal: 466ms\tremaining: 230ms\n",
      "67:\tlearn: 79287.9092418\ttotal: 473ms\tremaining: 223ms\n",
      "68:\tlearn: 78964.3740634\ttotal: 479ms\tremaining: 215ms\n",
      "69:\tlearn: 78586.3849169\ttotal: 486ms\tremaining: 208ms\n",
      "70:\tlearn: 78488.4387863\ttotal: 493ms\tremaining: 201ms\n",
      "71:\tlearn: 77957.9559104\ttotal: 500ms\tremaining: 194ms\n",
      "72:\tlearn: 77676.6239899\ttotal: 506ms\tremaining: 187ms\n",
      "73:\tlearn: 77027.1206425\ttotal: 512ms\tremaining: 180ms\n",
      "74:\tlearn: 76713.8504708\ttotal: 519ms\tremaining: 173ms\n",
      "75:\tlearn: 76363.6026624\ttotal: 526ms\tremaining: 166ms\n",
      "76:\tlearn: 75914.5455553\ttotal: 532ms\tremaining: 159ms\n"
     ]
    },
    {
     "name": "stdout",
     "output_type": "stream",
     "text": [
      "77:\tlearn: 75735.8347071\ttotal: 539ms\tremaining: 152ms\n",
      "78:\tlearn: 75191.7415546\ttotal: 546ms\tremaining: 145ms\n",
      "79:\tlearn: 74814.4817605\ttotal: 553ms\tremaining: 138ms\n",
      "80:\tlearn: 74526.2230951\ttotal: 560ms\tremaining: 131ms\n",
      "81:\tlearn: 74200.8886917\ttotal: 567ms\tremaining: 125ms\n",
      "82:\tlearn: 73834.3369041\ttotal: 575ms\tremaining: 118ms\n",
      "83:\tlearn: 73638.8443748\ttotal: 581ms\tremaining: 111ms\n",
      "84:\tlearn: 73454.3477628\ttotal: 588ms\tremaining: 104ms\n",
      "85:\tlearn: 73082.4197943\ttotal: 594ms\tremaining: 96.8ms\n",
      "86:\tlearn: 72730.8123023\ttotal: 600ms\tremaining: 89.7ms\n",
      "87:\tlearn: 72476.4465039\ttotal: 607ms\tremaining: 82.8ms\n",
      "88:\tlearn: 72285.8823682\ttotal: 613ms\tremaining: 75.8ms\n",
      "89:\tlearn: 72139.4938426\ttotal: 620ms\tremaining: 68.9ms\n",
      "90:\tlearn: 71957.4319101\ttotal: 626ms\tremaining: 62ms\n",
      "91:\tlearn: 71645.4505633\ttotal: 633ms\tremaining: 55.1ms\n",
      "92:\tlearn: 71512.0941540\ttotal: 641ms\tremaining: 48.2ms\n",
      "93:\tlearn: 71346.8820044\ttotal: 647ms\tremaining: 41.3ms\n",
      "94:\tlearn: 71144.5675184\ttotal: 654ms\tremaining: 34.4ms\n",
      "95:\tlearn: 70907.2029555\ttotal: 660ms\tremaining: 27.5ms\n",
      "96:\tlearn: 70663.5903729\ttotal: 667ms\tremaining: 20.6ms\n",
      "97:\tlearn: 70432.6490793\ttotal: 673ms\tremaining: 13.7ms\n",
      "98:\tlearn: 70254.9964910\ttotal: 680ms\tremaining: 6.87ms\n",
      "99:\tlearn: 70002.8186520\ttotal: 687ms\tremaining: 0us\n",
      "Learning rate set to 0.376839\n",
      "0:\tlearn: 239929.4301457\ttotal: 7.46ms\tremaining: 738ms\n",
      "1:\tlearn: 191479.0979094\ttotal: 14.2ms\tremaining: 698ms\n",
      "2:\tlearn: 165154.6096715\ttotal: 20.9ms\tremaining: 676ms\n",
      "3:\tlearn: 147084.0800563\ttotal: 27.5ms\tremaining: 661ms\n",
      "4:\tlearn: 134190.3098315\ttotal: 34.1ms\tremaining: 649ms\n",
      "5:\tlearn: 127571.9703163\ttotal: 40.9ms\tremaining: 640ms\n",
      "6:\tlearn: 123666.2550229\ttotal: 47.5ms\tremaining: 631ms\n",
      "7:\tlearn: 120501.1538307\ttotal: 54.2ms\tremaining: 624ms\n",
      "8:\tlearn: 118452.4957340\ttotal: 61.1ms\tremaining: 618ms\n",
      "9:\tlearn: 116759.7124961\ttotal: 67.6ms\tremaining: 608ms\n",
      "10:\tlearn: 115387.9050776\ttotal: 74.4ms\tremaining: 602ms\n",
      "11:\tlearn: 113222.5276838\ttotal: 80.7ms\tremaining: 592ms\n",
      "12:\tlearn: 112000.3639951\ttotal: 87.5ms\tremaining: 585ms\n",
      "13:\tlearn: 111425.9142282\ttotal: 94.2ms\tremaining: 579ms\n",
      "14:\tlearn: 110166.1658234\ttotal: 101ms\tremaining: 572ms\n",
      "15:\tlearn: 108436.9930827\ttotal: 108ms\tremaining: 565ms\n",
      "16:\tlearn: 107463.0854643\ttotal: 114ms\tremaining: 557ms\n",
      "17:\tlearn: 106037.5952144\ttotal: 121ms\tremaining: 550ms\n",
      "18:\tlearn: 105403.8178465\ttotal: 127ms\tremaining: 542ms\n",
      "19:\tlearn: 104393.6726732\ttotal: 133ms\tremaining: 533ms\n",
      "20:\tlearn: 103526.0123254\ttotal: 140ms\tremaining: 527ms\n",
      "21:\tlearn: 102682.5326212\ttotal: 147ms\tremaining: 520ms\n",
      "22:\tlearn: 102120.4003955\ttotal: 153ms\tremaining: 513ms\n",
      "23:\tlearn: 101312.5263866\ttotal: 160ms\tremaining: 506ms\n",
      "24:\tlearn: 100277.0029698\ttotal: 167ms\tremaining: 500ms\n",
      "25:\tlearn: 99383.9121021\ttotal: 173ms\tremaining: 493ms\n",
      "26:\tlearn: 98352.1860757\ttotal: 180ms\tremaining: 486ms\n",
      "27:\tlearn: 97697.0444992\ttotal: 186ms\tremaining: 479ms\n",
      "28:\tlearn: 96933.3814874\ttotal: 194ms\tremaining: 475ms\n",
      "29:\tlearn: 96576.9153291\ttotal: 201ms\tremaining: 469ms\n",
      "30:\tlearn: 95735.1633344\ttotal: 208ms\tremaining: 462ms\n",
      "31:\tlearn: 95229.7928087\ttotal: 215ms\tremaining: 457ms\n",
      "32:\tlearn: 94654.2402701\ttotal: 222ms\tremaining: 451ms\n",
      "33:\tlearn: 94112.1842818\ttotal: 228ms\tremaining: 444ms\n",
      "34:\tlearn: 93811.7014471\ttotal: 236ms\tremaining: 437ms\n",
      "35:\tlearn: 92934.9382196\ttotal: 242ms\tremaining: 430ms\n",
      "36:\tlearn: 92235.8143181\ttotal: 249ms\tremaining: 423ms\n",
      "37:\tlearn: 92046.5636789\ttotal: 255ms\tremaining: 415ms\n",
      "38:\tlearn: 91389.3805061\ttotal: 261ms\tremaining: 407ms\n",
      "39:\tlearn: 91129.8795101\ttotal: 267ms\tremaining: 400ms\n",
      "40:\tlearn: 90382.4834897\ttotal: 273ms\tremaining: 393ms\n",
      "41:\tlearn: 90216.6062173\ttotal: 279ms\tremaining: 386ms\n",
      "42:\tlearn: 89562.8563815\ttotal: 285ms\tremaining: 378ms\n",
      "43:\tlearn: 89428.4596044\ttotal: 291ms\tremaining: 371ms\n",
      "44:\tlearn: 88914.2304405\ttotal: 298ms\tremaining: 364ms\n",
      "45:\tlearn: 88645.1513148\ttotal: 304ms\tremaining: 356ms\n",
      "46:\tlearn: 87994.1806643\ttotal: 310ms\tremaining: 349ms\n",
      "47:\tlearn: 87317.6540499\ttotal: 316ms\tremaining: 342ms\n",
      "48:\tlearn: 86863.5096846\ttotal: 322ms\tremaining: 335ms\n",
      "49:\tlearn: 86279.2053088\ttotal: 328ms\tremaining: 328ms\n",
      "50:\tlearn: 85786.8841592\ttotal: 334ms\tremaining: 321ms\n",
      "51:\tlearn: 85386.2923576\ttotal: 340ms\tremaining: 314ms\n",
      "52:\tlearn: 84923.2866992\ttotal: 346ms\tremaining: 307ms\n",
      "53:\tlearn: 84456.7348585\ttotal: 352ms\tremaining: 300ms\n",
      "54:\tlearn: 84229.0982266\ttotal: 358ms\tremaining: 293ms\n",
      "55:\tlearn: 83776.0387589\ttotal: 364ms\tremaining: 286ms\n",
      "56:\tlearn: 83318.7929175\ttotal: 370ms\tremaining: 279ms\n",
      "57:\tlearn: 82552.6926227\ttotal: 376ms\tremaining: 272ms\n",
      "58:\tlearn: 82139.2495205\ttotal: 383ms\tremaining: 266ms\n",
      "59:\tlearn: 81829.7046844\ttotal: 390ms\tremaining: 260ms\n",
      "60:\tlearn: 81375.2394048\ttotal: 396ms\tremaining: 253ms\n",
      "61:\tlearn: 81202.6393452\ttotal: 402ms\tremaining: 246ms\n",
      "62:\tlearn: 80905.3426265\ttotal: 408ms\tremaining: 240ms\n",
      "63:\tlearn: 80747.9769741\ttotal: 414ms\tremaining: 233ms\n",
      "64:\tlearn: 80664.6349217\ttotal: 420ms\tremaining: 226ms\n",
      "65:\tlearn: 80356.5084476\ttotal: 426ms\tremaining: 219ms\n",
      "66:\tlearn: 80088.4553455\ttotal: 432ms\tremaining: 213ms\n",
      "67:\tlearn: 79737.4270019\ttotal: 438ms\tremaining: 206ms\n",
      "68:\tlearn: 79434.8299881\ttotal: 443ms\tremaining: 199ms\n",
      "69:\tlearn: 79230.4665451\ttotal: 450ms\tremaining: 193ms\n",
      "70:\tlearn: 78853.2087445\ttotal: 456ms\tremaining: 186ms\n",
      "71:\tlearn: 78558.5243311\ttotal: 462ms\tremaining: 179ms\n",
      "72:\tlearn: 78100.1711372\ttotal: 468ms\tremaining: 173ms\n",
      "73:\tlearn: 77743.5678783\ttotal: 474ms\tremaining: 167ms\n",
      "74:\tlearn: 77303.9594287\ttotal: 480ms\tremaining: 160ms\n",
      "75:\tlearn: 77067.3925699\ttotal: 487ms\tremaining: 154ms\n",
      "76:\tlearn: 76962.3332794\ttotal: 493ms\tremaining: 147ms\n",
      "77:\tlearn: 76699.0807102\ttotal: 499ms\tremaining: 141ms\n",
      "78:\tlearn: 76230.0864293\ttotal: 505ms\tremaining: 134ms\n",
      "79:\tlearn: 75928.5450115\ttotal: 512ms\tremaining: 128ms\n",
      "80:\tlearn: 75548.2069173\ttotal: 519ms\tremaining: 122ms\n",
      "81:\tlearn: 75191.0600208\ttotal: 525ms\tremaining: 115ms\n",
      "82:\tlearn: 74961.0450086\ttotal: 531ms\tremaining: 109ms\n",
      "83:\tlearn: 74771.6799115\ttotal: 539ms\tremaining: 103ms\n",
      "84:\tlearn: 74501.2233833\ttotal: 545ms\tremaining: 96.2ms\n",
      "85:\tlearn: 74253.6835453\ttotal: 552ms\tremaining: 89.8ms\n",
      "86:\tlearn: 73957.3374267\ttotal: 559ms\tremaining: 83.5ms\n",
      "87:\tlearn: 73621.3482388\ttotal: 566ms\tremaining: 77.1ms\n",
      "88:\tlearn: 73421.5247079\ttotal: 573ms\tremaining: 70.9ms\n",
      "89:\tlearn: 73160.2080376\ttotal: 580ms\tremaining: 64.5ms\n",
      "90:\tlearn: 72969.9136223\ttotal: 587ms\tremaining: 58.1ms\n",
      "91:\tlearn: 72778.6090407\ttotal: 594ms\tremaining: 51.6ms\n",
      "92:\tlearn: 72604.9789560\ttotal: 600ms\tremaining: 45.2ms\n",
      "93:\tlearn: 72423.6397875\ttotal: 607ms\tremaining: 38.7ms\n",
      "94:\tlearn: 72215.2368659\ttotal: 613ms\tremaining: 32.3ms\n",
      "95:\tlearn: 71899.7322534\ttotal: 620ms\tremaining: 25.8ms\n",
      "96:\tlearn: 71772.2877496\ttotal: 626ms\tremaining: 19.4ms\n",
      "97:\tlearn: 71593.1446729\ttotal: 633ms\tremaining: 12.9ms\n",
      "98:\tlearn: 71413.7053401\ttotal: 639ms\tremaining: 6.46ms\n",
      "99:\tlearn: 71221.9065733\ttotal: 645ms\tremaining: 0us\n"
     ]
    }
   ],
   "source": [
    "from sklearn.linear_model import LinearRegression\n",
    "from sklearn.linear_model import LinearRegression\n",
    "from sklearn.tree import DecisionTreeRegressor\n",
    "from sklearn.ensemble import BaggingRegressor\n",
    "from sklearn.ensemble import GradientBoostingRegressor\n",
    "from xgboost import XGBRegressor\n",
    "from catboost import CatBoostRegressor\n",
    "from lightgbm import LGBMRegressor\n",
    "from sklearn import metrics\n",
    "from math import sqrt\n",
    "from sklearn.model_selection import cross_validate\n",
    "import time\n",
    "\n",
    "lr = LinearRegression()        \n",
    "dt = DecisionTreeRegressor(random_state=RS)   \n",
    "br = BaggingRegressor(random_state=RS)\n",
    "rf = RandomForestRegressor(random_state=RS, n_estimators=100)  # specifying n_estimators to avoid \"future warnings\"\n",
    "gb = GradientBoostingRegressor(random_state=RS, n_estimators=100)\n",
    "xgb = XGBRegressor(random_state=RS, n_estimators=100)\n",
    "cb = CatBoostRegressor(random_state=RS, n_estimators=100)\n",
    "lbr = LGBMRegressor(random_state=RS, n_estimators=100)\n",
    "\n",
    "\n",
    "result = {}   # Create an empty dictionary to later use to store metrics of each of the models\n",
    "\n",
    "# putting all 5 models in a for loop and appending the results of each of the models to the 'result' dictionary\n",
    "for model, name  in zip([lr, dt, br, rf, gb, xgb, cb, lbr], ['Linear Regression', 'Decision Tree',\n",
    "                                               'Bagging Ensemble', 'Random Forest', 'Gradient Boost Ensemble',\n",
    "                                               'XGB Regressor', 'CatBoostRegressor', 'LGBMRegressor']):\n",
    "    result[name] = fit_n_print(model,X_train_final, X_validation,y_train_final, y_validation)  "
   ]
  },
  {
   "cell_type": "code",
   "execution_count": 39,
   "id": "fbba5412",
   "metadata": {},
   "outputs": [
    {
     "name": "stderr",
     "output_type": "stream",
     "text": [
      "<ipython-input-39-fd7d721fdf15>:1: VisibleDeprecationWarning: Creating an ndarray from ragged nested sequences (which is a list-or-tuple of lists-or-tuples-or ndarrays with different lengths or shapes) is deprecated. If you meant to do this, you must specify 'dtype=object' when creating the ndarray.\n",
      "  result1 = pd.DataFrame(np.array(list(result.values()))[:,:-1],    # make a dataframe out of the metrics from result dictionary\n"
     ]
    },
    {
     "data": {
      "text/html": [
       "<div>\n",
       "<style scoped>\n",
       "    .dataframe tbody tr th:only-of-type {\n",
       "        vertical-align: middle;\n",
       "    }\n",
       "\n",
       "    .dataframe tbody tr th {\n",
       "        vertical-align: top;\n",
       "    }\n",
       "\n",
       "    .dataframe thead th {\n",
       "        text-align: right;\n",
       "    }\n",
       "</style>\n",
       "<table border=\"1\" class=\"dataframe\">\n",
       "  <thead>\n",
       "    <tr style=\"text-align: right;\">\n",
       "      <th></th>\n",
       "      <th>R Squared</th>\n",
       "      <th>RMSE</th>\n",
       "      <th>R2 CV</th>\n",
       "      <th>RMSE CV</th>\n",
       "      <th>Elapsed</th>\n",
       "    </tr>\n",
       "    <tr>\n",
       "      <th>Model</th>\n",
       "      <th></th>\n",
       "      <th></th>\n",
       "      <th></th>\n",
       "      <th></th>\n",
       "      <th></th>\n",
       "    </tr>\n",
       "  </thead>\n",
       "  <tbody>\n",
       "    <tr>\n",
       "      <th>Linear Regression</th>\n",
       "      <td>0.641442</td>\n",
       "      <td>197254.077415</td>\n",
       "      <td>0.652252</td>\n",
       "      <td>186233.136841</td>\n",
       "      <td>0.139933</td>\n",
       "    </tr>\n",
       "    <tr>\n",
       "      <th>Decision Tree</th>\n",
       "      <td>0.775201</td>\n",
       "      <td>156186.383678</td>\n",
       "      <td>0.749626</td>\n",
       "      <td>157121.839773</td>\n",
       "      <td>1.648782</td>\n",
       "    </tr>\n",
       "    <tr>\n",
       "      <th>Bagging Ensemble</th>\n",
       "      <td>0.865749</td>\n",
       "      <td>120699.324757</td>\n",
       "      <td>0.858986</td>\n",
       "      <td>117983.705318</td>\n",
       "      <td>9.443588</td>\n",
       "    </tr>\n",
       "    <tr>\n",
       "      <th>Random Forest</th>\n",
       "      <td>0.870875</td>\n",
       "      <td>118372.785495</td>\n",
       "      <td>0.872253</td>\n",
       "      <td>112451.49581</td>\n",
       "      <td>92.967241</td>\n",
       "    </tr>\n",
       "    <tr>\n",
       "      <th>Gradient Boost Ensemble</th>\n",
       "      <td>0.845584</td>\n",
       "      <td>129446.998858</td>\n",
       "      <td>0.854589</td>\n",
       "      <td>120152.341312</td>\n",
       "      <td>32.587423</td>\n",
       "    </tr>\n",
       "    <tr>\n",
       "      <th>XGB Regressor</th>\n",
       "      <td>0.885997</td>\n",
       "      <td>111225.730374</td>\n",
       "      <td>0.871225</td>\n",
       "      <td>112812.950016</td>\n",
       "      <td>11.721403</td>\n",
       "    </tr>\n",
       "    <tr>\n",
       "      <th>CatBoostRegressor</th>\n",
       "      <td>0.886907</td>\n",
       "      <td>110780.512438</td>\n",
       "      <td>0.881313</td>\n",
       "      <td>108604.03986</td>\n",
       "      <td>12.154628</td>\n",
       "    </tr>\n",
       "    <tr>\n",
       "      <th>LGBMRegressor</th>\n",
       "      <td>0.881951</td>\n",
       "      <td>113181.945576</td>\n",
       "      <td>0.87541</td>\n",
       "      <td>111191.556473</td>\n",
       "      <td>1.700159</td>\n",
       "    </tr>\n",
       "  </tbody>\n",
       "</table>\n",
       "</div>"
      ],
      "text/plain": [
       "                        R Squared           RMSE     R2 CV        RMSE CV  \\\n",
       "Model                                                                       \n",
       "Linear Regression        0.641442  197254.077415  0.652252  186233.136841   \n",
       "Decision Tree            0.775201  156186.383678  0.749626  157121.839773   \n",
       "Bagging Ensemble         0.865749  120699.324757  0.858986  117983.705318   \n",
       "Random Forest            0.870875  118372.785495  0.872253   112451.49581   \n",
       "Gradient Boost Ensemble  0.845584  129446.998858  0.854589  120152.341312   \n",
       "XGB Regressor            0.885997  111225.730374  0.871225  112812.950016   \n",
       "CatBoostRegressor        0.886907  110780.512438  0.881313   108604.03986   \n",
       "LGBMRegressor            0.881951  113181.945576   0.87541  111191.556473   \n",
       "\n",
       "                           Elapsed  \n",
       "Model                               \n",
       "Linear Regression         0.139933  \n",
       "Decision Tree             1.648782  \n",
       "Bagging Ensemble          9.443588  \n",
       "Random Forest            92.967241  \n",
       "Gradient Boost Ensemble  32.587423  \n",
       "XGB Regressor            11.721403  \n",
       "CatBoostRegressor        12.154628  \n",
       "LGBMRegressor             1.700159  "
      ]
     },
     "execution_count": 39,
     "metadata": {},
     "output_type": "execute_result"
    }
   ],
   "source": [
    "result1 = pd.DataFrame(np.array(list(result.values()))[:,:-1],    # make a dataframe out of the metrics from result dictionary \n",
    "                       columns= ['R Squared', 'RMSE', 'R2 CV', 'RMSE CV', 'Elapsed'],\n",
    "                      index= result.keys())   # use the model names as index\n",
    "\n",
    "result1.index.name = 'Model'   # name the index of the result1 dataframe as 'Model'\n",
    "\n",
    "result1 "
   ]
  },
  {
   "cell_type": "markdown",
   "id": "92dc4800",
   "metadata": {},
   "source": [
    "CatBoostRegressor performs well, let us tune its hyperparameters."
   ]
  },
  {
   "cell_type": "code",
   "execution_count": 40,
   "id": "37a86c8f",
   "metadata": {},
   "outputs": [
    {
     "name": "stdout",
     "output_type": "stream",
     "text": [
      "0:\tlearn: 295230.9461794\ttotal: 35.3ms\tremaining: 3.5s\n",
      "1:\tlearn: 275701.7353322\ttotal: 70.5ms\tremaining: 3.46s\n",
      "2:\tlearn: 256575.3176361\ttotal: 106ms\tremaining: 3.43s\n",
      "3:\tlearn: 239591.5585173\ttotal: 141ms\tremaining: 3.39s\n",
      "4:\tlearn: 224820.5856310\ttotal: 177ms\tremaining: 3.36s\n",
      "5:\tlearn: 211708.3094772\ttotal: 211ms\tremaining: 3.31s\n",
      "6:\tlearn: 200171.1951906\ttotal: 222ms\tremaining: 2.95s\n",
      "7:\tlearn: 189372.4873247\ttotal: 255ms\tremaining: 2.93s\n",
      "8:\tlearn: 180439.2139245\ttotal: 273ms\tremaining: 2.76s\n",
      "9:\tlearn: 171674.1364188\ttotal: 304ms\tremaining: 2.73s\n",
      "10:\tlearn: 164607.8721105\ttotal: 336ms\tremaining: 2.72s\n",
      "11:\tlearn: 157633.0849602\ttotal: 367ms\tremaining: 2.69s\n",
      "12:\tlearn: 151794.1822731\ttotal: 398ms\tremaining: 2.66s\n",
      "13:\tlearn: 146008.5864606\ttotal: 428ms\tremaining: 2.63s\n",
      "14:\tlearn: 141177.5021321\ttotal: 459ms\tremaining: 2.6s\n",
      "15:\tlearn: 136940.4043896\ttotal: 490ms\tremaining: 2.57s\n",
      "16:\tlearn: 133007.4638627\ttotal: 520ms\tremaining: 2.54s\n",
      "17:\tlearn: 129480.1121604\ttotal: 549ms\tremaining: 2.5s\n",
      "18:\tlearn: 126192.2407216\ttotal: 580ms\tremaining: 2.47s\n",
      "19:\tlearn: 123111.7290607\ttotal: 610ms\tremaining: 2.44s\n",
      "20:\tlearn: 120530.0264467\ttotal: 640ms\tremaining: 2.41s\n",
      "21:\tlearn: 118232.6029831\ttotal: 672ms\tremaining: 2.38s\n",
      "22:\tlearn: 116174.3466339\ttotal: 705ms\tremaining: 2.36s\n",
      "23:\tlearn: 114292.5209367\ttotal: 736ms\tremaining: 2.33s\n",
      "24:\tlearn: 112479.9760882\ttotal: 766ms\tremaining: 2.3s\n",
      "25:\tlearn: 110893.8293352\ttotal: 795ms\tremaining: 2.26s\n",
      "26:\tlearn: 109409.3377855\ttotal: 825ms\tremaining: 2.23s\n",
      "27:\tlearn: 108089.9616690\ttotal: 856ms\tremaining: 2.2s\n",
      "28:\tlearn: 106938.0963281\ttotal: 886ms\tremaining: 2.17s\n",
      "29:\tlearn: 105637.4172281\ttotal: 916ms\tremaining: 2.14s\n",
      "30:\tlearn: 104387.2360589\ttotal: 947ms\tremaining: 2.11s\n",
      "31:\tlearn: 103523.4044838\ttotal: 977ms\tremaining: 2.08s\n",
      "32:\tlearn: 102670.8080501\ttotal: 1.01s\tremaining: 2.05s\n",
      "33:\tlearn: 101854.0045801\ttotal: 1.04s\tremaining: 2.02s\n",
      "34:\tlearn: 101182.6970621\ttotal: 1.07s\tremaining: 1.98s\n",
      "35:\tlearn: 100264.1184868\ttotal: 1.1s\tremaining: 1.95s\n",
      "36:\tlearn: 99509.1908981\ttotal: 1.13s\tremaining: 1.93s\n",
      "37:\tlearn: 98855.0809504\ttotal: 1.16s\tremaining: 1.9s\n",
      "38:\tlearn: 98127.5405088\ttotal: 1.19s\tremaining: 1.86s\n",
      "39:\tlearn: 97650.0371998\ttotal: 1.22s\tremaining: 1.83s\n",
      "40:\tlearn: 97158.7927699\ttotal: 1.25s\tremaining: 1.8s\n",
      "41:\tlearn: 96631.1174068\ttotal: 1.29s\tremaining: 1.78s\n",
      "42:\tlearn: 96189.6363483\ttotal: 1.32s\tremaining: 1.75s\n",
      "43:\tlearn: 95751.9143304\ttotal: 1.36s\tremaining: 1.74s\n",
      "44:\tlearn: 95238.0882248\ttotal: 1.4s\tremaining: 1.72s\n",
      "45:\tlearn: 94648.1305367\ttotal: 1.44s\tremaining: 1.69s\n",
      "46:\tlearn: 94288.6195514\ttotal: 1.48s\tremaining: 1.67s\n",
      "47:\tlearn: 93842.3187583\ttotal: 1.52s\tremaining: 1.65s\n",
      "48:\tlearn: 93507.6360503\ttotal: 1.56s\tremaining: 1.62s\n",
      "49:\tlearn: 92973.7984296\ttotal: 1.59s\tremaining: 1.59s\n",
      "50:\tlearn: 92564.7622788\ttotal: 1.64s\tremaining: 1.57s\n",
      "51:\tlearn: 92338.9806527\ttotal: 1.67s\tremaining: 1.54s\n",
      "52:\tlearn: 92022.7193408\ttotal: 1.71s\tremaining: 1.52s\n",
      "53:\tlearn: 91813.7927068\ttotal: 1.75s\tremaining: 1.49s\n",
      "54:\tlearn: 91551.6091929\ttotal: 1.79s\tremaining: 1.47s\n",
      "55:\tlearn: 91149.9187278\ttotal: 1.83s\tremaining: 1.44s\n",
      "56:\tlearn: 90773.2555045\ttotal: 1.87s\tremaining: 1.41s\n",
      "57:\tlearn: 90336.7896199\ttotal: 1.91s\tremaining: 1.38s\n",
      "58:\tlearn: 90139.6208816\ttotal: 1.95s\tremaining: 1.36s\n",
      "59:\tlearn: 89886.0943298\ttotal: 1.99s\tremaining: 1.33s\n",
      "60:\tlearn: 89440.3361712\ttotal: 2.03s\tremaining: 1.3s\n",
      "61:\tlearn: 89040.4390898\ttotal: 2.06s\tremaining: 1.27s\n",
      "62:\tlearn: 88705.0454230\ttotal: 2.1s\tremaining: 1.24s\n",
      "63:\tlearn: 88427.9192661\ttotal: 2.14s\tremaining: 1.2s\n",
      "64:\tlearn: 88230.7299660\ttotal: 2.18s\tremaining: 1.17s\n",
      "65:\tlearn: 87796.5032354\ttotal: 2.21s\tremaining: 1.14s\n",
      "66:\tlearn: 87602.2437533\ttotal: 2.25s\tremaining: 1.11s\n",
      "67:\tlearn: 87358.4184380\ttotal: 2.28s\tremaining: 1.07s\n",
      "68:\tlearn: 87043.9491202\ttotal: 2.32s\tremaining: 1.04s\n",
      "69:\tlearn: 86660.4382615\ttotal: 2.36s\tremaining: 1.01s\n",
      "70:\tlearn: 86513.5294619\ttotal: 2.39s\tremaining: 977ms\n",
      "71:\tlearn: 86300.2955204\ttotal: 2.43s\tremaining: 945ms\n",
      "72:\tlearn: 86056.4492305\ttotal: 2.47s\tremaining: 913ms\n",
      "73:\tlearn: 85610.4176852\ttotal: 2.5s\tremaining: 880ms\n",
      "74:\tlearn: 85399.0939400\ttotal: 2.54s\tremaining: 848ms\n",
      "75:\tlearn: 85131.3716429\ttotal: 2.58s\tremaining: 815ms\n",
      "76:\tlearn: 84933.7851447\ttotal: 2.62s\tremaining: 782ms\n",
      "77:\tlearn: 84709.4831621\ttotal: 2.65s\tremaining: 748ms\n",
      "78:\tlearn: 84551.8287529\ttotal: 2.69s\tremaining: 715ms\n",
      "79:\tlearn: 84407.9668661\ttotal: 2.73s\tremaining: 682ms\n",
      "80:\tlearn: 84244.3239263\ttotal: 2.76s\tremaining: 649ms\n",
      "81:\tlearn: 84099.0530930\ttotal: 2.8s\tremaining: 615ms\n",
      "82:\tlearn: 83804.8409165\ttotal: 2.83s\tremaining: 581ms\n",
      "83:\tlearn: 83375.7416514\ttotal: 2.87s\tremaining: 547ms\n",
      "84:\tlearn: 83095.5963491\ttotal: 2.91s\tremaining: 513ms\n",
      "85:\tlearn: 82902.8906458\ttotal: 2.94s\tremaining: 479ms\n",
      "86:\tlearn: 82651.0604592\ttotal: 2.98s\tremaining: 445ms\n",
      "87:\tlearn: 82399.3133783\ttotal: 3.02s\tremaining: 411ms\n",
      "88:\tlearn: 82153.5935237\ttotal: 3.05s\tremaining: 377ms\n",
      "89:\tlearn: 81937.2184382\ttotal: 3.08s\tremaining: 343ms\n",
      "90:\tlearn: 81759.3126836\ttotal: 3.12s\tremaining: 308ms\n",
      "91:\tlearn: 81515.0314533\ttotal: 3.15s\tremaining: 274ms\n",
      "92:\tlearn: 81245.6794576\ttotal: 3.19s\tremaining: 240ms\n",
      "93:\tlearn: 81009.2544866\ttotal: 3.22s\tremaining: 206ms\n",
      "94:\tlearn: 80822.7807834\ttotal: 3.26s\tremaining: 172ms\n",
      "95:\tlearn: 80681.0646266\ttotal: 3.3s\tremaining: 137ms\n",
      "96:\tlearn: 80406.4584412\ttotal: 3.33s\tremaining: 103ms\n",
      "97:\tlearn: 80074.0427166\ttotal: 3.37s\tremaining: 68.7ms\n",
      "98:\tlearn: 79977.9653447\ttotal: 3.4s\tremaining: 34.4ms\n",
      "99:\tlearn: 79811.9115111\ttotal: 3.44s\tremaining: 0us\n"
     ]
    },
    {
     "data": {
      "text/plain": [
       "GridSearchCV(cv=10,\n",
       "             estimator=<catboost.core.CatBoostRegressor object at 0x00000256DF37D1F0>,\n",
       "             n_jobs=-1,\n",
       "             param_grid={'depth': [6, 8, 10], 'iterations': [30, 50, 100],\n",
       "                         'learning_rate': [0.01, 0.05, 0.1]})"
      ]
     },
     "execution_count": 40,
     "metadata": {},
     "output_type": "execute_result"
    }
   ],
   "source": [
    "from sklearn.model_selection import GridSearchCV\n",
    "\n",
    "model = CatBoostRegressor(random_state=RS)\n",
    "parameters = {'depth' : [6,8,10],\n",
    "              'learning_rate' : [0.01, 0.05, 0.1],\n",
    "              'iterations'    : [30, 50, 100]\n",
    "              }\n",
    "\n",
    "grid = GridSearchCV(estimator=model, param_grid = parameters, cv = 10, n_jobs=-1)\n",
    "grid.fit(X_train_sel, y_train)"
   ]
  },
  {
   "cell_type": "code",
   "execution_count": 41,
   "id": "536e2424",
   "metadata": {},
   "outputs": [
    {
     "data": {
      "text/plain": [
       "{'depth': 10, 'iterations': 100, 'learning_rate': 0.1}"
      ]
     },
     "execution_count": 41,
     "metadata": {},
     "output_type": "execute_result"
    }
   ],
   "source": [
    "grid.best_params_"
   ]
  },
  {
   "cell_type": "code",
   "execution_count": 42,
   "id": "ca4c1984",
   "metadata": {},
   "outputs": [
    {
     "name": "stdout",
     "output_type": "stream",
     "text": [
      "0:\tlearn: 294189.4819817\ttotal: 43.6ms\tremaining: 4.32s\n",
      "1:\tlearn: 274597.3295701\ttotal: 87.2ms\tremaining: 4.28s\n",
      "2:\tlearn: 255998.5472981\ttotal: 131ms\tremaining: 4.23s\n",
      "3:\tlearn: 239075.5152822\ttotal: 175ms\tremaining: 4.19s\n",
      "4:\tlearn: 224828.0670071\ttotal: 217ms\tremaining: 4.13s\n",
      "5:\tlearn: 211953.5539921\ttotal: 258ms\tremaining: 4.04s\n",
      "6:\tlearn: 200014.2242571\ttotal: 299ms\tremaining: 3.97s\n",
      "7:\tlearn: 188878.1171086\ttotal: 338ms\tremaining: 3.88s\n",
      "8:\tlearn: 179893.7439756\ttotal: 376ms\tremaining: 3.8s\n",
      "9:\tlearn: 171242.5973309\ttotal: 405ms\tremaining: 3.65s\n",
      "10:\tlearn: 164077.2288214\ttotal: 438ms\tremaining: 3.54s\n",
      "11:\tlearn: 157330.8728838\ttotal: 469ms\tremaining: 3.44s\n",
      "12:\tlearn: 151329.6570144\ttotal: 501ms\tremaining: 3.35s\n",
      "13:\tlearn: 146194.1451524\ttotal: 531ms\tremaining: 3.26s\n",
      "14:\tlearn: 141304.3687385\ttotal: 562ms\tremaining: 3.18s\n",
      "15:\tlearn: 137058.6992232\ttotal: 592ms\tremaining: 3.11s\n",
      "16:\tlearn: 132870.1720626\ttotal: 623ms\tremaining: 3.04s\n",
      "17:\tlearn: 129325.2009561\ttotal: 653ms\tremaining: 2.98s\n",
      "18:\tlearn: 126221.4719262\ttotal: 682ms\tremaining: 2.9s\n",
      "19:\tlearn: 123234.0007530\ttotal: 705ms\tremaining: 2.82s\n",
      "20:\tlearn: 120392.6522220\ttotal: 730ms\tremaining: 2.75s\n",
      "21:\tlearn: 117848.2106077\ttotal: 753ms\tremaining: 2.67s\n",
      "22:\tlearn: 115654.0996740\ttotal: 774ms\tremaining: 2.59s\n",
      "23:\tlearn: 113549.5782814\ttotal: 798ms\tremaining: 2.52s\n",
      "24:\tlearn: 111640.1150137\ttotal: 822ms\tremaining: 2.46s\n",
      "25:\tlearn: 109984.4674695\ttotal: 847ms\tremaining: 2.41s\n",
      "26:\tlearn: 108373.2644092\ttotal: 871ms\tremaining: 2.35s\n",
      "27:\tlearn: 106810.9148937\ttotal: 899ms\tremaining: 2.31s\n",
      "28:\tlearn: 105391.6285230\ttotal: 927ms\tremaining: 2.27s\n",
      "29:\tlearn: 104300.6847353\ttotal: 955ms\tremaining: 2.23s\n",
      "30:\tlearn: 103186.3238269\ttotal: 983ms\tremaining: 2.19s\n",
      "31:\tlearn: 102197.9135105\ttotal: 1.01s\tremaining: 2.15s\n",
      "32:\tlearn: 101392.6884669\ttotal: 1.04s\tremaining: 2.12s\n",
      "33:\tlearn: 100444.5402703\ttotal: 1.08s\tremaining: 2.09s\n",
      "34:\tlearn: 99397.4477866\ttotal: 1.11s\tremaining: 2.06s\n",
      "35:\tlearn: 98466.9173794\ttotal: 1.14s\tremaining: 2.03s\n",
      "36:\tlearn: 97679.8842390\ttotal: 1.17s\tremaining: 2s\n",
      "37:\tlearn: 96887.7787330\ttotal: 1.21s\tremaining: 1.97s\n",
      "38:\tlearn: 96284.4845869\ttotal: 1.24s\tremaining: 1.94s\n",
      "39:\tlearn: 95727.6383404\ttotal: 1.27s\tremaining: 1.91s\n",
      "40:\tlearn: 95210.8727010\ttotal: 1.3s\tremaining: 1.87s\n",
      "41:\tlearn: 94785.8887823\ttotal: 1.34s\tremaining: 1.85s\n",
      "42:\tlearn: 93986.0593798\ttotal: 1.37s\tremaining: 1.81s\n",
      "43:\tlearn: 93407.3100429\ttotal: 1.4s\tremaining: 1.78s\n",
      "44:\tlearn: 92828.6589720\ttotal: 1.43s\tremaining: 1.75s\n",
      "45:\tlearn: 92425.0714928\ttotal: 1.46s\tremaining: 1.71s\n",
      "46:\tlearn: 92122.4915439\ttotal: 1.49s\tremaining: 1.68s\n",
      "47:\tlearn: 91648.7033423\ttotal: 1.52s\tremaining: 1.65s\n",
      "48:\tlearn: 91220.0853803\ttotal: 1.56s\tremaining: 1.62s\n",
      "49:\tlearn: 90684.7070287\ttotal: 1.59s\tremaining: 1.59s\n",
      "50:\tlearn: 90333.4176873\ttotal: 1.62s\tremaining: 1.55s\n",
      "51:\tlearn: 90015.0490476\ttotal: 1.65s\tremaining: 1.52s\n",
      "52:\tlearn: 89611.5321764\ttotal: 1.68s\tremaining: 1.49s\n",
      "53:\tlearn: 89287.5036798\ttotal: 1.71s\tremaining: 1.45s\n",
      "54:\tlearn: 88878.6646097\ttotal: 1.74s\tremaining: 1.42s\n",
      "55:\tlearn: 88561.0569732\ttotal: 1.77s\tremaining: 1.39s\n",
      "56:\tlearn: 88187.2509890\ttotal: 1.8s\tremaining: 1.36s\n",
      "57:\tlearn: 87896.6774617\ttotal: 1.83s\tremaining: 1.32s\n",
      "58:\tlearn: 87577.6701646\ttotal: 1.86s\tremaining: 1.29s\n",
      "59:\tlearn: 87295.9251407\ttotal: 1.89s\tremaining: 1.26s\n",
      "60:\tlearn: 87036.2054553\ttotal: 1.92s\tremaining: 1.23s\n",
      "61:\tlearn: 86829.5559340\ttotal: 1.95s\tremaining: 1.2s\n",
      "62:\tlearn: 86515.2184504\ttotal: 1.98s\tremaining: 1.16s\n",
      "63:\tlearn: 86183.8047101\ttotal: 2.01s\tremaining: 1.13s\n",
      "64:\tlearn: 85986.3012188\ttotal: 2.04s\tremaining: 1.1s\n",
      "65:\tlearn: 85809.5967057\ttotal: 2.07s\tremaining: 1.07s\n",
      "66:\tlearn: 85417.5673512\ttotal: 2.1s\tremaining: 1.04s\n",
      "67:\tlearn: 85236.6494984\ttotal: 2.14s\tremaining: 1s\n",
      "68:\tlearn: 84979.6103178\ttotal: 2.18s\tremaining: 978ms\n",
      "69:\tlearn: 84705.0333108\ttotal: 2.22s\tremaining: 950ms\n",
      "70:\tlearn: 84352.0869680\ttotal: 2.25s\tremaining: 921ms\n",
      "71:\tlearn: 84072.7740449\ttotal: 2.29s\tremaining: 892ms\n",
      "72:\tlearn: 83764.4348275\ttotal: 2.33s\tremaining: 862ms\n",
      "73:\tlearn: 83386.5827960\ttotal: 2.37s\tremaining: 832ms\n",
      "74:\tlearn: 83107.4575836\ttotal: 2.4s\tremaining: 802ms\n",
      "75:\tlearn: 82977.3839021\ttotal: 2.44s\tremaining: 772ms\n",
      "76:\tlearn: 82708.1102040\ttotal: 2.48s\tremaining: 741ms\n",
      "77:\tlearn: 82571.0557806\ttotal: 2.52s\tremaining: 710ms\n",
      "78:\tlearn: 82260.2829519\ttotal: 2.56s\tremaining: 679ms\n",
      "79:\tlearn: 82079.9223017\ttotal: 2.59s\tremaining: 648ms\n",
      "80:\tlearn: 81790.2401838\ttotal: 2.63s\tremaining: 617ms\n",
      "81:\tlearn: 81486.3081489\ttotal: 2.67s\tremaining: 586ms\n",
      "82:\tlearn: 81345.1599987\ttotal: 2.71s\tremaining: 555ms\n",
      "83:\tlearn: 81077.8865226\ttotal: 2.75s\tremaining: 523ms\n",
      "84:\tlearn: 80815.9807058\ttotal: 2.78s\tremaining: 491ms\n",
      "85:\tlearn: 80494.6650090\ttotal: 2.82s\tremaining: 459ms\n",
      "86:\tlearn: 80328.1201173\ttotal: 2.86s\tremaining: 427ms\n",
      "87:\tlearn: 80138.6628541\ttotal: 2.9s\tremaining: 395ms\n",
      "88:\tlearn: 79911.5909456\ttotal: 2.93s\tremaining: 363ms\n",
      "89:\tlearn: 79612.3264766\ttotal: 2.97s\tremaining: 330ms\n",
      "90:\tlearn: 79344.8282473\ttotal: 3.01s\tremaining: 298ms\n",
      "91:\tlearn: 79070.2480917\ttotal: 3.04s\tremaining: 265ms\n",
      "92:\tlearn: 78954.7770513\ttotal: 3.08s\tremaining: 232ms\n",
      "93:\tlearn: 78806.7629872\ttotal: 3.12s\tremaining: 199ms\n",
      "94:\tlearn: 78568.2319615\ttotal: 3.16s\tremaining: 166ms\n",
      "95:\tlearn: 78289.5282030\ttotal: 3.2s\tremaining: 133ms\n",
      "96:\tlearn: 78022.8967529\ttotal: 3.24s\tremaining: 100ms\n",
      "97:\tlearn: 77789.5022531\ttotal: 3.28s\tremaining: 66.9ms\n",
      "98:\tlearn: 77660.2708512\ttotal: 3.32s\tremaining: 33.5ms\n",
      "99:\tlearn: 77490.2153995\ttotal: 3.36s\tremaining: 0us\n"
     ]
    },
    {
     "data": {
      "text/plain": [
       "<catboost.core.CatBoostRegressor at 0x256df37db20>"
      ]
     },
     "execution_count": 42,
     "metadata": {},
     "output_type": "execute_result"
    }
   ],
   "source": [
    "model_final = CatBoostRegressor(depth = 10, iterations = 100, learning_rate = 0.1, random_state=RS)\n",
    "model_final.fit(X_train_final, y_train_final)"
   ]
  },
  {
   "cell_type": "code",
   "execution_count": 43,
   "id": "bc44ed32",
   "metadata": {
    "scrolled": true
   },
   "outputs": [
    {
     "name": "stdout",
     "output_type": "stream",
     "text": [
      "r2 score:  0.8831097744069976\n",
      "rmse:  112625.17150060715\n"
     ]
    }
   ],
   "source": [
    "pred = model_final.predict(X_validation)\n",
    "\n",
    "r2 = metrics.r2_score(y_validation, pred)\n",
    "print('r2 score: ', r2)\n",
    "    \n",
    "rmse = sqrt(metrics.mean_squared_error(y_validation, pred))\n",
    "print(\"rmse: \", rmse)"
   ]
  },
  {
   "cell_type": "markdown",
   "id": "fc9f15bb",
   "metadata": {},
   "source": [
    "We got the r2 score of 0.88 by using just 6 features(Which is half of the original feature count)"
   ]
  },
  {
   "cell_type": "markdown",
   "id": "28570e84",
   "metadata": {},
   "source": [
    "## PREDICTION ON NEW DATA"
   ]
  },
  {
   "cell_type": "code",
   "execution_count": 44,
   "id": "eff5ef3d",
   "metadata": {},
   "outputs": [
    {
     "data": {
      "text/plain": [
       "((2787, 13), (2787,))"
      ]
     },
     "execution_count": 44,
     "metadata": {},
     "output_type": "execute_result"
    }
   ],
   "source": [
    "X_test.shape, y_test.shape"
   ]
  },
  {
   "cell_type": "code",
   "execution_count": 45,
   "id": "3c43951f",
   "metadata": {},
   "outputs": [
    {
     "data": {
      "text/plain": [
       "((2787, 6), (2787,))"
      ]
     },
     "execution_count": 45,
     "metadata": {},
     "output_type": "execute_result"
    }
   ],
   "source": [
    "X_test = scaler.transform(X_test)\n",
    "X_test = sel.transform(X_test)\n",
    "\n",
    "X_test.shape, y_test.shape"
   ]
  },
  {
   "cell_type": "code",
   "execution_count": 46,
   "id": "1ab3d0c4",
   "metadata": {},
   "outputs": [
    {
     "name": "stdout",
     "output_type": "stream",
     "text": [
      "r2 score:  0.8923961365369197\n",
      "rmse:  102935.65551927767\n"
     ]
    }
   ],
   "source": [
    "pred = model_final.predict(X_test)\n",
    "\n",
    "r2 = metrics.r2_score(y_test, pred)\n",
    "print('r2 score: ', r2)\n",
    "    \n",
    "rmse = sqrt(metrics.mean_squared_error(y_test, pred))\n",
    "print(\"rmse: \", rmse)"
   ]
  },
  {
   "cell_type": "markdown",
   "id": "3f3f7c10",
   "metadata": {},
   "source": [
    "As we can see the model performs well even on unseen/new data.\n",
    "\n",
    "This shows that our model is pretty much generalized :)"
   ]
  },
  {
   "cell_type": "markdown",
   "id": "f2032933",
   "metadata": {},
   "source": [
    "## ACCURACY RANGE IN PRODUCTION"
   ]
  },
  {
   "cell_type": "code",
   "execution_count": 47,
   "id": "32fa2929",
   "metadata": {},
   "outputs": [],
   "source": [
    "X = scaler.transform(X)\n",
    "X = sel.transform(X)"
   ]
  },
  {
   "cell_type": "code",
   "execution_count": 48,
   "id": "7774a88d",
   "metadata": {},
   "outputs": [
    {
     "data": {
      "text/plain": [
       "((13932, 6), (13932,))"
      ]
     },
     "execution_count": 48,
     "metadata": {},
     "output_type": "execute_result"
    }
   ],
   "source": [
    "X.shape, Y.shape"
   ]
  },
  {
   "cell_type": "code",
   "execution_count": 76,
   "id": "307cefe5",
   "metadata": {},
   "outputs": [
    {
     "name": "stdout",
     "output_type": "stream",
     "text": [
      "0:\tlearn: 296470.1206697\ttotal: 41.4ms\tremaining: 4.1s\n",
      "1:\tlearn: 276253.5519118\ttotal: 88.5ms\tremaining: 4.34s\n",
      "2:\tlearn: 257176.2659197\ttotal: 127ms\tremaining: 4.11s\n",
      "3:\tlearn: 239932.8930511\ttotal: 150ms\tremaining: 3.59s\n",
      "4:\tlearn: 224963.4011358\ttotal: 172ms\tremaining: 3.26s\n",
      "5:\tlearn: 211536.5534131\ttotal: 202ms\tremaining: 3.16s\n",
      "6:\tlearn: 199658.9850792\ttotal: 233ms\tremaining: 3.09s\n",
      "7:\tlearn: 188847.0647539\ttotal: 267ms\tremaining: 3.07s\n",
      "8:\tlearn: 179525.3179753\ttotal: 298ms\tremaining: 3.02s\n",
      "9:\tlearn: 171008.0025228\ttotal: 329ms\tremaining: 2.96s\n",
      "10:\tlearn: 163353.2912190\ttotal: 360ms\tremaining: 2.92s\n",
      "11:\tlearn: 156444.2180935\ttotal: 391ms\tremaining: 2.87s\n",
      "12:\tlearn: 150365.1570765\ttotal: 423ms\tremaining: 2.83s\n",
      "13:\tlearn: 144698.3641174\ttotal: 453ms\tremaining: 2.79s\n",
      "14:\tlearn: 139947.7032457\ttotal: 487ms\tremaining: 2.76s\n",
      "15:\tlearn: 135786.6291189\ttotal: 519ms\tremaining: 2.72s\n",
      "16:\tlearn: 131685.2108390\ttotal: 549ms\tremaining: 2.68s\n",
      "17:\tlearn: 128006.9843369\ttotal: 577ms\tremaining: 2.63s\n",
      "18:\tlearn: 125047.2023492\ttotal: 603ms\tremaining: 2.57s\n",
      "19:\tlearn: 122002.6669511\ttotal: 632ms\tremaining: 2.53s\n",
      "20:\tlearn: 119342.5377282\ttotal: 665ms\tremaining: 2.5s\n",
      "21:\tlearn: 117209.8920538\ttotal: 697ms\tremaining: 2.47s\n",
      "22:\tlearn: 115377.5456642\ttotal: 723ms\tremaining: 2.42s\n",
      "23:\tlearn: 113471.9657049\ttotal: 754ms\tremaining: 2.39s\n",
      "24:\tlearn: 111830.3443571\ttotal: 785ms\tremaining: 2.35s\n",
      "25:\tlearn: 110612.5692176\ttotal: 817ms\tremaining: 2.33s\n",
      "26:\tlearn: 109389.1953748\ttotal: 848ms\tremaining: 2.29s\n",
      "27:\tlearn: 108243.5793631\ttotal: 879ms\tremaining: 2.26s\n",
      "28:\tlearn: 106876.6715238\ttotal: 910ms\tremaining: 2.23s\n",
      "29:\tlearn: 105705.0859476\ttotal: 942ms\tremaining: 2.2s\n",
      "30:\tlearn: 104691.4309913\ttotal: 974ms\tremaining: 2.17s\n",
      "31:\tlearn: 103719.2718733\ttotal: 1s\tremaining: 2.13s\n",
      "32:\tlearn: 102745.4638084\ttotal: 1.03s\tremaining: 2.1s\n",
      "33:\tlearn: 101862.4615761\ttotal: 1.06s\tremaining: 2.07s\n",
      "34:\tlearn: 101111.1010058\ttotal: 1.09s\tremaining: 2.03s\n",
      "35:\tlearn: 100410.9713275\ttotal: 1.13s\tremaining: 2s\n",
      "36:\tlearn: 99837.2279578\ttotal: 1.16s\tremaining: 1.97s\n",
      "37:\tlearn: 99288.8947113\ttotal: 1.19s\tremaining: 1.94s\n",
      "38:\tlearn: 98655.4030066\ttotal: 1.22s\tremaining: 1.91s\n",
      "39:\tlearn: 98200.5095581\ttotal: 1.25s\tremaining: 1.88s\n",
      "40:\tlearn: 97764.7751038\ttotal: 1.28s\tremaining: 1.85s\n",
      "41:\tlearn: 97404.1580319\ttotal: 1.31s\tremaining: 1.81s\n",
      "42:\tlearn: 96920.1816047\ttotal: 1.34s\tremaining: 1.78s\n",
      "43:\tlearn: 96587.5495848\ttotal: 1.38s\tremaining: 1.75s\n",
      "44:\tlearn: 96055.8896410\ttotal: 1.41s\tremaining: 1.72s\n",
      "45:\tlearn: 95579.7614357\ttotal: 1.44s\tremaining: 1.69s\n",
      "46:\tlearn: 95284.1707991\ttotal: 1.47s\tremaining: 1.66s\n",
      "47:\tlearn: 94856.9701914\ttotal: 1.5s\tremaining: 1.63s\n",
      "48:\tlearn: 94412.8434956\ttotal: 1.53s\tremaining: 1.6s\n",
      "49:\tlearn: 93977.8038669\ttotal: 1.57s\tremaining: 1.57s\n",
      "50:\tlearn: 93431.5353368\ttotal: 1.6s\tremaining: 1.53s\n",
      "51:\tlearn: 93148.1521677\ttotal: 1.63s\tremaining: 1.5s\n",
      "52:\tlearn: 92751.0757997\ttotal: 1.66s\tremaining: 1.47s\n",
      "53:\tlearn: 92421.9156905\ttotal: 1.69s\tremaining: 1.44s\n",
      "54:\tlearn: 92148.7145016\ttotal: 1.72s\tremaining: 1.41s\n",
      "55:\tlearn: 91915.5874261\ttotal: 1.75s\tremaining: 1.38s\n",
      "56:\tlearn: 91662.9523695\ttotal: 1.79s\tremaining: 1.35s\n",
      "57:\tlearn: 91312.8024506\ttotal: 1.82s\tremaining: 1.32s\n",
      "58:\tlearn: 90867.9132194\ttotal: 1.86s\tremaining: 1.29s\n",
      "59:\tlearn: 90459.1086668\ttotal: 1.9s\tremaining: 1.26s\n",
      "60:\tlearn: 90161.8038380\ttotal: 1.94s\tremaining: 1.24s\n",
      "61:\tlearn: 89891.2455650\ttotal: 1.98s\tremaining: 1.21s\n",
      "62:\tlearn: 89770.2981443\ttotal: 2.02s\tremaining: 1.18s\n",
      "63:\tlearn: 89457.4151501\ttotal: 2.06s\tremaining: 1.16s\n",
      "64:\tlearn: 89224.4200112\ttotal: 2.09s\tremaining: 1.13s\n",
      "65:\tlearn: 89087.2798368\ttotal: 2.13s\tremaining: 1.1s\n",
      "66:\tlearn: 88645.0395462\ttotal: 2.17s\tremaining: 1.07s\n",
      "67:\tlearn: 88443.6923448\ttotal: 2.21s\tremaining: 1.04s\n",
      "68:\tlearn: 88360.0352737\ttotal: 2.23s\tremaining: 1s\n",
      "69:\tlearn: 87991.2262596\ttotal: 2.27s\tremaining: 971ms\n",
      "70:\tlearn: 87768.0400436\ttotal: 2.3s\tremaining: 941ms\n",
      "71:\tlearn: 87572.2605268\ttotal: 2.34s\tremaining: 911ms\n",
      "72:\tlearn: 87217.1323403\ttotal: 2.38s\tremaining: 881ms\n",
      "73:\tlearn: 86954.4512910\ttotal: 2.42s\tremaining: 850ms\n",
      "74:\tlearn: 86636.8107575\ttotal: 2.46s\tremaining: 820ms\n",
      "75:\tlearn: 86354.9277242\ttotal: 2.5s\tremaining: 789ms\n",
      "76:\tlearn: 86097.2808774\ttotal: 2.54s\tremaining: 758ms\n",
      "77:\tlearn: 85873.4870571\ttotal: 2.57s\tremaining: 726ms\n",
      "78:\tlearn: 85733.7101542\ttotal: 2.61s\tremaining: 695ms\n",
      "79:\tlearn: 85388.9902193\ttotal: 2.65s\tremaining: 663ms\n",
      "80:\tlearn: 85239.2480848\ttotal: 2.69s\tremaining: 631ms\n",
      "81:\tlearn: 85028.2071573\ttotal: 2.73s\tremaining: 599ms\n",
      "82:\tlearn: 84884.7373920\ttotal: 2.77s\tremaining: 567ms\n",
      "83:\tlearn: 84698.9735942\ttotal: 2.81s\tremaining: 535ms\n",
      "84:\tlearn: 84510.6256482\ttotal: 2.85s\tremaining: 502ms\n",
      "85:\tlearn: 84311.7896352\ttotal: 2.89s\tremaining: 470ms\n",
      "86:\tlearn: 84211.6338023\ttotal: 2.92s\tremaining: 437ms\n",
      "87:\tlearn: 83919.0273095\ttotal: 2.96s\tremaining: 404ms\n",
      "88:\tlearn: 83676.4483812\ttotal: 3s\tremaining: 371ms\n",
      "89:\tlearn: 83282.4124312\ttotal: 3.04s\tremaining: 338ms\n",
      "90:\tlearn: 83067.2696119\ttotal: 3.08s\tremaining: 305ms\n",
      "91:\tlearn: 82874.7136244\ttotal: 3.12s\tremaining: 271ms\n",
      "92:\tlearn: 82739.8789768\ttotal: 3.16s\tremaining: 238ms\n",
      "93:\tlearn: 82434.7511185\ttotal: 3.2s\tremaining: 204ms\n",
      "94:\tlearn: 82291.1006811\ttotal: 3.23s\tremaining: 170ms\n",
      "95:\tlearn: 81957.2230023\ttotal: 3.28s\tremaining: 137ms\n",
      "96:\tlearn: 81696.3928849\ttotal: 3.32s\tremaining: 103ms\n",
      "97:\tlearn: 81548.1915193\ttotal: 3.36s\tremaining: 68.6ms\n",
      "98:\tlearn: 81268.4673040\ttotal: 3.4s\tremaining: 34.3ms\n",
      "99:\tlearn: 81020.2210348\ttotal: 3.44s\tremaining: 0us\n",
      "0:\tlearn: 269775.2179149\ttotal: 42.5ms\tremaining: 4.2s\n",
      "1:\tlearn: 250247.2877935\ttotal: 84.3ms\tremaining: 4.13s\n",
      "2:\tlearn: 232455.0958730\ttotal: 124ms\tremaining: 4.02s\n",
      "3:\tlearn: 216595.7674509\ttotal: 156ms\tremaining: 3.75s\n",
      "4:\tlearn: 202003.6598356\ttotal: 188ms\tremaining: 3.57s\n",
      "5:\tlearn: 189349.5164445\ttotal: 219ms\tremaining: 3.43s\n",
      "6:\tlearn: 178412.2829238\ttotal: 251ms\tremaining: 3.34s\n",
      "7:\tlearn: 168240.6943419\ttotal: 284ms\tremaining: 3.26s\n",
      "8:\tlearn: 159386.7737777\ttotal: 316ms\tremaining: 3.19s\n",
      "9:\tlearn: 151498.8599681\ttotal: 348ms\tremaining: 3.13s\n",
      "10:\tlearn: 144190.4972539\ttotal: 378ms\tremaining: 3.06s\n",
      "11:\tlearn: 137560.6678588\ttotal: 413ms\tremaining: 3.03s\n",
      "12:\tlearn: 131845.4959050\ttotal: 452ms\tremaining: 3.02s\n",
      "13:\tlearn: 126922.2717659\ttotal: 491ms\tremaining: 3.02s\n",
      "14:\tlearn: 122359.9777312\ttotal: 530ms\tremaining: 3s\n",
      "15:\tlearn: 118410.0901794\ttotal: 568ms\tremaining: 2.98s\n",
      "16:\tlearn: 114578.4691210\ttotal: 606ms\tremaining: 2.96s\n",
      "17:\tlearn: 111332.1049033\ttotal: 644ms\tremaining: 2.94s\n",
      "18:\tlearn: 108683.4126958\ttotal: 683ms\tremaining: 2.91s\n",
      "19:\tlearn: 106312.7861143\ttotal: 723ms\tremaining: 2.89s\n",
      "20:\tlearn: 104206.2249314\ttotal: 762ms\tremaining: 2.87s\n",
      "21:\tlearn: 102114.4278584\ttotal: 802ms\tremaining: 2.84s\n",
      "22:\tlearn: 100357.0777338\ttotal: 840ms\tremaining: 2.81s\n",
      "23:\tlearn: 98646.9032302\ttotal: 879ms\tremaining: 2.78s\n",
      "24:\tlearn: 97109.3140143\ttotal: 919ms\tremaining: 2.76s\n",
      "25:\tlearn: 95700.5152216\ttotal: 960ms\tremaining: 2.73s\n",
      "26:\tlearn: 94485.7339670\ttotal: 1s\tremaining: 2.71s\n",
      "27:\tlearn: 93502.4084004\ttotal: 1.04s\tremaining: 2.68s\n",
      "28:\tlearn: 92520.4654588\ttotal: 1.08s\tremaining: 2.65s\n",
      "29:\tlearn: 91620.8942821\ttotal: 1.12s\tremaining: 2.62s\n",
      "30:\tlearn: 90666.5437455\ttotal: 1.16s\tremaining: 2.58s\n",
      "31:\tlearn: 89719.1659406\ttotal: 1.2s\tremaining: 2.56s\n",
      "32:\tlearn: 88946.5632272\ttotal: 1.24s\tremaining: 2.52s\n",
      "33:\tlearn: 88181.1120149\ttotal: 1.28s\tremaining: 2.49s\n",
      "34:\tlearn: 87433.9652892\ttotal: 1.32s\tremaining: 2.45s\n",
      "35:\tlearn: 86877.2419169\ttotal: 1.36s\tremaining: 2.42s\n",
      "36:\tlearn: 86395.7473414\ttotal: 1.4s\tremaining: 2.38s\n",
      "37:\tlearn: 85860.6049159\ttotal: 1.44s\tremaining: 2.35s\n",
      "38:\tlearn: 85395.6305721\ttotal: 1.48s\tremaining: 2.31s\n",
      "39:\tlearn: 84988.8608392\ttotal: 1.52s\tremaining: 2.28s\n",
      "40:\tlearn: 84531.6148242\ttotal: 1.56s\tremaining: 2.25s\n",
      "41:\tlearn: 84052.3441852\ttotal: 1.6s\tremaining: 2.21s\n",
      "42:\tlearn: 83618.5467615\ttotal: 1.64s\tremaining: 2.17s\n",
      "43:\tlearn: 83252.3539592\ttotal: 1.68s\tremaining: 2.13s\n",
      "44:\tlearn: 82746.2172442\ttotal: 1.72s\tremaining: 2.11s\n",
      "45:\tlearn: 82481.3379258\ttotal: 1.76s\tremaining: 2.07s\n",
      "46:\tlearn: 82244.8410125\ttotal: 1.8s\tremaining: 2.03s\n",
      "47:\tlearn: 81987.4639798\ttotal: 1.85s\tremaining: 2s\n",
      "48:\tlearn: 81765.8182273\ttotal: 1.88s\tremaining: 1.95s\n"
     ]
    },
    {
     "name": "stdout",
     "output_type": "stream",
     "text": [
      "49:\tlearn: 81540.8915692\ttotal: 1.91s\tremaining: 1.91s\n",
      "50:\tlearn: 81110.3909851\ttotal: 1.94s\tremaining: 1.86s\n",
      "51:\tlearn: 80707.2937931\ttotal: 1.97s\tremaining: 1.82s\n",
      "52:\tlearn: 80540.7654649\ttotal: 2s\tremaining: 1.77s\n",
      "53:\tlearn: 80325.1009391\ttotal: 2.03s\tremaining: 1.73s\n",
      "54:\tlearn: 80062.3611259\ttotal: 2.06s\tremaining: 1.69s\n",
      "55:\tlearn: 79784.4688143\ttotal: 2.1s\tremaining: 1.65s\n",
      "56:\tlearn: 79503.2983626\ttotal: 2.13s\tremaining: 1.61s\n",
      "57:\tlearn: 79232.2044822\ttotal: 2.17s\tremaining: 1.57s\n",
      "58:\tlearn: 78942.6998295\ttotal: 2.2s\tremaining: 1.53s\n",
      "59:\tlearn: 78780.5627030\ttotal: 2.23s\tremaining: 1.49s\n",
      "60:\tlearn: 78504.7194289\ttotal: 2.26s\tremaining: 1.45s\n",
      "61:\tlearn: 78248.8324215\ttotal: 2.3s\tremaining: 1.41s\n",
      "62:\tlearn: 78052.8618455\ttotal: 2.33s\tremaining: 1.37s\n",
      "63:\tlearn: 77838.4875786\ttotal: 2.36s\tremaining: 1.33s\n",
      "64:\tlearn: 77542.0431877\ttotal: 2.39s\tremaining: 1.29s\n",
      "65:\tlearn: 77367.0976308\ttotal: 2.42s\tremaining: 1.25s\n",
      "66:\tlearn: 76998.1402278\ttotal: 2.45s\tremaining: 1.21s\n",
      "67:\tlearn: 76730.8336528\ttotal: 2.48s\tremaining: 1.17s\n",
      "68:\tlearn: 76499.4240613\ttotal: 2.52s\tremaining: 1.13s\n",
      "69:\tlearn: 76334.3080117\ttotal: 2.55s\tremaining: 1.09s\n",
      "70:\tlearn: 76207.7286247\ttotal: 2.58s\tremaining: 1.05s\n",
      "71:\tlearn: 75867.1298700\ttotal: 2.61s\tremaining: 1.02s\n",
      "72:\tlearn: 75605.5926323\ttotal: 2.64s\tremaining: 978ms\n",
      "73:\tlearn: 75468.8897744\ttotal: 2.68s\tremaining: 940ms\n",
      "74:\tlearn: 75290.1042346\ttotal: 2.71s\tremaining: 903ms\n",
      "75:\tlearn: 75033.6177153\ttotal: 2.74s\tremaining: 866ms\n",
      "76:\tlearn: 74890.4868071\ttotal: 2.77s\tremaining: 829ms\n",
      "77:\tlearn: 74714.6419200\ttotal: 2.81s\tremaining: 792ms\n",
      "78:\tlearn: 74508.6323213\ttotal: 2.84s\tremaining: 755ms\n",
      "79:\tlearn: 74337.7246003\ttotal: 2.87s\tremaining: 718ms\n",
      "80:\tlearn: 74109.5411001\ttotal: 2.9s\tremaining: 681ms\n",
      "81:\tlearn: 73903.2994035\ttotal: 2.94s\tremaining: 644ms\n",
      "82:\tlearn: 73743.1976305\ttotal: 2.97s\tremaining: 608ms\n",
      "83:\tlearn: 73581.8288906\ttotal: 3s\tremaining: 571ms\n",
      "84:\tlearn: 73296.7096194\ttotal: 3.03s\tremaining: 535ms\n",
      "85:\tlearn: 73078.6009433\ttotal: 3.06s\tremaining: 499ms\n",
      "86:\tlearn: 72961.7618941\ttotal: 3.1s\tremaining: 463ms\n",
      "87:\tlearn: 72726.5190917\ttotal: 3.13s\tremaining: 426ms\n",
      "88:\tlearn: 72545.3563411\ttotal: 3.16s\tremaining: 390ms\n",
      "89:\tlearn: 72216.6314132\ttotal: 3.19s\tremaining: 354ms\n",
      "90:\tlearn: 72078.9393853\ttotal: 3.22s\tremaining: 319ms\n",
      "91:\tlearn: 71974.3335338\ttotal: 3.25s\tremaining: 283ms\n",
      "92:\tlearn: 71713.3559160\ttotal: 3.29s\tremaining: 247ms\n",
      "93:\tlearn: 71604.1729789\ttotal: 3.32s\tremaining: 212ms\n",
      "94:\tlearn: 71469.7302973\ttotal: 3.34s\tremaining: 176ms\n",
      "95:\tlearn: 71233.8196500\ttotal: 3.37s\tremaining: 140ms\n",
      "96:\tlearn: 71063.0636740\ttotal: 3.4s\tremaining: 105ms\n",
      "97:\tlearn: 70811.0019176\ttotal: 3.44s\tremaining: 70.1ms\n",
      "98:\tlearn: 70636.3808911\ttotal: 3.47s\tremaining: 35ms\n",
      "99:\tlearn: 70510.4718904\ttotal: 3.5s\tremaining: 0us\n",
      "0:\tlearn: 276394.9990732\ttotal: 41.9ms\tremaining: 4.15s\n",
      "1:\tlearn: 257588.8930939\ttotal: 83.3ms\tremaining: 4.08s\n",
      "2:\tlearn: 240255.6647514\ttotal: 122ms\tremaining: 3.96s\n",
      "3:\tlearn: 223912.3697728\ttotal: 162ms\tremaining: 3.89s\n",
      "4:\tlearn: 209862.8418776\ttotal: 201ms\tremaining: 3.82s\n",
      "5:\tlearn: 197196.4540941\ttotal: 241ms\tremaining: 3.78s\n",
      "6:\tlearn: 186280.9985342\ttotal: 281ms\tremaining: 3.73s\n",
      "7:\tlearn: 176644.4719297\ttotal: 321ms\tremaining: 3.69s\n",
      "8:\tlearn: 167864.8919727\ttotal: 360ms\tremaining: 3.64s\n",
      "9:\tlearn: 159812.1024916\ttotal: 401ms\tremaining: 3.61s\n",
      "10:\tlearn: 153068.6750408\ttotal: 442ms\tremaining: 3.58s\n",
      "11:\tlearn: 146808.7135098\ttotal: 482ms\tremaining: 3.54s\n",
      "12:\tlearn: 140829.3124333\ttotal: 522ms\tremaining: 3.49s\n",
      "13:\tlearn: 135654.0200818\ttotal: 563ms\tremaining: 3.46s\n",
      "14:\tlearn: 131064.3165044\ttotal: 603ms\tremaining: 3.42s\n",
      "15:\tlearn: 127052.7309564\ttotal: 644ms\tremaining: 3.38s\n",
      "16:\tlearn: 123161.7146760\ttotal: 683ms\tremaining: 3.33s\n",
      "17:\tlearn: 119637.7025038\ttotal: 723ms\tremaining: 3.29s\n",
      "18:\tlearn: 116543.6924909\ttotal: 763ms\tremaining: 3.25s\n",
      "19:\tlearn: 113739.1833264\ttotal: 803ms\tremaining: 3.21s\n",
      "20:\tlearn: 110900.4330097\ttotal: 842ms\tremaining: 3.17s\n",
      "21:\tlearn: 108676.5285758\ttotal: 884ms\tremaining: 3.13s\n",
      "22:\tlearn: 106451.9423505\ttotal: 926ms\tremaining: 3.1s\n",
      "23:\tlearn: 104270.1297574\ttotal: 970ms\tremaining: 3.07s\n",
      "24:\tlearn: 102682.5507914\ttotal: 1.01s\tremaining: 3.04s\n",
      "25:\tlearn: 101074.2951796\ttotal: 1.06s\tremaining: 3.01s\n",
      "26:\tlearn: 99520.2715661\ttotal: 1.1s\tremaining: 2.97s\n",
      "27:\tlearn: 98175.4359306\ttotal: 1.14s\tremaining: 2.94s\n",
      "28:\tlearn: 96929.4682175\ttotal: 1.18s\tremaining: 2.89s\n",
      "29:\tlearn: 95735.0621104\ttotal: 1.22s\tremaining: 2.85s\n",
      "30:\tlearn: 94669.1785257\ttotal: 1.26s\tremaining: 2.81s\n",
      "31:\tlearn: 93625.3610430\ttotal: 1.3s\tremaining: 2.76s\n",
      "32:\tlearn: 92717.6634603\ttotal: 1.34s\tremaining: 2.72s\n",
      "33:\tlearn: 91869.1084397\ttotal: 1.38s\tremaining: 2.68s\n",
      "34:\tlearn: 90967.5285699\ttotal: 1.42s\tremaining: 2.64s\n",
      "35:\tlearn: 90267.2585913\ttotal: 1.46s\tremaining: 2.6s\n",
      "36:\tlearn: 89568.2161406\ttotal: 1.5s\tremaining: 2.55s\n",
      "37:\tlearn: 88904.8689274\ttotal: 1.54s\tremaining: 2.52s\n",
      "38:\tlearn: 88278.8353379\ttotal: 1.58s\tremaining: 2.48s\n",
      "39:\tlearn: 87740.4560818\ttotal: 1.63s\tremaining: 2.44s\n",
      "40:\tlearn: 87127.7042577\ttotal: 1.67s\tremaining: 2.4s\n",
      "41:\tlearn: 86823.6230649\ttotal: 1.71s\tremaining: 2.36s\n",
      "42:\tlearn: 86296.8794177\ttotal: 1.75s\tremaining: 2.31s\n",
      "43:\tlearn: 85749.7431524\ttotal: 1.78s\tremaining: 2.27s\n",
      "44:\tlearn: 85286.8443750\ttotal: 1.82s\tremaining: 2.23s\n",
      "45:\tlearn: 84878.0129726\ttotal: 1.86s\tremaining: 2.19s\n",
      "46:\tlearn: 84530.1896366\ttotal: 1.9s\tremaining: 2.15s\n",
      "47:\tlearn: 84065.0441303\ttotal: 1.94s\tremaining: 2.1s\n",
      "48:\tlearn: 83727.1387797\ttotal: 1.98s\tremaining: 2.06s\n",
      "49:\tlearn: 83397.7094289\ttotal: 2.02s\tremaining: 2.02s\n",
      "50:\tlearn: 83018.6069554\ttotal: 2.06s\tremaining: 1.98s\n",
      "51:\tlearn: 82754.2880850\ttotal: 2.1s\tremaining: 1.94s\n",
      "52:\tlearn: 82500.5345001\ttotal: 2.15s\tremaining: 1.9s\n",
      "53:\tlearn: 82139.8474651\ttotal: 2.18s\tremaining: 1.86s\n",
      "54:\tlearn: 81872.2872916\ttotal: 2.22s\tremaining: 1.82s\n",
      "55:\tlearn: 81430.6477548\ttotal: 2.27s\tremaining: 1.78s\n",
      "56:\tlearn: 81177.1600553\ttotal: 2.3s\tremaining: 1.74s\n",
      "57:\tlearn: 80934.0879975\ttotal: 2.34s\tremaining: 1.7s\n",
      "58:\tlearn: 80727.0787059\ttotal: 2.38s\tremaining: 1.65s\n",
      "59:\tlearn: 80393.0033236\ttotal: 2.42s\tremaining: 1.61s\n",
      "60:\tlearn: 80036.5589753\ttotal: 2.46s\tremaining: 1.57s\n",
      "61:\tlearn: 79780.3678630\ttotal: 2.5s\tremaining: 1.53s\n",
      "62:\tlearn: 79644.4941689\ttotal: 2.54s\tremaining: 1.49s\n",
      "63:\tlearn: 79465.9235099\ttotal: 2.58s\tremaining: 1.45s\n",
      "64:\tlearn: 79039.4094807\ttotal: 2.62s\tremaining: 1.41s\n",
      "65:\tlearn: 78783.0818236\ttotal: 2.65s\tremaining: 1.37s\n",
      "66:\tlearn: 78472.9283395\ttotal: 2.69s\tremaining: 1.33s\n",
      "67:\tlearn: 78193.5251617\ttotal: 2.73s\tremaining: 1.29s\n",
      "68:\tlearn: 77917.0148411\ttotal: 2.77s\tremaining: 1.25s\n",
      "69:\tlearn: 77676.9264493\ttotal: 2.81s\tremaining: 1.21s\n",
      "70:\tlearn: 77333.2585887\ttotal: 2.85s\tremaining: 1.17s\n",
      "71:\tlearn: 77176.4382119\ttotal: 2.89s\tremaining: 1.13s\n",
      "72:\tlearn: 76882.1283591\ttotal: 2.93s\tremaining: 1.08s\n",
      "73:\tlearn: 76598.7957995\ttotal: 2.97s\tremaining: 1.04s\n",
      "74:\tlearn: 76336.6286131\ttotal: 3.01s\tremaining: 1s\n",
      "75:\tlearn: 76079.6955635\ttotal: 3.05s\tremaining: 965ms\n",
      "76:\tlearn: 75992.2659649\ttotal: 3.09s\tremaining: 924ms\n",
      "77:\tlearn: 75796.1669693\ttotal: 3.13s\tremaining: 884ms\n",
      "78:\tlearn: 75458.2001111\ttotal: 3.17s\tremaining: 844ms\n",
      "79:\tlearn: 75177.2534435\ttotal: 3.21s\tremaining: 804ms\n",
      "80:\tlearn: 75045.0901130\ttotal: 3.25s\tremaining: 763ms\n",
      "81:\tlearn: 74911.9365981\ttotal: 3.29s\tremaining: 723ms\n",
      "82:\tlearn: 74631.3621889\ttotal: 3.33s\tremaining: 682ms\n",
      "83:\tlearn: 74478.9072285\ttotal: 3.37s\tremaining: 642ms\n",
      "84:\tlearn: 74228.1644810\ttotal: 3.41s\tremaining: 601ms\n",
      "85:\tlearn: 73992.8017744\ttotal: 3.45s\tremaining: 561ms\n",
      "86:\tlearn: 73656.8241372\ttotal: 3.49s\tremaining: 521ms\n",
      "87:\tlearn: 73419.6971498\ttotal: 3.53s\tremaining: 481ms\n",
      "88:\tlearn: 73155.2511715\ttotal: 3.57s\tremaining: 441ms\n",
      "89:\tlearn: 72905.4612817\ttotal: 3.61s\tremaining: 401ms\n",
      "90:\tlearn: 72800.5265471\ttotal: 3.65s\tremaining: 361ms\n",
      "91:\tlearn: 72680.5040370\ttotal: 3.69s\tremaining: 320ms\n",
      "92:\tlearn: 72544.0612326\ttotal: 3.73s\tremaining: 280ms\n",
      "93:\tlearn: 72318.2266069\ttotal: 3.77s\tremaining: 240ms\n",
      "94:\tlearn: 72171.1921079\ttotal: 3.8s\tremaining: 200ms\n",
      "95:\tlearn: 71911.1504465\ttotal: 3.84s\tremaining: 160ms\n",
      "96:\tlearn: 71687.3478281\ttotal: 3.88s\tremaining: 120ms\n",
      "97:\tlearn: 71477.4854063\ttotal: 3.92s\tremaining: 80ms\n",
      "98:\tlearn: 71322.7224075\ttotal: 3.96s\tremaining: 40ms\n",
      "99:\tlearn: 71086.4308892\ttotal: 4s\tremaining: 0us\n"
     ]
    },
    {
     "name": "stdout",
     "output_type": "stream",
     "text": [
      "0:\tlearn: 261020.5634260\ttotal: 42ms\tremaining: 4.16s\n",
      "1:\tlearn: 243540.0703249\ttotal: 80.8ms\tremaining: 3.96s\n",
      "2:\tlearn: 227100.7927920\ttotal: 120ms\tremaining: 3.87s\n",
      "3:\tlearn: 212231.2207832\ttotal: 157ms\tremaining: 3.77s\n",
      "4:\tlearn: 199377.7907946\ttotal: 196ms\tremaining: 3.73s\n",
      "5:\tlearn: 187888.8569054\ttotal: 235ms\tremaining: 3.68s\n",
      "6:\tlearn: 178095.3164491\ttotal: 275ms\tremaining: 3.65s\n",
      "7:\tlearn: 168739.7726325\ttotal: 314ms\tremaining: 3.61s\n",
      "8:\tlearn: 161010.5300903\ttotal: 353ms\tremaining: 3.56s\n",
      "9:\tlearn: 153971.3711738\ttotal: 393ms\tremaining: 3.54s\n",
      "10:\tlearn: 147516.2979656\ttotal: 435ms\tremaining: 3.52s\n",
      "11:\tlearn: 141459.5889698\ttotal: 476ms\tremaining: 3.49s\n",
      "12:\tlearn: 136059.2439590\ttotal: 518ms\tremaining: 3.47s\n",
      "13:\tlearn: 131418.0934437\ttotal: 558ms\tremaining: 3.43s\n",
      "14:\tlearn: 127236.9386794\ttotal: 599ms\tremaining: 3.4s\n",
      "15:\tlearn: 123660.4564273\ttotal: 639ms\tremaining: 3.36s\n",
      "16:\tlearn: 120049.3226197\ttotal: 682ms\tremaining: 3.33s\n",
      "17:\tlearn: 116737.2692244\ttotal: 724ms\tremaining: 3.3s\n",
      "18:\tlearn: 113940.8949988\ttotal: 766ms\tremaining: 3.26s\n",
      "19:\tlearn: 111488.4601989\ttotal: 807ms\tremaining: 3.23s\n",
      "20:\tlearn: 109126.3959451\ttotal: 848ms\tremaining: 3.19s\n",
      "21:\tlearn: 107020.3579156\ttotal: 887ms\tremaining: 3.14s\n",
      "22:\tlearn: 105162.1418491\ttotal: 927ms\tremaining: 3.1s\n",
      "23:\tlearn: 103454.5041136\ttotal: 968ms\tremaining: 3.06s\n",
      "24:\tlearn: 101781.8541175\ttotal: 1.01s\tremaining: 3.03s\n",
      "25:\tlearn: 100469.8369331\ttotal: 1.05s\tremaining: 3s\n",
      "26:\tlearn: 99158.8949321\ttotal: 1.1s\tremaining: 2.97s\n",
      "27:\tlearn: 97777.6311522\ttotal: 1.15s\tremaining: 2.94s\n",
      "28:\tlearn: 96719.6168189\ttotal: 1.19s\tremaining: 2.91s\n",
      "29:\tlearn: 95717.9271727\ttotal: 1.23s\tremaining: 2.87s\n",
      "30:\tlearn: 94807.0295590\ttotal: 1.28s\tremaining: 2.85s\n",
      "31:\tlearn: 93858.4066663\ttotal: 1.32s\tremaining: 2.81s\n",
      "32:\tlearn: 92809.7410722\ttotal: 1.36s\tremaining: 2.76s\n",
      "33:\tlearn: 92005.9847646\ttotal: 1.4s\tremaining: 2.72s\n",
      "34:\tlearn: 91289.6713329\ttotal: 1.44s\tremaining: 2.67s\n",
      "35:\tlearn: 90633.9565236\ttotal: 1.48s\tremaining: 2.62s\n",
      "36:\tlearn: 90015.4687962\ttotal: 1.51s\tremaining: 2.58s\n",
      "37:\tlearn: 89456.6113421\ttotal: 1.55s\tremaining: 2.54s\n",
      "38:\tlearn: 88998.7576081\ttotal: 1.6s\tremaining: 2.5s\n",
      "39:\tlearn: 88609.5576634\ttotal: 1.64s\tremaining: 2.46s\n",
      "40:\tlearn: 88233.8115863\ttotal: 1.68s\tremaining: 2.41s\n",
      "41:\tlearn: 87771.9685177\ttotal: 1.72s\tremaining: 2.37s\n",
      "42:\tlearn: 87320.3621085\ttotal: 1.75s\tremaining: 2.33s\n",
      "43:\tlearn: 86907.1375496\ttotal: 1.79s\tremaining: 2.28s\n",
      "44:\tlearn: 86448.2703691\ttotal: 1.83s\tremaining: 2.24s\n",
      "45:\tlearn: 86162.9263849\ttotal: 1.87s\tremaining: 2.2s\n",
      "46:\tlearn: 85859.9976070\ttotal: 1.91s\tremaining: 2.15s\n",
      "47:\tlearn: 85356.8053502\ttotal: 1.95s\tremaining: 2.11s\n",
      "48:\tlearn: 84976.7587694\ttotal: 1.99s\tremaining: 2.07s\n",
      "49:\tlearn: 84663.0348092\ttotal: 2.03s\tremaining: 2.03s\n",
      "50:\tlearn: 84114.4098378\ttotal: 2.07s\tremaining: 1.99s\n",
      "51:\tlearn: 83767.9538988\ttotal: 2.11s\tremaining: 1.94s\n",
      "52:\tlearn: 83480.0743859\ttotal: 2.15s\tremaining: 1.9s\n",
      "53:\tlearn: 83289.2512266\ttotal: 2.19s\tremaining: 1.86s\n",
      "54:\tlearn: 83016.1204784\ttotal: 2.23s\tremaining: 1.82s\n",
      "55:\tlearn: 82640.2774793\ttotal: 2.27s\tremaining: 1.79s\n",
      "56:\tlearn: 82251.4407790\ttotal: 2.31s\tremaining: 1.74s\n",
      "57:\tlearn: 82010.1549167\ttotal: 2.34s\tremaining: 1.7s\n",
      "58:\tlearn: 81618.4283875\ttotal: 2.38s\tremaining: 1.65s\n",
      "59:\tlearn: 81241.1305557\ttotal: 2.41s\tremaining: 1.6s\n",
      "60:\tlearn: 80966.6645135\ttotal: 2.44s\tremaining: 1.56s\n",
      "61:\tlearn: 80766.0058975\ttotal: 2.47s\tremaining: 1.51s\n",
      "62:\tlearn: 80555.4838737\ttotal: 2.5s\tremaining: 1.47s\n",
      "63:\tlearn: 80219.5537505\ttotal: 2.53s\tremaining: 1.43s\n",
      "64:\tlearn: 79903.4541331\ttotal: 2.56s\tremaining: 1.38s\n",
      "65:\tlearn: 79723.8160511\ttotal: 2.6s\tremaining: 1.34s\n",
      "66:\tlearn: 79407.6432012\ttotal: 2.63s\tremaining: 1.29s\n",
      "67:\tlearn: 79099.0227832\ttotal: 2.66s\tremaining: 1.25s\n",
      "68:\tlearn: 78871.0269943\ttotal: 2.69s\tremaining: 1.21s\n",
      "69:\tlearn: 78743.1624306\ttotal: 2.72s\tremaining: 1.17s\n",
      "70:\tlearn: 78443.2755411\ttotal: 2.75s\tremaining: 1.13s\n",
      "71:\tlearn: 78248.9266959\ttotal: 2.79s\tremaining: 1.08s\n",
      "72:\tlearn: 78101.8211859\ttotal: 2.82s\tremaining: 1.04s\n",
      "73:\tlearn: 77775.7198799\ttotal: 2.85s\tremaining: 1s\n",
      "74:\tlearn: 77587.2561914\ttotal: 2.88s\tremaining: 960ms\n",
      "75:\tlearn: 77434.3236975\ttotal: 2.91s\tremaining: 919ms\n",
      "76:\tlearn: 77116.6766771\ttotal: 2.94s\tremaining: 879ms\n",
      "77:\tlearn: 76946.5311080\ttotal: 2.97s\tremaining: 839ms\n",
      "78:\tlearn: 76682.9888313\ttotal: 3.01s\tremaining: 799ms\n",
      "79:\tlearn: 76433.9845541\ttotal: 3.04s\tremaining: 760ms\n",
      "80:\tlearn: 76085.3188582\ttotal: 3.07s\tremaining: 721ms\n",
      "81:\tlearn: 75786.4481169\ttotal: 3.1s\tremaining: 681ms\n",
      "82:\tlearn: 75557.3068341\ttotal: 3.14s\tremaining: 642ms\n",
      "83:\tlearn: 75416.7038774\ttotal: 3.17s\tremaining: 603ms\n",
      "84:\tlearn: 75302.6631387\ttotal: 3.2s\tremaining: 564ms\n",
      "85:\tlearn: 75087.9770112\ttotal: 3.23s\tremaining: 527ms\n",
      "86:\tlearn: 74778.6632631\ttotal: 3.27s\tremaining: 489ms\n",
      "87:\tlearn: 74535.5395618\ttotal: 3.31s\tremaining: 452ms\n",
      "88:\tlearn: 74287.1753195\ttotal: 3.35s\tremaining: 414ms\n",
      "89:\tlearn: 74072.8386700\ttotal: 3.39s\tremaining: 377ms\n",
      "90:\tlearn: 73925.2604708\ttotal: 3.43s\tremaining: 339ms\n",
      "91:\tlearn: 73635.5754186\ttotal: 3.47s\tremaining: 302ms\n",
      "92:\tlearn: 73407.8868009\ttotal: 3.51s\tremaining: 264ms\n",
      "93:\tlearn: 73263.9043986\ttotal: 3.54s\tremaining: 226ms\n",
      "94:\tlearn: 72980.1923290\ttotal: 3.57s\tremaining: 188ms\n",
      "95:\tlearn: 72855.5526103\ttotal: 3.6s\tremaining: 150ms\n",
      "96:\tlearn: 72687.8174641\ttotal: 3.63s\tremaining: 112ms\n",
      "97:\tlearn: 72438.0962344\ttotal: 3.67s\tremaining: 75ms\n",
      "98:\tlearn: 72300.9300166\ttotal: 3.71s\tremaining: 37.5ms\n",
      "99:\tlearn: 72179.8307194\ttotal: 3.75s\tremaining: 0us\n",
      "0:\tlearn: 296838.0554199\ttotal: 37.9ms\tremaining: 3.76s\n",
      "1:\tlearn: 276238.9658172\ttotal: 77ms\tremaining: 3.77s\n",
      "2:\tlearn: 257142.8514689\ttotal: 116ms\tremaining: 3.75s\n",
      "3:\tlearn: 240570.8946026\ttotal: 154ms\tremaining: 3.7s\n",
      "4:\tlearn: 225601.8735053\ttotal: 194ms\tremaining: 3.69s\n",
      "5:\tlearn: 212335.6462720\ttotal: 233ms\tremaining: 3.65s\n",
      "6:\tlearn: 200022.6950905\ttotal: 273ms\tremaining: 3.62s\n",
      "7:\tlearn: 189553.9168451\ttotal: 313ms\tremaining: 3.6s\n",
      "8:\tlearn: 180815.6844779\ttotal: 354ms\tremaining: 3.58s\n",
      "9:\tlearn: 172005.8822561\ttotal: 394ms\tremaining: 3.54s\n",
      "10:\tlearn: 164463.5106231\ttotal: 434ms\tremaining: 3.51s\n",
      "11:\tlearn: 157607.2995336\ttotal: 474ms\tremaining: 3.48s\n",
      "12:\tlearn: 151415.5722595\ttotal: 512ms\tremaining: 3.42s\n",
      "13:\tlearn: 146114.2534075\ttotal: 551ms\tremaining: 3.38s\n",
      "14:\tlearn: 141375.0231231\ttotal: 590ms\tremaining: 3.35s\n",
      "15:\tlearn: 137154.1457171\ttotal: 629ms\tremaining: 3.3s\n",
      "16:\tlearn: 133032.9586495\ttotal: 669ms\tremaining: 3.26s\n",
      "17:\tlearn: 129628.0582462\ttotal: 707ms\tremaining: 3.22s\n",
      "18:\tlearn: 126346.8814658\ttotal: 747ms\tremaining: 3.18s\n",
      "19:\tlearn: 123443.8672263\ttotal: 786ms\tremaining: 3.14s\n",
      "20:\tlearn: 120821.8460817\ttotal: 823ms\tremaining: 3.1s\n",
      "21:\tlearn: 118335.6650387\ttotal: 861ms\tremaining: 3.05s\n",
      "22:\tlearn: 116374.4548547\ttotal: 898ms\tremaining: 3.01s\n",
      "23:\tlearn: 114272.2356524\ttotal: 934ms\tremaining: 2.96s\n",
      "24:\tlearn: 112709.4110446\ttotal: 970ms\tremaining: 2.91s\n",
      "25:\tlearn: 110971.0262066\ttotal: 1s\tremaining: 2.86s\n",
      "26:\tlearn: 109542.0822299\ttotal: 1.04s\tremaining: 2.81s\n",
      "27:\tlearn: 108047.7292816\ttotal: 1.07s\tremaining: 2.77s\n",
      "28:\tlearn: 106957.6258453\ttotal: 1.11s\tremaining: 2.72s\n",
      "29:\tlearn: 105770.7299585\ttotal: 1.15s\tremaining: 2.68s\n",
      "30:\tlearn: 104689.6331805\ttotal: 1.18s\tremaining: 2.63s\n",
      "31:\tlearn: 103760.1588910\ttotal: 1.22s\tremaining: 2.59s\n",
      "32:\tlearn: 102893.7582776\ttotal: 1.25s\tremaining: 2.55s\n",
      "33:\tlearn: 101893.5135993\ttotal: 1.29s\tremaining: 2.51s\n",
      "34:\tlearn: 101102.8296581\ttotal: 1.33s\tremaining: 2.47s\n",
      "35:\tlearn: 100233.8105291\ttotal: 1.36s\tremaining: 2.42s\n",
      "36:\tlearn: 99364.1442995\ttotal: 1.4s\tremaining: 2.38s\n",
      "37:\tlearn: 98835.7922346\ttotal: 1.43s\tremaining: 2.34s\n",
      "38:\tlearn: 98044.1454696\ttotal: 1.47s\tremaining: 2.3s\n",
      "39:\tlearn: 97506.5059668\ttotal: 1.51s\tremaining: 2.26s\n",
      "40:\tlearn: 96937.3192840\ttotal: 1.54s\tremaining: 2.22s\n",
      "41:\tlearn: 96424.9381924\ttotal: 1.58s\tremaining: 2.18s\n",
      "42:\tlearn: 95826.0458353\ttotal: 1.61s\tremaining: 2.14s\n",
      "43:\tlearn: 95354.0819815\ttotal: 1.65s\tremaining: 2.1s\n",
      "44:\tlearn: 94740.5919098\ttotal: 1.69s\tremaining: 2.06s\n",
      "45:\tlearn: 94314.6236043\ttotal: 1.72s\tremaining: 2.01s\n",
      "46:\tlearn: 93865.1864928\ttotal: 1.75s\tremaining: 1.97s\n",
      "47:\tlearn: 93563.7215620\ttotal: 1.78s\tremaining: 1.93s\n",
      "48:\tlearn: 93225.9923837\ttotal: 1.81s\tremaining: 1.88s\n",
      "49:\tlearn: 92724.9969670\ttotal: 1.84s\tremaining: 1.84s\n",
      "50:\tlearn: 92379.2778174\ttotal: 1.87s\tremaining: 1.8s\n",
      "51:\tlearn: 92083.0040496\ttotal: 1.9s\tremaining: 1.76s\n",
      "52:\tlearn: 91702.5507958\ttotal: 1.93s\tremaining: 1.72s\n"
     ]
    },
    {
     "name": "stdout",
     "output_type": "stream",
     "text": [
      "53:\tlearn: 91498.6924811\ttotal: 1.97s\tremaining: 1.67s\n",
      "54:\tlearn: 91032.4303686\ttotal: 2s\tremaining: 1.63s\n",
      "55:\tlearn: 90662.7174057\ttotal: 2.03s\tremaining: 1.59s\n",
      "56:\tlearn: 90380.7150753\ttotal: 2.06s\tremaining: 1.55s\n",
      "57:\tlearn: 90184.5158410\ttotal: 2.09s\tremaining: 1.51s\n",
      "58:\tlearn: 89742.9931119\ttotal: 2.12s\tremaining: 1.48s\n",
      "59:\tlearn: 89401.0149011\ttotal: 2.15s\tremaining: 1.44s\n",
      "60:\tlearn: 88833.9627488\ttotal: 2.19s\tremaining: 1.4s\n",
      "61:\tlearn: 88428.8984343\ttotal: 2.23s\tremaining: 1.36s\n",
      "62:\tlearn: 88249.4429597\ttotal: 2.27s\tremaining: 1.33s\n",
      "63:\tlearn: 87779.8095322\ttotal: 2.31s\tremaining: 1.3s\n",
      "64:\tlearn: 87545.1585832\ttotal: 2.34s\tremaining: 1.26s\n",
      "65:\tlearn: 87277.6050147\ttotal: 2.38s\tremaining: 1.23s\n",
      "66:\tlearn: 86890.4524818\ttotal: 2.42s\tremaining: 1.19s\n",
      "67:\tlearn: 86677.9711762\ttotal: 2.46s\tremaining: 1.16s\n",
      "68:\tlearn: 86446.3793674\ttotal: 2.5s\tremaining: 1.12s\n",
      "69:\tlearn: 86241.1160408\ttotal: 2.54s\tremaining: 1.09s\n",
      "70:\tlearn: 85930.4194648\ttotal: 2.58s\tremaining: 1.05s\n",
      "71:\tlearn: 85537.9231428\ttotal: 2.62s\tremaining: 1.02s\n",
      "72:\tlearn: 85342.3343912\ttotal: 2.65s\tremaining: 982ms\n",
      "73:\tlearn: 85160.4336114\ttotal: 2.69s\tremaining: 947ms\n",
      "74:\tlearn: 84840.8231628\ttotal: 2.73s\tremaining: 911ms\n",
      "75:\tlearn: 84699.5905157\ttotal: 2.77s\tremaining: 876ms\n",
      "76:\tlearn: 84348.6498155\ttotal: 2.81s\tremaining: 840ms\n",
      "77:\tlearn: 84140.0247501\ttotal: 2.85s\tremaining: 804ms\n",
      "78:\tlearn: 83864.9634838\ttotal: 2.89s\tremaining: 768ms\n",
      "79:\tlearn: 83634.1472894\ttotal: 2.93s\tremaining: 732ms\n",
      "80:\tlearn: 83426.8512375\ttotal: 2.97s\tremaining: 696ms\n",
      "81:\tlearn: 83159.2668824\ttotal: 3s\tremaining: 660ms\n",
      "82:\tlearn: 82915.8641544\ttotal: 3.04s\tremaining: 623ms\n",
      "83:\tlearn: 82777.2796366\ttotal: 3.08s\tremaining: 587ms\n",
      "84:\tlearn: 82501.6840543\ttotal: 3.12s\tremaining: 551ms\n",
      "85:\tlearn: 82144.9065208\ttotal: 3.16s\tremaining: 514ms\n",
      "86:\tlearn: 81978.8011394\ttotal: 3.2s\tremaining: 478ms\n",
      "87:\tlearn: 81742.8727245\ttotal: 3.23s\tremaining: 441ms\n",
      "88:\tlearn: 81446.2168671\ttotal: 3.27s\tremaining: 404ms\n",
      "89:\tlearn: 81155.9615546\ttotal: 3.3s\tremaining: 367ms\n",
      "90:\tlearn: 80989.8293655\ttotal: 3.33s\tremaining: 330ms\n",
      "91:\tlearn: 80769.2947600\ttotal: 3.37s\tremaining: 293ms\n",
      "92:\tlearn: 80645.8892356\ttotal: 3.4s\tremaining: 256ms\n",
      "93:\tlearn: 80365.8074496\ttotal: 3.43s\tremaining: 219ms\n",
      "94:\tlearn: 80165.4300891\ttotal: 3.46s\tremaining: 182ms\n",
      "95:\tlearn: 79846.0656982\ttotal: 3.49s\tremaining: 145ms\n",
      "96:\tlearn: 79719.1472895\ttotal: 3.52s\tremaining: 109ms\n",
      "97:\tlearn: 79567.2434688\ttotal: 3.55s\tremaining: 72.5ms\n",
      "98:\tlearn: 79314.4777865\ttotal: 3.59s\tremaining: 36.2ms\n",
      "99:\tlearn: 79080.1491638\ttotal: 3.62s\tremaining: 0us\n",
      "0:\tlearn: 304360.7142914\ttotal: 37.9ms\tremaining: 3.75s\n",
      "1:\tlearn: 282175.2797321\ttotal: 77.5ms\tremaining: 3.8s\n",
      "2:\tlearn: 262436.4537937\ttotal: 116ms\tremaining: 3.76s\n",
      "3:\tlearn: 245045.8580653\ttotal: 155ms\tremaining: 3.71s\n",
      "4:\tlearn: 229785.4867185\ttotal: 193ms\tremaining: 3.68s\n",
      "5:\tlearn: 215944.3525766\ttotal: 232ms\tremaining: 3.64s\n",
      "6:\tlearn: 203699.0650283\ttotal: 272ms\tremaining: 3.62s\n",
      "7:\tlearn: 192561.2707134\ttotal: 311ms\tremaining: 3.58s\n",
      "8:\tlearn: 183411.7782821\ttotal: 349ms\tremaining: 3.53s\n",
      "9:\tlearn: 175036.9003656\ttotal: 389ms\tremaining: 3.5s\n",
      "10:\tlearn: 167263.8853777\ttotal: 428ms\tremaining: 3.46s\n",
      "11:\tlearn: 160102.1261539\ttotal: 468ms\tremaining: 3.43s\n",
      "12:\tlearn: 153988.9722276\ttotal: 509ms\tremaining: 3.41s\n",
      "13:\tlearn: 148357.7604386\ttotal: 549ms\tremaining: 3.37s\n",
      "14:\tlearn: 143515.4654548\ttotal: 589ms\tremaining: 3.33s\n",
      "15:\tlearn: 139106.2820372\ttotal: 629ms\tremaining: 3.3s\n",
      "16:\tlearn: 134859.0806176\ttotal: 669ms\tremaining: 3.27s\n",
      "17:\tlearn: 131306.3822804\ttotal: 708ms\tremaining: 3.23s\n",
      "18:\tlearn: 128111.0624480\ttotal: 748ms\tremaining: 3.19s\n",
      "19:\tlearn: 125179.2398663\ttotal: 787ms\tremaining: 3.15s\n",
      "20:\tlearn: 122538.8101658\ttotal: 825ms\tremaining: 3.1s\n",
      "21:\tlearn: 120095.2405656\ttotal: 864ms\tremaining: 3.06s\n",
      "22:\tlearn: 118042.4447637\ttotal: 904ms\tremaining: 3.03s\n",
      "23:\tlearn: 116049.0990077\ttotal: 943ms\tremaining: 2.99s\n",
      "24:\tlearn: 114355.7274358\ttotal: 983ms\tremaining: 2.95s\n",
      "25:\tlearn: 112923.2964711\ttotal: 1.02s\tremaining: 2.91s\n",
      "26:\tlearn: 111540.1055049\ttotal: 1.06s\tremaining: 2.87s\n",
      "27:\tlearn: 110115.7027740\ttotal: 1.1s\tremaining: 2.83s\n",
      "28:\tlearn: 108667.2999453\ttotal: 1.14s\tremaining: 2.79s\n",
      "29:\tlearn: 107568.8028531\ttotal: 1.18s\tremaining: 2.75s\n",
      "30:\tlearn: 106574.4743918\ttotal: 1.22s\tremaining: 2.71s\n",
      "31:\tlearn: 105572.7811734\ttotal: 1.26s\tremaining: 2.67s\n",
      "32:\tlearn: 104654.5461846\ttotal: 1.3s\tremaining: 2.63s\n",
      "33:\tlearn: 104001.9362865\ttotal: 1.34s\tremaining: 2.59s\n",
      "34:\tlearn: 103288.4901496\ttotal: 1.38s\tremaining: 2.55s\n",
      "35:\tlearn: 102490.6004884\ttotal: 1.41s\tremaining: 2.51s\n",
      "36:\tlearn: 101738.3022534\ttotal: 1.45s\tremaining: 2.48s\n",
      "37:\tlearn: 101097.2493719\ttotal: 1.49s\tremaining: 2.44s\n",
      "38:\tlearn: 100426.2244696\ttotal: 1.53s\tremaining: 2.4s\n",
      "39:\tlearn: 99960.1717446\ttotal: 1.57s\tremaining: 2.36s\n",
      "40:\tlearn: 99591.4032093\ttotal: 1.61s\tremaining: 2.32s\n",
      "41:\tlearn: 99109.6951833\ttotal: 1.65s\tremaining: 2.28s\n",
      "42:\tlearn: 98716.3146533\ttotal: 1.69s\tremaining: 2.24s\n",
      "43:\tlearn: 98273.9565641\ttotal: 1.73s\tremaining: 2.2s\n",
      "44:\tlearn: 97825.8709005\ttotal: 1.77s\tremaining: 2.16s\n",
      "45:\tlearn: 97470.2311850\ttotal: 1.81s\tremaining: 2.12s\n",
      "46:\tlearn: 97031.9199582\ttotal: 1.84s\tremaining: 2.08s\n",
      "47:\tlearn: 96578.7559227\ttotal: 1.88s\tremaining: 2.04s\n",
      "48:\tlearn: 96193.6693146\ttotal: 1.92s\tremaining: 2s\n",
      "49:\tlearn: 95708.7701156\ttotal: 1.96s\tremaining: 1.96s\n",
      "50:\tlearn: 95424.9979723\ttotal: 2.02s\tremaining: 1.94s\n",
      "51:\tlearn: 95186.0705578\ttotal: 2.06s\tremaining: 1.9s\n",
      "52:\tlearn: 94927.3388837\ttotal: 2.1s\tremaining: 1.87s\n",
      "53:\tlearn: 94574.6904570\ttotal: 2.14s\tremaining: 1.83s\n",
      "54:\tlearn: 94150.8830141\ttotal: 2.18s\tremaining: 1.79s\n",
      "55:\tlearn: 93898.0740447\ttotal: 2.22s\tremaining: 1.75s\n",
      "56:\tlearn: 93635.3218319\ttotal: 2.26s\tremaining: 1.71s\n",
      "57:\tlearn: 93415.4522810\ttotal: 2.3s\tremaining: 1.67s\n",
      "58:\tlearn: 92970.6959376\ttotal: 2.34s\tremaining: 1.63s\n",
      "59:\tlearn: 92544.1724192\ttotal: 2.38s\tremaining: 1.59s\n",
      "60:\tlearn: 92214.7514146\ttotal: 2.42s\tremaining: 1.55s\n",
      "61:\tlearn: 91926.1225121\ttotal: 2.46s\tremaining: 1.51s\n",
      "62:\tlearn: 91705.4672578\ttotal: 2.5s\tremaining: 1.47s\n",
      "63:\tlearn: 91322.9835685\ttotal: 2.54s\tremaining: 1.43s\n",
      "64:\tlearn: 90986.0551989\ttotal: 2.58s\tremaining: 1.39s\n",
      "65:\tlearn: 90765.7882734\ttotal: 2.62s\tremaining: 1.35s\n",
      "66:\tlearn: 90481.2455965\ttotal: 2.66s\tremaining: 1.31s\n",
      "67:\tlearn: 90325.3942654\ttotal: 2.7s\tremaining: 1.27s\n",
      "68:\tlearn: 90077.1822715\ttotal: 2.73s\tremaining: 1.23s\n",
      "69:\tlearn: 89833.4532007\ttotal: 2.77s\tremaining: 1.19s\n",
      "70:\tlearn: 89575.6142414\ttotal: 2.81s\tremaining: 1.15s\n",
      "71:\tlearn: 89364.1931730\ttotal: 2.84s\tremaining: 1.1s\n",
      "72:\tlearn: 89071.5821248\ttotal: 2.88s\tremaining: 1.06s\n",
      "73:\tlearn: 88905.7257356\ttotal: 2.92s\tremaining: 1.02s\n",
      "74:\tlearn: 88713.3090809\ttotal: 2.96s\tremaining: 987ms\n",
      "75:\tlearn: 88537.3032148\ttotal: 3s\tremaining: 948ms\n",
      "76:\tlearn: 88213.6418128\ttotal: 3.04s\tremaining: 909ms\n",
      "77:\tlearn: 87907.6017198\ttotal: 3.08s\tremaining: 869ms\n",
      "78:\tlearn: 87670.3455288\ttotal: 3.12s\tremaining: 830ms\n",
      "79:\tlearn: 87482.1836571\ttotal: 3.16s\tremaining: 790ms\n",
      "80:\tlearn: 87082.3858629\ttotal: 3.2s\tremaining: 751ms\n",
      "81:\tlearn: 86806.9913682\ttotal: 3.24s\tremaining: 711ms\n",
      "82:\tlearn: 86646.2507093\ttotal: 3.28s\tremaining: 672ms\n",
      "83:\tlearn: 86450.2216032\ttotal: 3.32s\tremaining: 632ms\n",
      "84:\tlearn: 86211.1810013\ttotal: 3.36s\tremaining: 593ms\n",
      "85:\tlearn: 85970.6023411\ttotal: 3.4s\tremaining: 553ms\n",
      "86:\tlearn: 85643.9027829\ttotal: 3.44s\tremaining: 514ms\n",
      "87:\tlearn: 85454.3724922\ttotal: 3.48s\tremaining: 474ms\n",
      "88:\tlearn: 85251.7572704\ttotal: 3.52s\tremaining: 435ms\n",
      "89:\tlearn: 84970.6362806\ttotal: 3.56s\tremaining: 395ms\n",
      "90:\tlearn: 84820.7146387\ttotal: 3.6s\tremaining: 356ms\n",
      "91:\tlearn: 84648.3854806\ttotal: 3.64s\tremaining: 316ms\n",
      "92:\tlearn: 84540.1407583\ttotal: 3.68s\tremaining: 277ms\n",
      "93:\tlearn: 84343.4364405\ttotal: 3.71s\tremaining: 237ms\n",
      "94:\tlearn: 84055.2527199\ttotal: 3.75s\tremaining: 198ms\n",
      "95:\tlearn: 83828.0754974\ttotal: 3.79s\tremaining: 158ms\n",
      "96:\tlearn: 83519.7054050\ttotal: 3.83s\tremaining: 118ms\n",
      "97:\tlearn: 83319.0142927\ttotal: 3.87s\tremaining: 79ms\n",
      "98:\tlearn: 83145.3163597\ttotal: 3.92s\tremaining: 39.6ms\n",
      "99:\tlearn: 83002.7060000\ttotal: 3.96s\tremaining: 0us\n",
      "0:\tlearn: 306392.5925955\ttotal: 39.5ms\tremaining: 3.91s\n",
      "1:\tlearn: 285586.0593803\ttotal: 82ms\tremaining: 4.02s\n",
      "2:\tlearn: 266009.6472975\ttotal: 123ms\tremaining: 3.97s\n",
      "3:\tlearn: 248397.4997330\ttotal: 162ms\tremaining: 3.89s\n",
      "4:\tlearn: 233354.6493057\ttotal: 194ms\tremaining: 3.68s\n",
      "5:\tlearn: 219393.6197208\ttotal: 227ms\tremaining: 3.55s\n"
     ]
    },
    {
     "name": "stdout",
     "output_type": "stream",
     "text": [
      "6:\tlearn: 206990.2306688\ttotal: 260ms\tremaining: 3.45s\n",
      "7:\tlearn: 195959.8893255\ttotal: 292ms\tremaining: 3.35s\n",
      "8:\tlearn: 186189.1980933\ttotal: 322ms\tremaining: 3.26s\n",
      "9:\tlearn: 177492.3843827\ttotal: 355ms\tremaining: 3.19s\n",
      "10:\tlearn: 169828.6237893\ttotal: 395ms\tremaining: 3.2s\n",
      "11:\tlearn: 162841.3794504\ttotal: 434ms\tremaining: 3.18s\n",
      "12:\tlearn: 156491.5894447\ttotal: 474ms\tremaining: 3.17s\n",
      "13:\tlearn: 151052.5335203\ttotal: 514ms\tremaining: 3.15s\n",
      "14:\tlearn: 145763.6216932\ttotal: 553ms\tremaining: 3.13s\n",
      "15:\tlearn: 141299.0673809\ttotal: 592ms\tremaining: 3.1s\n",
      "16:\tlearn: 137249.3828847\ttotal: 631ms\tremaining: 3.08s\n",
      "17:\tlearn: 133848.8332535\ttotal: 670ms\tremaining: 3.05s\n",
      "18:\tlearn: 130643.6997018\ttotal: 710ms\tremaining: 3.03s\n",
      "19:\tlearn: 127586.2310200\ttotal: 749ms\tremaining: 3s\n",
      "20:\tlearn: 124894.5755293\ttotal: 786ms\tremaining: 2.96s\n",
      "21:\tlearn: 122518.9558784\ttotal: 816ms\tremaining: 2.89s\n",
      "22:\tlearn: 120259.6224396\ttotal: 847ms\tremaining: 2.84s\n",
      "23:\tlearn: 118046.0331887\ttotal: 878ms\tremaining: 2.78s\n",
      "24:\tlearn: 116410.9544939\ttotal: 909ms\tremaining: 2.73s\n",
      "25:\tlearn: 114692.8748218\ttotal: 940ms\tremaining: 2.67s\n",
      "26:\tlearn: 113231.0618592\ttotal: 971ms\tremaining: 2.63s\n",
      "27:\tlearn: 111871.5172827\ttotal: 1s\tremaining: 2.58s\n",
      "28:\tlearn: 110646.7587496\ttotal: 1.03s\tremaining: 2.53s\n",
      "29:\tlearn: 109678.4836695\ttotal: 1.06s\tremaining: 2.49s\n",
      "30:\tlearn: 108380.7603398\ttotal: 1.1s\tremaining: 2.44s\n",
      "31:\tlearn: 107399.9346274\ttotal: 1.13s\tremaining: 2.4s\n",
      "32:\tlearn: 106470.9445128\ttotal: 1.16s\tremaining: 2.35s\n",
      "33:\tlearn: 105710.9381263\ttotal: 1.19s\tremaining: 2.31s\n",
      "34:\tlearn: 104781.4945729\ttotal: 1.22s\tremaining: 2.27s\n",
      "35:\tlearn: 104103.4347777\ttotal: 1.25s\tremaining: 2.23s\n",
      "36:\tlearn: 103371.5262967\ttotal: 1.28s\tremaining: 2.19s\n",
      "37:\tlearn: 102519.2292099\ttotal: 1.32s\tremaining: 2.15s\n",
      "38:\tlearn: 101861.1539077\ttotal: 1.35s\tremaining: 2.12s\n",
      "39:\tlearn: 101359.8863208\ttotal: 1.39s\tremaining: 2.08s\n",
      "40:\tlearn: 100781.6955545\ttotal: 1.42s\tremaining: 2.04s\n",
      "41:\tlearn: 100294.2899053\ttotal: 1.45s\tremaining: 2s\n",
      "42:\tlearn: 99757.8078677\ttotal: 1.48s\tremaining: 1.97s\n",
      "43:\tlearn: 99298.4912004\ttotal: 1.51s\tremaining: 1.93s\n",
      "44:\tlearn: 98810.5897200\ttotal: 1.55s\tremaining: 1.89s\n",
      "45:\tlearn: 98244.1216700\ttotal: 1.59s\tremaining: 1.86s\n",
      "46:\tlearn: 97853.7437276\ttotal: 1.63s\tremaining: 1.83s\n",
      "47:\tlearn: 97507.9295100\ttotal: 1.66s\tremaining: 1.8s\n",
      "48:\tlearn: 97126.9422953\ttotal: 1.7s\tremaining: 1.77s\n",
      "49:\tlearn: 96629.1938286\ttotal: 1.74s\tremaining: 1.74s\n",
      "50:\tlearn: 96125.1948222\ttotal: 1.78s\tremaining: 1.71s\n",
      "51:\tlearn: 95831.5905242\ttotal: 1.82s\tremaining: 1.68s\n",
      "52:\tlearn: 95517.8832330\ttotal: 1.86s\tremaining: 1.65s\n",
      "53:\tlearn: 95333.9288961\ttotal: 1.9s\tremaining: 1.62s\n",
      "54:\tlearn: 95051.3073428\ttotal: 1.94s\tremaining: 1.58s\n",
      "55:\tlearn: 94660.6122568\ttotal: 1.98s\tremaining: 1.55s\n",
      "56:\tlearn: 94420.0546471\ttotal: 2.02s\tremaining: 1.52s\n",
      "57:\tlearn: 94027.1672440\ttotal: 2.06s\tremaining: 1.49s\n",
      "58:\tlearn: 93659.1177792\ttotal: 2.1s\tremaining: 1.46s\n",
      "59:\tlearn: 93423.2271717\ttotal: 2.13s\tremaining: 1.42s\n",
      "60:\tlearn: 93052.3918203\ttotal: 2.17s\tremaining: 1.39s\n",
      "61:\tlearn: 92872.9936347\ttotal: 2.21s\tremaining: 1.35s\n",
      "62:\tlearn: 92743.4337274\ttotal: 2.25s\tremaining: 1.32s\n",
      "63:\tlearn: 92406.2426788\ttotal: 2.29s\tremaining: 1.29s\n",
      "64:\tlearn: 92054.6187815\ttotal: 2.33s\tremaining: 1.25s\n",
      "65:\tlearn: 91878.0389352\ttotal: 2.37s\tremaining: 1.22s\n",
      "66:\tlearn: 91595.2860773\ttotal: 2.41s\tremaining: 1.19s\n",
      "67:\tlearn: 91415.6670590\ttotal: 2.45s\tremaining: 1.15s\n",
      "68:\tlearn: 91197.6118357\ttotal: 2.48s\tremaining: 1.12s\n",
      "69:\tlearn: 91019.3006884\ttotal: 2.51s\tremaining: 1.08s\n",
      "70:\tlearn: 90726.0387605\ttotal: 2.55s\tremaining: 1.04s\n",
      "71:\tlearn: 90514.7887459\ttotal: 2.58s\tremaining: 1s\n",
      "72:\tlearn: 90348.4434650\ttotal: 2.62s\tremaining: 968ms\n",
      "73:\tlearn: 90099.1158070\ttotal: 2.65s\tremaining: 931ms\n",
      "74:\tlearn: 89866.1276404\ttotal: 2.68s\tremaining: 894ms\n",
      "75:\tlearn: 89604.5483919\ttotal: 2.71s\tremaining: 857ms\n",
      "76:\tlearn: 89268.3103523\ttotal: 2.75s\tremaining: 820ms\n",
      "77:\tlearn: 88952.0096115\ttotal: 2.78s\tremaining: 784ms\n",
      "78:\tlearn: 88558.1603521\ttotal: 2.81s\tremaining: 747ms\n",
      "79:\tlearn: 88358.3200474\ttotal: 2.84s\tremaining: 710ms\n",
      "80:\tlearn: 88021.0752794\ttotal: 2.87s\tremaining: 674ms\n",
      "81:\tlearn: 87707.3916891\ttotal: 2.9s\tremaining: 637ms\n",
      "82:\tlearn: 87536.7018620\ttotal: 2.93s\tremaining: 601ms\n",
      "83:\tlearn: 87284.4469555\ttotal: 2.97s\tremaining: 565ms\n",
      "84:\tlearn: 87105.9036597\ttotal: 3s\tremaining: 529ms\n",
      "85:\tlearn: 86813.6432411\ttotal: 3.03s\tremaining: 493ms\n",
      "86:\tlearn: 86643.6474295\ttotal: 3.06s\tremaining: 458ms\n",
      "87:\tlearn: 86330.8022806\ttotal: 3.09s\tremaining: 422ms\n",
      "88:\tlearn: 86141.4113689\ttotal: 3.13s\tremaining: 387ms\n",
      "89:\tlearn: 85889.8694980\ttotal: 3.17s\tremaining: 352ms\n",
      "90:\tlearn: 85655.8061072\ttotal: 3.21s\tremaining: 317ms\n",
      "91:\tlearn: 85513.7173491\ttotal: 3.24s\tremaining: 282ms\n",
      "92:\tlearn: 85381.7842565\ttotal: 3.28s\tremaining: 247ms\n",
      "93:\tlearn: 85183.0341360\ttotal: 3.31s\tremaining: 212ms\n",
      "94:\tlearn: 84889.4703466\ttotal: 3.35s\tremaining: 176ms\n",
      "95:\tlearn: 84608.7891241\ttotal: 3.39s\tremaining: 141ms\n",
      "96:\tlearn: 84315.4975364\ttotal: 3.42s\tremaining: 106ms\n",
      "97:\tlearn: 84117.0130128\ttotal: 3.46s\tremaining: 70.6ms\n",
      "98:\tlearn: 83955.7457040\ttotal: 3.49s\tremaining: 35.3ms\n",
      "99:\tlearn: 83732.6396087\ttotal: 3.53s\tremaining: 0us\n",
      "0:\tlearn: 305634.3887591\ttotal: 41.6ms\tremaining: 4.12s\n",
      "1:\tlearn: 284147.2021237\ttotal: 81.3ms\tremaining: 3.98s\n",
      "2:\tlearn: 264622.9432756\ttotal: 120ms\tremaining: 3.87s\n",
      "3:\tlearn: 247288.5487618\ttotal: 157ms\tremaining: 3.78s\n",
      "4:\tlearn: 231443.1598919\ttotal: 189ms\tremaining: 3.59s\n",
      "5:\tlearn: 217874.5439311\ttotal: 220ms\tremaining: 3.45s\n",
      "6:\tlearn: 205336.7046516\ttotal: 252ms\tremaining: 3.35s\n",
      "7:\tlearn: 194365.8529690\ttotal: 284ms\tremaining: 3.27s\n",
      "8:\tlearn: 184549.6862491\ttotal: 315ms\tremaining: 3.18s\n",
      "9:\tlearn: 175735.1204222\ttotal: 345ms\tremaining: 3.1s\n",
      "10:\tlearn: 168179.0157393\ttotal: 378ms\tremaining: 3.06s\n",
      "11:\tlearn: 160958.1100312\ttotal: 411ms\tremaining: 3.01s\n",
      "12:\tlearn: 154871.7675048\ttotal: 442ms\tremaining: 2.96s\n",
      "13:\tlearn: 149284.9146856\ttotal: 475ms\tremaining: 2.92s\n",
      "14:\tlearn: 144128.1561174\ttotal: 517ms\tremaining: 2.93s\n",
      "15:\tlearn: 139857.6868715\ttotal: 559ms\tremaining: 2.93s\n",
      "16:\tlearn: 135744.1589073\ttotal: 598ms\tremaining: 2.92s\n",
      "17:\tlearn: 132443.6665865\ttotal: 638ms\tremaining: 2.9s\n",
      "18:\tlearn: 129309.1711739\ttotal: 677ms\tremaining: 2.89s\n",
      "19:\tlearn: 126521.0547634\ttotal: 716ms\tremaining: 2.86s\n",
      "20:\tlearn: 123818.1008302\ttotal: 755ms\tremaining: 2.84s\n",
      "21:\tlearn: 121506.1183362\ttotal: 794ms\tremaining: 2.81s\n",
      "22:\tlearn: 119385.2937279\ttotal: 832ms\tremaining: 2.79s\n",
      "23:\tlearn: 117306.6544533\ttotal: 871ms\tremaining: 2.76s\n",
      "24:\tlearn: 115635.9411136\ttotal: 911ms\tremaining: 2.73s\n",
      "25:\tlearn: 113999.9963350\ttotal: 951ms\tremaining: 2.71s\n",
      "26:\tlearn: 112610.5863807\ttotal: 991ms\tremaining: 2.68s\n",
      "27:\tlearn: 111306.6182409\ttotal: 1.03s\tremaining: 2.65s\n",
      "28:\tlearn: 110063.6899921\ttotal: 1.07s\tremaining: 2.62s\n",
      "29:\tlearn: 108921.5990769\ttotal: 1.11s\tremaining: 2.59s\n",
      "30:\tlearn: 107948.9097008\ttotal: 1.15s\tremaining: 2.56s\n",
      "31:\tlearn: 106939.3628210\ttotal: 1.19s\tremaining: 2.53s\n",
      "32:\tlearn: 106174.3498622\ttotal: 1.23s\tremaining: 2.49s\n",
      "33:\tlearn: 105196.7654785\ttotal: 1.27s\tremaining: 2.46s\n",
      "34:\tlearn: 104462.7186822\ttotal: 1.3s\tremaining: 2.42s\n",
      "35:\tlearn: 103735.3694715\ttotal: 1.34s\tremaining: 2.39s\n",
      "36:\tlearn: 102979.8177210\ttotal: 1.38s\tremaining: 2.35s\n",
      "37:\tlearn: 102311.5401464\ttotal: 1.42s\tremaining: 2.32s\n",
      "38:\tlearn: 101671.9740561\ttotal: 1.46s\tremaining: 2.29s\n",
      "39:\tlearn: 101111.3939816\ttotal: 1.5s\tremaining: 2.25s\n",
      "40:\tlearn: 100625.2278775\ttotal: 1.54s\tremaining: 2.22s\n",
      "41:\tlearn: 100131.1091614\ttotal: 1.58s\tremaining: 2.18s\n",
      "42:\tlearn: 99511.2628913\ttotal: 1.62s\tremaining: 2.15s\n",
      "43:\tlearn: 99050.5308841\ttotal: 1.66s\tremaining: 2.11s\n",
      "44:\tlearn: 98632.3904180\ttotal: 1.7s\tremaining: 2.08s\n",
      "45:\tlearn: 98165.4063137\ttotal: 1.74s\tremaining: 2.04s\n",
      "46:\tlearn: 97662.1194200\ttotal: 1.77s\tremaining: 2s\n",
      "47:\tlearn: 97294.1667602\ttotal: 1.81s\tremaining: 1.96s\n",
      "48:\tlearn: 96976.1162727\ttotal: 1.85s\tremaining: 1.93s\n",
      "49:\tlearn: 96510.0683792\ttotal: 1.89s\tremaining: 1.89s\n",
      "50:\tlearn: 96159.0028364\ttotal: 1.93s\tremaining: 1.85s\n",
      "51:\tlearn: 95864.4447686\ttotal: 1.97s\tremaining: 1.82s\n",
      "52:\tlearn: 95606.6852715\ttotal: 2.01s\tremaining: 1.78s\n",
      "53:\tlearn: 95398.4153943\ttotal: 2.05s\tremaining: 1.74s\n",
      "54:\tlearn: 94995.4083640\ttotal: 2.09s\tremaining: 1.71s\n",
      "55:\tlearn: 94696.6670514\ttotal: 2.13s\tremaining: 1.67s\n",
      "56:\tlearn: 94358.0141375\ttotal: 2.16s\tremaining: 1.63s\n",
      "57:\tlearn: 94120.2312832\ttotal: 2.2s\tremaining: 1.59s\n"
     ]
    },
    {
     "name": "stdout",
     "output_type": "stream",
     "text": [
      "58:\tlearn: 93844.8006009\ttotal: 2.24s\tremaining: 1.56s\n",
      "59:\tlearn: 93673.8550899\ttotal: 2.28s\tremaining: 1.52s\n",
      "60:\tlearn: 93417.3829037\ttotal: 2.32s\tremaining: 1.48s\n",
      "61:\tlearn: 93269.1285005\ttotal: 2.36s\tremaining: 1.45s\n",
      "62:\tlearn: 93019.9183469\ttotal: 2.4s\tremaining: 1.41s\n",
      "63:\tlearn: 92763.5068266\ttotal: 2.44s\tremaining: 1.37s\n",
      "64:\tlearn: 92518.6860949\ttotal: 2.48s\tremaining: 1.33s\n",
      "65:\tlearn: 92335.2284293\ttotal: 2.52s\tremaining: 1.3s\n",
      "66:\tlearn: 91967.4331327\ttotal: 2.56s\tremaining: 1.26s\n",
      "67:\tlearn: 91788.1157663\ttotal: 2.6s\tremaining: 1.22s\n",
      "68:\tlearn: 91485.1500483\ttotal: 2.63s\tremaining: 1.18s\n",
      "69:\tlearn: 91226.7784258\ttotal: 2.67s\tremaining: 1.15s\n",
      "70:\tlearn: 90890.9335791\ttotal: 2.71s\tremaining: 1.11s\n",
      "71:\tlearn: 90714.5090473\ttotal: 2.75s\tremaining: 1.07s\n",
      "72:\tlearn: 90514.6511883\ttotal: 2.79s\tremaining: 1.03s\n",
      "73:\tlearn: 90278.1671372\ttotal: 2.83s\tremaining: 994ms\n",
      "74:\tlearn: 90091.9523915\ttotal: 2.87s\tremaining: 956ms\n",
      "75:\tlearn: 89882.6879968\ttotal: 2.91s\tremaining: 918ms\n",
      "76:\tlearn: 89592.9867468\ttotal: 2.95s\tremaining: 880ms\n",
      "77:\tlearn: 89258.4408709\ttotal: 2.99s\tremaining: 843ms\n",
      "78:\tlearn: 88875.4605864\ttotal: 3.03s\tremaining: 805ms\n",
      "79:\tlearn: 88628.1953129\ttotal: 3.07s\tremaining: 767ms\n",
      "80:\tlearn: 88296.7151470\ttotal: 3.1s\tremaining: 728ms\n",
      "81:\tlearn: 88102.7829158\ttotal: 3.14s\tremaining: 690ms\n",
      "82:\tlearn: 87900.4650462\ttotal: 3.18s\tremaining: 652ms\n",
      "83:\tlearn: 87642.5541522\ttotal: 3.22s\tremaining: 614ms\n",
      "84:\tlearn: 87385.1312078\ttotal: 3.26s\tremaining: 575ms\n",
      "85:\tlearn: 87207.9462183\ttotal: 3.3s\tremaining: 537ms\n",
      "86:\tlearn: 86972.1972113\ttotal: 3.34s\tremaining: 499ms\n",
      "87:\tlearn: 86759.6928280\ttotal: 3.38s\tremaining: 461ms\n",
      "88:\tlearn: 86588.4036547\ttotal: 3.42s\tremaining: 422ms\n",
      "89:\tlearn: 86395.1273800\ttotal: 3.45s\tremaining: 383ms\n",
      "90:\tlearn: 86214.2024283\ttotal: 3.47s\tremaining: 343ms\n",
      "91:\tlearn: 86028.3949816\ttotal: 3.49s\tremaining: 304ms\n",
      "92:\tlearn: 85864.0143287\ttotal: 3.52s\tremaining: 265ms\n",
      "93:\tlearn: 85689.1484034\ttotal: 3.56s\tremaining: 227ms\n",
      "94:\tlearn: 85504.8930426\ttotal: 3.59s\tremaining: 189ms\n",
      "95:\tlearn: 85249.4210798\ttotal: 3.62s\tremaining: 151ms\n",
      "96:\tlearn: 85058.0762767\ttotal: 3.65s\tremaining: 113ms\n",
      "97:\tlearn: 84823.1252836\ttotal: 3.68s\tremaining: 75.2ms\n",
      "98:\tlearn: 84671.5073750\ttotal: 3.71s\tremaining: 37.5ms\n",
      "99:\tlearn: 84576.0802974\ttotal: 3.74s\tremaining: 0us\n",
      "0:\tlearn: 307549.4167407\ttotal: 37.7ms\tremaining: 3.74s\n",
      "1:\tlearn: 286223.9507471\ttotal: 77.2ms\tremaining: 3.78s\n",
      "2:\tlearn: 266225.7392376\ttotal: 116ms\tremaining: 3.74s\n",
      "3:\tlearn: 248690.9746994\ttotal: 155ms\tremaining: 3.72s\n",
      "4:\tlearn: 233480.2397839\ttotal: 194ms\tremaining: 3.69s\n",
      "5:\tlearn: 219550.0695197\ttotal: 233ms\tremaining: 3.64s\n",
      "6:\tlearn: 207194.9351726\ttotal: 247ms\tremaining: 3.28s\n",
      "7:\tlearn: 195810.0364374\ttotal: 285ms\tremaining: 3.28s\n",
      "8:\tlearn: 186243.9547437\ttotal: 324ms\tremaining: 3.27s\n",
      "9:\tlearn: 176980.7324253\ttotal: 355ms\tremaining: 3.19s\n",
      "10:\tlearn: 168866.0381836\ttotal: 385ms\tremaining: 3.11s\n",
      "11:\tlearn: 161803.7085175\ttotal: 415ms\tremaining: 3.04s\n",
      "12:\tlearn: 155581.8935760\ttotal: 447ms\tremaining: 2.99s\n",
      "13:\tlearn: 149788.5845149\ttotal: 478ms\tremaining: 2.93s\n",
      "14:\tlearn: 144737.8201409\ttotal: 508ms\tremaining: 2.88s\n",
      "15:\tlearn: 140256.2774790\ttotal: 540ms\tremaining: 2.83s\n",
      "16:\tlearn: 136433.0384574\ttotal: 571ms\tremaining: 2.79s\n",
      "17:\tlearn: 132656.1291520\ttotal: 603ms\tremaining: 2.74s\n",
      "18:\tlearn: 129621.3749806\ttotal: 634ms\tremaining: 2.7s\n",
      "19:\tlearn: 126797.1257524\ttotal: 665ms\tremaining: 2.66s\n",
      "20:\tlearn: 124185.5436262\ttotal: 696ms\tremaining: 2.62s\n",
      "21:\tlearn: 121732.8613680\ttotal: 728ms\tremaining: 2.58s\n",
      "22:\tlearn: 119475.0121149\ttotal: 759ms\tremaining: 2.54s\n",
      "23:\tlearn: 117526.5149145\ttotal: 789ms\tremaining: 2.5s\n",
      "24:\tlearn: 115715.2385913\ttotal: 820ms\tremaining: 2.46s\n",
      "25:\tlearn: 114316.1413044\ttotal: 851ms\tremaining: 2.42s\n",
      "26:\tlearn: 112665.6790720\ttotal: 883ms\tremaining: 2.39s\n",
      "27:\tlearn: 111454.1657019\ttotal: 914ms\tremaining: 2.35s\n",
      "28:\tlearn: 110022.4925872\ttotal: 945ms\tremaining: 2.31s\n",
      "29:\tlearn: 108714.0144800\ttotal: 976ms\tremaining: 2.28s\n",
      "30:\tlearn: 107567.6461326\ttotal: 1.01s\tremaining: 2.24s\n",
      "31:\tlearn: 106536.1170918\ttotal: 1.04s\tremaining: 2.21s\n",
      "32:\tlearn: 105667.4211693\ttotal: 1.07s\tremaining: 2.17s\n",
      "33:\tlearn: 104729.9204869\ttotal: 1.1s\tremaining: 2.14s\n",
      "34:\tlearn: 103807.6261956\ttotal: 1.13s\tremaining: 2.1s\n",
      "35:\tlearn: 103030.7542126\ttotal: 1.16s\tremaining: 2.07s\n",
      "36:\tlearn: 102318.7680960\ttotal: 1.2s\tremaining: 2.04s\n",
      "37:\tlearn: 101679.1775505\ttotal: 1.23s\tremaining: 2s\n",
      "38:\tlearn: 100915.5831788\ttotal: 1.26s\tremaining: 1.97s\n",
      "39:\tlearn: 100176.4573607\ttotal: 1.29s\tremaining: 1.94s\n",
      "40:\tlearn: 99592.2427260\ttotal: 1.33s\tremaining: 1.92s\n",
      "41:\tlearn: 99107.2176922\ttotal: 1.37s\tremaining: 1.89s\n",
      "42:\tlearn: 98708.7991010\ttotal: 1.4s\tremaining: 1.86s\n",
      "43:\tlearn: 98296.3053303\ttotal: 1.44s\tremaining: 1.83s\n",
      "44:\tlearn: 97798.9820305\ttotal: 1.47s\tremaining: 1.8s\n",
      "45:\tlearn: 97287.3601640\ttotal: 1.51s\tremaining: 1.77s\n",
      "46:\tlearn: 96748.1124280\ttotal: 1.55s\tremaining: 1.74s\n",
      "47:\tlearn: 96401.6989239\ttotal: 1.58s\tremaining: 1.71s\n",
      "48:\tlearn: 96075.0631273\ttotal: 1.62s\tremaining: 1.68s\n",
      "49:\tlearn: 95706.1450412\ttotal: 1.65s\tremaining: 1.65s\n",
      "50:\tlearn: 95429.0635517\ttotal: 1.69s\tremaining: 1.62s\n",
      "51:\tlearn: 95158.5815575\ttotal: 1.73s\tremaining: 1.59s\n",
      "52:\tlearn: 94741.4761385\ttotal: 1.76s\tremaining: 1.56s\n",
      "53:\tlearn: 94485.8802519\ttotal: 1.8s\tremaining: 1.53s\n",
      "54:\tlearn: 94177.4824895\ttotal: 1.83s\tremaining: 1.5s\n",
      "55:\tlearn: 93864.0389443\ttotal: 1.87s\tremaining: 1.47s\n",
      "56:\tlearn: 93538.2237877\ttotal: 1.91s\tremaining: 1.44s\n",
      "57:\tlearn: 93283.6945675\ttotal: 1.94s\tremaining: 1.41s\n",
      "58:\tlearn: 92878.9310904\ttotal: 1.97s\tremaining: 1.37s\n",
      "59:\tlearn: 92554.5116515\ttotal: 2.01s\tremaining: 1.34s\n",
      "60:\tlearn: 92340.4202352\ttotal: 2.04s\tremaining: 1.3s\n",
      "61:\tlearn: 92101.4265858\ttotal: 2.07s\tremaining: 1.27s\n",
      "62:\tlearn: 91628.1448610\ttotal: 2.1s\tremaining: 1.23s\n",
      "63:\tlearn: 91354.3610921\ttotal: 2.13s\tremaining: 1.2s\n",
      "64:\tlearn: 90978.0947900\ttotal: 2.16s\tremaining: 1.16s\n",
      "65:\tlearn: 90761.4937523\ttotal: 2.19s\tremaining: 1.13s\n",
      "66:\tlearn: 90480.7682705\ttotal: 2.23s\tremaining: 1.1s\n",
      "67:\tlearn: 90277.2751712\ttotal: 2.26s\tremaining: 1.06s\n",
      "68:\tlearn: 89933.8974256\ttotal: 2.29s\tremaining: 1.03s\n",
      "69:\tlearn: 89644.0127045\ttotal: 2.32s\tremaining: 994ms\n",
      "70:\tlearn: 89311.6379077\ttotal: 2.35s\tremaining: 960ms\n",
      "71:\tlearn: 88878.6550225\ttotal: 2.38s\tremaining: 927ms\n",
      "72:\tlearn: 88735.2495899\ttotal: 2.42s\tremaining: 894ms\n",
      "73:\tlearn: 88636.1555203\ttotal: 2.45s\tremaining: 860ms\n",
      "74:\tlearn: 88357.7333880\ttotal: 2.48s\tremaining: 827ms\n",
      "75:\tlearn: 88029.3564084\ttotal: 2.51s\tremaining: 793ms\n",
      "76:\tlearn: 87775.9481570\ttotal: 2.54s\tremaining: 760ms\n",
      "77:\tlearn: 87591.3548164\ttotal: 2.58s\tremaining: 726ms\n",
      "78:\tlearn: 87426.6361622\ttotal: 2.61s\tremaining: 693ms\n",
      "79:\tlearn: 87151.5314655\ttotal: 2.64s\tremaining: 660ms\n",
      "80:\tlearn: 86869.6049554\ttotal: 2.67s\tremaining: 627ms\n",
      "81:\tlearn: 86622.2166441\ttotal: 2.7s\tremaining: 594ms\n",
      "82:\tlearn: 86386.3809884\ttotal: 2.74s\tremaining: 560ms\n",
      "83:\tlearn: 86085.8804055\ttotal: 2.77s\tremaining: 527ms\n",
      "84:\tlearn: 85746.3855232\ttotal: 2.8s\tremaining: 494ms\n",
      "85:\tlearn: 85594.7090021\ttotal: 2.83s\tremaining: 461ms\n",
      "86:\tlearn: 85350.5604186\ttotal: 2.86s\tremaining: 428ms\n",
      "87:\tlearn: 84968.7279629\ttotal: 2.89s\tremaining: 395ms\n",
      "88:\tlearn: 84816.1561174\ttotal: 2.92s\tremaining: 362ms\n",
      "89:\tlearn: 84506.1913017\ttotal: 2.96s\tremaining: 329ms\n",
      "90:\tlearn: 84254.6499332\ttotal: 2.99s\tremaining: 296ms\n",
      "91:\tlearn: 83980.9895861\ttotal: 3.02s\tremaining: 263ms\n",
      "92:\tlearn: 83697.0120700\ttotal: 3.05s\tremaining: 230ms\n",
      "93:\tlearn: 83466.3985853\ttotal: 3.08s\tremaining: 197ms\n",
      "94:\tlearn: 83167.4682596\ttotal: 3.12s\tremaining: 164ms\n",
      "95:\tlearn: 82959.3776168\ttotal: 3.15s\tremaining: 131ms\n",
      "96:\tlearn: 82787.3784393\ttotal: 3.18s\tremaining: 98.3ms\n",
      "97:\tlearn: 82565.9466184\ttotal: 3.21s\tremaining: 65.5ms\n",
      "98:\tlearn: 82396.2491688\ttotal: 3.24s\tremaining: 32.7ms\n",
      "99:\tlearn: 82119.2887356\ttotal: 3.27s\tremaining: 0us\n",
      "0:\tlearn: 308231.6278821\ttotal: 38.4ms\tremaining: 3.8s\n",
      "1:\tlearn: 286708.1881973\ttotal: 77.6ms\tremaining: 3.8s\n",
      "2:\tlearn: 266809.9003003\ttotal: 117ms\tremaining: 3.77s\n",
      "3:\tlearn: 249091.0271320\ttotal: 155ms\tremaining: 3.73s\n",
      "4:\tlearn: 233457.8114209\ttotal: 193ms\tremaining: 3.67s\n",
      "5:\tlearn: 219676.0856123\ttotal: 232ms\tremaining: 3.63s\n",
      "6:\tlearn: 207365.9835834\ttotal: 272ms\tremaining: 3.61s\n",
      "7:\tlearn: 196278.5184363\ttotal: 311ms\tremaining: 3.57s\n",
      "8:\tlearn: 186713.0756048\ttotal: 350ms\tremaining: 3.54s\n",
      "9:\tlearn: 178316.4935228\ttotal: 389ms\tremaining: 3.5s\n",
      "10:\tlearn: 170791.7887404\ttotal: 428ms\tremaining: 3.46s\n"
     ]
    },
    {
     "name": "stdout",
     "output_type": "stream",
     "text": [
      "11:\tlearn: 163425.2651287\ttotal: 467ms\tremaining: 3.43s\n",
      "12:\tlearn: 157210.4072893\ttotal: 506ms\tremaining: 3.39s\n",
      "13:\tlearn: 151505.8301026\ttotal: 545ms\tremaining: 3.35s\n",
      "14:\tlearn: 146120.4708809\ttotal: 584ms\tremaining: 3.31s\n",
      "15:\tlearn: 141754.2842260\ttotal: 623ms\tremaining: 3.27s\n",
      "16:\tlearn: 137916.2723096\ttotal: 662ms\tremaining: 3.23s\n",
      "17:\tlearn: 134235.7050417\ttotal: 701ms\tremaining: 3.19s\n",
      "18:\tlearn: 131016.4369935\ttotal: 740ms\tremaining: 3.15s\n",
      "19:\tlearn: 127721.2868887\ttotal: 779ms\tremaining: 3.11s\n",
      "20:\tlearn: 125056.2940339\ttotal: 817ms\tremaining: 3.07s\n",
      "21:\tlearn: 122659.4981807\ttotal: 856ms\tremaining: 3.03s\n",
      "22:\tlearn: 120585.2106703\ttotal: 896ms\tremaining: 3s\n",
      "23:\tlearn: 118372.3832853\ttotal: 935ms\tremaining: 2.96s\n",
      "24:\tlearn: 116580.0685322\ttotal: 974ms\tremaining: 2.92s\n",
      "25:\tlearn: 114791.8622587\ttotal: 1.01s\tremaining: 2.88s\n",
      "26:\tlearn: 113321.6568373\ttotal: 1.05s\tremaining: 2.85s\n",
      "27:\tlearn: 111929.7107252\ttotal: 1.09s\tremaining: 2.81s\n",
      "28:\tlearn: 110630.3916637\ttotal: 1.13s\tremaining: 2.77s\n",
      "29:\tlearn: 109457.3737349\ttotal: 1.17s\tremaining: 2.73s\n",
      "30:\tlearn: 108475.5903830\ttotal: 1.21s\tremaining: 2.69s\n",
      "31:\tlearn: 107558.7942212\ttotal: 1.25s\tremaining: 2.65s\n",
      "32:\tlearn: 106559.0086469\ttotal: 1.29s\tremaining: 2.62s\n",
      "33:\tlearn: 105570.4689796\ttotal: 1.33s\tremaining: 2.58s\n",
      "34:\tlearn: 104726.0140297\ttotal: 1.37s\tremaining: 2.54s\n",
      "35:\tlearn: 103894.0976441\ttotal: 1.41s\tremaining: 2.5s\n",
      "36:\tlearn: 103202.8551337\ttotal: 1.45s\tremaining: 2.46s\n",
      "37:\tlearn: 102612.2518516\ttotal: 1.49s\tremaining: 2.43s\n",
      "38:\tlearn: 102048.6220153\ttotal: 1.53s\tremaining: 2.39s\n",
      "39:\tlearn: 101575.4095841\ttotal: 1.57s\tremaining: 2.35s\n",
      "40:\tlearn: 100923.3232562\ttotal: 1.61s\tremaining: 2.31s\n",
      "41:\tlearn: 100498.8509468\ttotal: 1.65s\tremaining: 2.28s\n",
      "42:\tlearn: 100070.9968891\ttotal: 1.69s\tremaining: 2.24s\n",
      "43:\tlearn: 99717.5212192\ttotal: 1.73s\tremaining: 2.2s\n",
      "44:\tlearn: 99217.9677946\ttotal: 1.77s\tremaining: 2.16s\n",
      "45:\tlearn: 98889.4674553\ttotal: 1.81s\tremaining: 2.12s\n",
      "46:\tlearn: 98554.9308658\ttotal: 1.85s\tremaining: 2.08s\n",
      "47:\tlearn: 98210.5092560\ttotal: 1.89s\tremaining: 2.05s\n",
      "48:\tlearn: 97728.1041307\ttotal: 1.93s\tremaining: 2.01s\n",
      "49:\tlearn: 97167.7952306\ttotal: 1.97s\tremaining: 1.97s\n",
      "50:\tlearn: 96866.9308685\ttotal: 2s\tremaining: 1.93s\n",
      "51:\tlearn: 96618.9779216\ttotal: 2.05s\tremaining: 1.89s\n",
      "52:\tlearn: 96375.7523162\ttotal: 2.09s\tremaining: 1.85s\n",
      "53:\tlearn: 96027.8735777\ttotal: 2.13s\tremaining: 1.81s\n",
      "54:\tlearn: 95733.3613322\ttotal: 2.17s\tremaining: 1.77s\n",
      "55:\tlearn: 95499.9523154\ttotal: 2.21s\tremaining: 1.73s\n",
      "56:\tlearn: 95124.6727475\ttotal: 2.25s\tremaining: 1.69s\n",
      "57:\tlearn: 94890.3637067\ttotal: 2.29s\tremaining: 1.65s\n",
      "58:\tlearn: 94587.9844856\ttotal: 2.32s\tremaining: 1.61s\n",
      "59:\tlearn: 94432.0575798\ttotal: 2.36s\tremaining: 1.58s\n",
      "60:\tlearn: 94161.3897953\ttotal: 2.4s\tremaining: 1.54s\n",
      "61:\tlearn: 93986.2077169\ttotal: 2.44s\tremaining: 1.5s\n",
      "62:\tlearn: 93564.0376702\ttotal: 2.48s\tremaining: 1.46s\n",
      "63:\tlearn: 93266.4178884\ttotal: 2.52s\tremaining: 1.42s\n",
      "64:\tlearn: 92960.1641364\ttotal: 2.56s\tremaining: 1.38s\n",
      "65:\tlearn: 92825.3267438\ttotal: 2.6s\tremaining: 1.34s\n",
      "66:\tlearn: 92499.1591751\ttotal: 2.64s\tremaining: 1.3s\n",
      "67:\tlearn: 92317.7498964\ttotal: 2.68s\tremaining: 1.26s\n",
      "68:\tlearn: 92144.6362955\ttotal: 2.72s\tremaining: 1.22s\n",
      "69:\tlearn: 91957.1234662\ttotal: 2.76s\tremaining: 1.18s\n",
      "70:\tlearn: 91753.8842360\ttotal: 2.8s\tremaining: 1.14s\n",
      "71:\tlearn: 91562.8412201\ttotal: 2.84s\tremaining: 1.1s\n",
      "72:\tlearn: 91217.3302548\ttotal: 2.88s\tremaining: 1.06s\n",
      "73:\tlearn: 90923.5911959\ttotal: 2.92s\tremaining: 1.03s\n",
      "74:\tlearn: 90567.6703737\ttotal: 2.96s\tremaining: 987ms\n",
      "75:\tlearn: 90329.5872790\ttotal: 3s\tremaining: 948ms\n",
      "76:\tlearn: 89982.8331589\ttotal: 3.04s\tremaining: 908ms\n",
      "77:\tlearn: 89814.3234906\ttotal: 3.08s\tremaining: 868ms\n",
      "78:\tlearn: 89513.1575969\ttotal: 3.11s\tremaining: 827ms\n",
      "79:\tlearn: 89247.1241216\ttotal: 3.14s\tremaining: 786ms\n",
      "80:\tlearn: 88984.3091015\ttotal: 3.17s\tremaining: 745ms\n",
      "81:\tlearn: 88568.1169423\ttotal: 3.21s\tremaining: 704ms\n",
      "82:\tlearn: 88315.0520353\ttotal: 3.24s\tremaining: 663ms\n",
      "83:\tlearn: 88180.6285050\ttotal: 3.27s\tremaining: 623ms\n",
      "84:\tlearn: 88067.1636076\ttotal: 3.3s\tremaining: 582ms\n",
      "85:\tlearn: 87779.9342902\ttotal: 3.33s\tremaining: 542ms\n",
      "86:\tlearn: 87510.7265991\ttotal: 3.36s\tremaining: 502ms\n",
      "87:\tlearn: 87308.8750824\ttotal: 3.39s\tremaining: 463ms\n",
      "88:\tlearn: 87054.7237357\ttotal: 3.42s\tremaining: 423ms\n",
      "89:\tlearn: 86769.2052286\ttotal: 3.46s\tremaining: 384ms\n",
      "90:\tlearn: 86547.4757861\ttotal: 3.49s\tremaining: 345ms\n",
      "91:\tlearn: 86349.2840113\ttotal: 3.52s\tremaining: 306ms\n",
      "92:\tlearn: 86069.4113936\ttotal: 3.55s\tremaining: 267ms\n",
      "93:\tlearn: 85776.6717874\ttotal: 3.58s\tremaining: 229ms\n",
      "94:\tlearn: 85498.7743290\ttotal: 3.61s\tremaining: 190ms\n",
      "95:\tlearn: 85201.7172397\ttotal: 3.64s\tremaining: 152ms\n",
      "96:\tlearn: 84774.2227272\ttotal: 3.67s\tremaining: 114ms\n",
      "97:\tlearn: 84495.3983051\ttotal: 3.71s\tremaining: 75.7ms\n",
      "98:\tlearn: 84388.0247408\ttotal: 3.74s\tremaining: 37.8ms\n",
      "99:\tlearn: 84240.5339723\ttotal: 3.77s\tremaining: 0us\n"
     ]
    }
   ],
   "source": [
    "from sklearn.model_selection import cross_validate\n",
    "\n",
    "model_to_pickle = CatBoostRegressor(depth = 10, iterations = 100, learning_rate = 0.1, random_state=RS)\n",
    "all_accuracies = cross_validate(estimator=model_to_pickle, X = X, y = Y, cv=10, scoring = 'r2')"
   ]
  },
  {
   "cell_type": "code",
   "execution_count": 55,
   "id": "53be96f7",
   "metadata": {},
   "outputs": [
    {
     "name": "stdout",
     "output_type": "stream",
     "text": [
      "{'fit_time': array([4.01596975, 4.34188557, 4.06606507, 3.86268926, 4.19919896,\n",
      "       3.92588568, 4.11223817, 3.87468553, 4.14231229, 4.09875274]), 'score_time': array([0.0194931 , 0.01783586, 0.01764321, 0.01691818, 0.01155853,\n",
      "       0.0189774 , 0.00769758, 0.01262712, 0.00958371, 0.00411439]), 'test_score': array([0.69168904, 0.61323581, 0.73655542, 0.73421872, 0.69169796,\n",
      "       0.55569901, 0.53986151, 0.48330393, 0.6915629 , 0.75220769])}\n"
     ]
    }
   ],
   "source": [
    "print(all_accuracies)"
   ]
  },
  {
   "cell_type": "code",
   "execution_count": 74,
   "id": "8cbd5dd0",
   "metadata": {
    "scrolled": true
   },
   "outputs": [
    {
     "name": "stdout",
     "output_type": "stream",
     "text": [
      "In production the accuracy of our model ranges from 0.469684901773902 to 0.8283214976694309 (with 95% confidence)\n"
     ]
    }
   ],
   "source": [
    "avg_score = all_accuracies['test_score'].mean()\n",
    "std = all_accuracies['test_score'].std()\n",
    "std_2 = std * 2\n",
    "production_acc_min = avg_score - std_2\n",
    "production_acc_max = avg_score + std_2\n",
    "print(\"In production the accuracy of our model ranges from {} to {} (with 95% confidence)\".format(production_acc_min, production_acc_max))"
   ]
  },
  {
   "cell_type": "markdown",
   "id": "2911a788",
   "metadata": {},
   "source": [
    "Remember that we got this accuracy by using just 6 features. Definitely we can get better accuracy with more features.\n",
    "\n",
    "I wanted to demonstrate Feature selection, Model tuning, Cross validation and production accuracy in this dataset. So accuracy is secondary to me."
   ]
  },
  {
   "cell_type": "markdown",
   "id": "ff4c9c36",
   "metadata": {},
   "source": [
    "## MODEL PICKLING"
   ]
  },
  {
   "cell_type": "code",
   "execution_count": 75,
   "id": "47bb581f",
   "metadata": {},
   "outputs": [],
   "source": [
    "import pickle\n",
    "# save the model to disk\n",
    "filename = 'finalized_model.sav'\n",
    "pickle.dump(model_to_pickle, open(filename, 'wb'))"
   ]
  },
  {
   "cell_type": "markdown",
   "id": "d72bf618",
   "metadata": {},
   "source": [
    "Please correct me if u find any mistakes in this dataset, i am pretty much new to this domain. Cheers!!!"
   ]
  },
  {
   "cell_type": "markdown",
   "id": "c59825d5",
   "metadata": {},
   "source": [
    "### Thankyou for reading my notebook :)\n",
    "### Happy learning!!!"
   ]
  }
 ],
 "metadata": {
  "kernelspec": {
   "display_name": "Python 3",
   "language": "python",
   "name": "python3"
  },
  "language_info": {
   "codemirror_mode": {
    "name": "ipython",
    "version": 3
   },
   "file_extension": ".py",
   "mimetype": "text/x-python",
   "name": "python",
   "nbconvert_exporter": "python",
   "pygments_lexer": "ipython3",
   "version": "3.8.8"
  }
 },
 "nbformat": 4,
 "nbformat_minor": 5
}
